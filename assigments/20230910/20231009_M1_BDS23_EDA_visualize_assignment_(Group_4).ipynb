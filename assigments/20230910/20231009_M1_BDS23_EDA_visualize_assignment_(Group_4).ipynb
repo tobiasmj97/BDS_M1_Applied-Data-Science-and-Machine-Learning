{
  "cells": [
    {
      "cell_type": "markdown",
      "metadata": {
        "id": "xzZGxAxFtS6n"
      },
      "source": [
        "# **Introduction - HR Attrition**"
      ]
    },
    {
      "cell_type": "markdown",
      "metadata": {
        "id": "iK961Btnvvuj"
      },
      "source": [
        "For this assignment we will be exploring a small scenario. We will create data visualizations using matplotlib.pyplot, seaborn and altair. Ideally you will go through all of the mini assignments and end up with a full analysis of the situation. A notebook with an example of a given solution for each will be provided (eventually), but really this is about learning how to create and interpret these visualizations more intuitively."
      ]
    },
    {
      "cell_type": "markdown",
      "metadata": {
        "id": "Je-zkulxqdm-"
      },
      "source": [
        "This notebook has been created in a way, so that if you're feeling really stuck in one of the mini-assignments, move onto the next one instead. There are ***none*** of the visualizations that depend on each other, and so it is fairly straight forward to create them without panicking if you just cannot get it to work. So let's get started!"
      ]
    },
    {
      "cell_type": "markdown",
      "metadata": {
        "id": "U-vybWMjtZ_e"
      },
      "source": [
        "Imagine the following scenario: You're a data scientist/data analyst at a company, and your HR manager comes up to you and goes;\n",
        "\n",
        "![](https://aaubs.github.io/ds-master/media/M1-aas1-img1.png)"
      ]
    },
    {
      "cell_type": "markdown",
      "metadata": {
        "id": "tET1bUvm81uj"
      },
      "source": [
        "Well, well, well, now we gotta figure out what is going on! Luckily we have access to the historical HR data of the company for this purpose. The HR manager would like to know some of the following key points in particular;\n",
        "1. Which different groups are most likely to churn?\n",
        "2. Based on the available data, what are the possible reasons for these individuals to churn in the first place?\n",
        "3. Is there any indicators as to what kind of incentive we may be able to create to increase retainment, thus reducing the churn rate?"
      ]
    },
    {
      "cell_type": "markdown",
      "metadata": {
        "id": "3JbVzfgn0bFt"
      },
      "source": [
        "# **Import libraries**"
      ]
    },
    {
      "cell_type": "markdown",
      "metadata": {
        "id": "ZQ4_v_jJ0eSd"
      },
      "source": [
        "Some of the module-specific library code set up has already been implemented for this notebook, but you will still need to import some libraries/modules. For this assignment you will need the following libraries:\n",
        "- Altair (https://altair-viz.github.io/)\n",
        "- matplotlib.pyplot (https://matplotlib.org/3.5.3/api/_as_gen/matplotlib.pyplot.html)\n",
        "- Pandas (https://pandas.pydata.org/docs/)\n",
        "- Seaborn (https://seaborn.pydata.org/)"
      ]
    },
    {
      "cell_type": "markdown",
      "metadata": {
        "id": "-Bo-yfW8TUgb"
      },
      "source": [
        "**Import the necessary libraries**"
      ]
    },
    {
      "cell_type": "code",
      "execution_count": 5,
      "metadata": {
        "id": "9GhvvH-R0jlN"
      },
      "outputs": [],
      "source": [
        "#Import libraries\n",
        "import pandas as pd\n",
        "import seaborn as sns\n",
        "import matplotlib.pyplot as plt\n",
        "import altair as alt\n",
        "\n",
        "# Set the Seaborn style to 'ggplot'\n",
        "sns.set(style=\"whitegrid\", palette=\"pastel\", color_codes=True)"
      ]
    },
    {
      "cell_type": "code",
      "source": [
        "# Need to enable this for altair visualizations to show up in Google Colab\n",
        "alt.renderers.enable('colab')"
      ],
      "metadata": {
        "colab": {
          "base_uri": "https://localhost:8080/"
        },
        "id": "ufWq6PhWsu3Y",
        "outputId": "fe0904bb-7e0e-445e-95bd-2b2cad20f8b3"
      },
      "execution_count": 6,
      "outputs": [
        {
          "output_type": "execute_result",
          "data": {
            "text/plain": [
              "RendererRegistry.enable('colab')"
            ]
          },
          "metadata": {},
          "execution_count": 6
        }
      ]
    },
    {
      "cell_type": "markdown",
      "metadata": {
        "id": "j2aWNgiqu5a2"
      },
      "source": [
        "# **Load in the data**"
      ]
    },
    {
      "cell_type": "markdown",
      "metadata": {
        "id": "NpHNquTSi9Vr"
      },
      "source": [
        "Link to the data on Kaggle (You can either try to use the method we (tried) to show you last friday, or alternatively, you can download and drag the .csv file into the folders on the left):\n",
        "- https://www.kaggle.com/datasets/itssuru/hr-employee-attrition"
      ]
    },
    {
      "cell_type": "markdown",
      "metadata": {
        "id": "gYlglM36TlW4"
      },
      "source": [
        "**Load the data into a pandas dataframe.**"
      ]
    },
    {
      "cell_type": "code",
      "execution_count": 7,
      "metadata": {
        "id": "c173-HPMr3J8"
      },
      "outputs": [],
      "source": [
        "file_path = '/content/HR-Employee-Attrition.csv'\n",
        "df = pd.read_csv(file_path, low_memory=False)"
      ]
    },
    {
      "cell_type": "markdown",
      "metadata": {
        "id": "aIh4Gg7HTo-d"
      },
      "source": [
        "**Output the first 5 observations/rows of the dataframe**"
      ]
    },
    {
      "cell_type": "code",
      "execution_count": 8,
      "metadata": {
        "id": "ts2OShkkr3H2",
        "colab": {
          "base_uri": "https://localhost:8080/",
          "height": 325
        },
        "outputId": "f1d79d3d-2910-4b37-f3e8-7d772054691e"
      },
      "outputs": [
        {
          "output_type": "execute_result",
          "data": {
            "text/plain": [
              "   Age Attrition     BusinessTravel  DailyRate              Department  \\\n",
              "0   41       Yes      Travel_Rarely       1102                   Sales   \n",
              "1   49        No  Travel_Frequently        279  Research & Development   \n",
              "2   37       Yes      Travel_Rarely       1373  Research & Development   \n",
              "3   33        No  Travel_Frequently       1392  Research & Development   \n",
              "4   27        No      Travel_Rarely        591  Research & Development   \n",
              "\n",
              "   DistanceFromHome  Education EducationField  EmployeeCount  EmployeeNumber  \\\n",
              "0                 1          2  Life Sciences              1               1   \n",
              "1                 8          1  Life Sciences              1               2   \n",
              "2                 2          2          Other              1               4   \n",
              "3                 3          4  Life Sciences              1               5   \n",
              "4                 2          1        Medical              1               7   \n",
              "\n",
              "   ...  RelationshipSatisfaction StandardHours  StockOptionLevel  \\\n",
              "0  ...                         1            80                 0   \n",
              "1  ...                         4            80                 1   \n",
              "2  ...                         2            80                 0   \n",
              "3  ...                         3            80                 0   \n",
              "4  ...                         4            80                 1   \n",
              "\n",
              "   TotalWorkingYears  TrainingTimesLastYear WorkLifeBalance  YearsAtCompany  \\\n",
              "0                  8                      0               1               6   \n",
              "1                 10                      3               3              10   \n",
              "2                  7                      3               3               0   \n",
              "3                  8                      3               3               8   \n",
              "4                  6                      3               3               2   \n",
              "\n",
              "  YearsInCurrentRole  YearsSinceLastPromotion  YearsWithCurrManager  \n",
              "0                  4                        0                     5  \n",
              "1                  7                        1                     7  \n",
              "2                  0                        0                     0  \n",
              "3                  7                        3                     0  \n",
              "4                  2                        2                     2  \n",
              "\n",
              "[5 rows x 35 columns]"
            ],
            "text/html": [
              "\n",
              "  <div id=\"df-28954c16-4e50-4b8a-93db-d159efb57ef6\" class=\"colab-df-container\">\n",
              "    <div>\n",
              "<style scoped>\n",
              "    .dataframe tbody tr th:only-of-type {\n",
              "        vertical-align: middle;\n",
              "    }\n",
              "\n",
              "    .dataframe tbody tr th {\n",
              "        vertical-align: top;\n",
              "    }\n",
              "\n",
              "    .dataframe thead th {\n",
              "        text-align: right;\n",
              "    }\n",
              "</style>\n",
              "<table border=\"1\" class=\"dataframe\">\n",
              "  <thead>\n",
              "    <tr style=\"text-align: right;\">\n",
              "      <th></th>\n",
              "      <th>Age</th>\n",
              "      <th>Attrition</th>\n",
              "      <th>BusinessTravel</th>\n",
              "      <th>DailyRate</th>\n",
              "      <th>Department</th>\n",
              "      <th>DistanceFromHome</th>\n",
              "      <th>Education</th>\n",
              "      <th>EducationField</th>\n",
              "      <th>EmployeeCount</th>\n",
              "      <th>EmployeeNumber</th>\n",
              "      <th>...</th>\n",
              "      <th>RelationshipSatisfaction</th>\n",
              "      <th>StandardHours</th>\n",
              "      <th>StockOptionLevel</th>\n",
              "      <th>TotalWorkingYears</th>\n",
              "      <th>TrainingTimesLastYear</th>\n",
              "      <th>WorkLifeBalance</th>\n",
              "      <th>YearsAtCompany</th>\n",
              "      <th>YearsInCurrentRole</th>\n",
              "      <th>YearsSinceLastPromotion</th>\n",
              "      <th>YearsWithCurrManager</th>\n",
              "    </tr>\n",
              "  </thead>\n",
              "  <tbody>\n",
              "    <tr>\n",
              "      <th>0</th>\n",
              "      <td>41</td>\n",
              "      <td>Yes</td>\n",
              "      <td>Travel_Rarely</td>\n",
              "      <td>1102</td>\n",
              "      <td>Sales</td>\n",
              "      <td>1</td>\n",
              "      <td>2</td>\n",
              "      <td>Life Sciences</td>\n",
              "      <td>1</td>\n",
              "      <td>1</td>\n",
              "      <td>...</td>\n",
              "      <td>1</td>\n",
              "      <td>80</td>\n",
              "      <td>0</td>\n",
              "      <td>8</td>\n",
              "      <td>0</td>\n",
              "      <td>1</td>\n",
              "      <td>6</td>\n",
              "      <td>4</td>\n",
              "      <td>0</td>\n",
              "      <td>5</td>\n",
              "    </tr>\n",
              "    <tr>\n",
              "      <th>1</th>\n",
              "      <td>49</td>\n",
              "      <td>No</td>\n",
              "      <td>Travel_Frequently</td>\n",
              "      <td>279</td>\n",
              "      <td>Research &amp; Development</td>\n",
              "      <td>8</td>\n",
              "      <td>1</td>\n",
              "      <td>Life Sciences</td>\n",
              "      <td>1</td>\n",
              "      <td>2</td>\n",
              "      <td>...</td>\n",
              "      <td>4</td>\n",
              "      <td>80</td>\n",
              "      <td>1</td>\n",
              "      <td>10</td>\n",
              "      <td>3</td>\n",
              "      <td>3</td>\n",
              "      <td>10</td>\n",
              "      <td>7</td>\n",
              "      <td>1</td>\n",
              "      <td>7</td>\n",
              "    </tr>\n",
              "    <tr>\n",
              "      <th>2</th>\n",
              "      <td>37</td>\n",
              "      <td>Yes</td>\n",
              "      <td>Travel_Rarely</td>\n",
              "      <td>1373</td>\n",
              "      <td>Research &amp; Development</td>\n",
              "      <td>2</td>\n",
              "      <td>2</td>\n",
              "      <td>Other</td>\n",
              "      <td>1</td>\n",
              "      <td>4</td>\n",
              "      <td>...</td>\n",
              "      <td>2</td>\n",
              "      <td>80</td>\n",
              "      <td>0</td>\n",
              "      <td>7</td>\n",
              "      <td>3</td>\n",
              "      <td>3</td>\n",
              "      <td>0</td>\n",
              "      <td>0</td>\n",
              "      <td>0</td>\n",
              "      <td>0</td>\n",
              "    </tr>\n",
              "    <tr>\n",
              "      <th>3</th>\n",
              "      <td>33</td>\n",
              "      <td>No</td>\n",
              "      <td>Travel_Frequently</td>\n",
              "      <td>1392</td>\n",
              "      <td>Research &amp; Development</td>\n",
              "      <td>3</td>\n",
              "      <td>4</td>\n",
              "      <td>Life Sciences</td>\n",
              "      <td>1</td>\n",
              "      <td>5</td>\n",
              "      <td>...</td>\n",
              "      <td>3</td>\n",
              "      <td>80</td>\n",
              "      <td>0</td>\n",
              "      <td>8</td>\n",
              "      <td>3</td>\n",
              "      <td>3</td>\n",
              "      <td>8</td>\n",
              "      <td>7</td>\n",
              "      <td>3</td>\n",
              "      <td>0</td>\n",
              "    </tr>\n",
              "    <tr>\n",
              "      <th>4</th>\n",
              "      <td>27</td>\n",
              "      <td>No</td>\n",
              "      <td>Travel_Rarely</td>\n",
              "      <td>591</td>\n",
              "      <td>Research &amp; Development</td>\n",
              "      <td>2</td>\n",
              "      <td>1</td>\n",
              "      <td>Medical</td>\n",
              "      <td>1</td>\n",
              "      <td>7</td>\n",
              "      <td>...</td>\n",
              "      <td>4</td>\n",
              "      <td>80</td>\n",
              "      <td>1</td>\n",
              "      <td>6</td>\n",
              "      <td>3</td>\n",
              "      <td>3</td>\n",
              "      <td>2</td>\n",
              "      <td>2</td>\n",
              "      <td>2</td>\n",
              "      <td>2</td>\n",
              "    </tr>\n",
              "  </tbody>\n",
              "</table>\n",
              "<p>5 rows × 35 columns</p>\n",
              "</div>\n",
              "    <div class=\"colab-df-buttons\">\n",
              "\n",
              "  <div class=\"colab-df-container\">\n",
              "    <button class=\"colab-df-convert\" onclick=\"convertToInteractive('df-28954c16-4e50-4b8a-93db-d159efb57ef6')\"\n",
              "            title=\"Convert this dataframe to an interactive table.\"\n",
              "            style=\"display:none;\">\n",
              "\n",
              "  <svg xmlns=\"http://www.w3.org/2000/svg\" height=\"24px\" viewBox=\"0 -960 960 960\">\n",
              "    <path d=\"M120-120v-720h720v720H120Zm60-500h600v-160H180v160Zm220 220h160v-160H400v160Zm0 220h160v-160H400v160ZM180-400h160v-160H180v160Zm440 0h160v-160H620v160ZM180-180h160v-160H180v160Zm440 0h160v-160H620v160Z\"/>\n",
              "  </svg>\n",
              "    </button>\n",
              "\n",
              "  <style>\n",
              "    .colab-df-container {\n",
              "      display:flex;\n",
              "      gap: 12px;\n",
              "    }\n",
              "\n",
              "    .colab-df-convert {\n",
              "      background-color: #E8F0FE;\n",
              "      border: none;\n",
              "      border-radius: 50%;\n",
              "      cursor: pointer;\n",
              "      display: none;\n",
              "      fill: #1967D2;\n",
              "      height: 32px;\n",
              "      padding: 0 0 0 0;\n",
              "      width: 32px;\n",
              "    }\n",
              "\n",
              "    .colab-df-convert:hover {\n",
              "      background-color: #E2EBFA;\n",
              "      box-shadow: 0px 1px 2px rgba(60, 64, 67, 0.3), 0px 1px 3px 1px rgba(60, 64, 67, 0.15);\n",
              "      fill: #174EA6;\n",
              "    }\n",
              "\n",
              "    .colab-df-buttons div {\n",
              "      margin-bottom: 4px;\n",
              "    }\n",
              "\n",
              "    [theme=dark] .colab-df-convert {\n",
              "      background-color: #3B4455;\n",
              "      fill: #D2E3FC;\n",
              "    }\n",
              "\n",
              "    [theme=dark] .colab-df-convert:hover {\n",
              "      background-color: #434B5C;\n",
              "      box-shadow: 0px 1px 3px 1px rgba(0, 0, 0, 0.15);\n",
              "      filter: drop-shadow(0px 1px 2px rgba(0, 0, 0, 0.3));\n",
              "      fill: #FFFFFF;\n",
              "    }\n",
              "  </style>\n",
              "\n",
              "    <script>\n",
              "      const buttonEl =\n",
              "        document.querySelector('#df-28954c16-4e50-4b8a-93db-d159efb57ef6 button.colab-df-convert');\n",
              "      buttonEl.style.display =\n",
              "        google.colab.kernel.accessAllowed ? 'block' : 'none';\n",
              "\n",
              "      async function convertToInteractive(key) {\n",
              "        const element = document.querySelector('#df-28954c16-4e50-4b8a-93db-d159efb57ef6');\n",
              "        const dataTable =\n",
              "          await google.colab.kernel.invokeFunction('convertToInteractive',\n",
              "                                                    [key], {});\n",
              "        if (!dataTable) return;\n",
              "\n",
              "        const docLinkHtml = 'Like what you see? Visit the ' +\n",
              "          '<a target=\"_blank\" href=https://colab.research.google.com/notebooks/data_table.ipynb>data table notebook</a>'\n",
              "          + ' to learn more about interactive tables.';\n",
              "        element.innerHTML = '';\n",
              "        dataTable['output_type'] = 'display_data';\n",
              "        await google.colab.output.renderOutput(dataTable, element);\n",
              "        const docLink = document.createElement('div');\n",
              "        docLink.innerHTML = docLinkHtml;\n",
              "        element.appendChild(docLink);\n",
              "      }\n",
              "    </script>\n",
              "  </div>\n",
              "\n",
              "\n",
              "<div id=\"df-fc875118-4fb4-44d5-aa70-b1176d57c404\">\n",
              "  <button class=\"colab-df-quickchart\" onclick=\"quickchart('df-fc875118-4fb4-44d5-aa70-b1176d57c404')\"\n",
              "            title=\"Suggest charts.\"\n",
              "            style=\"display:none;\">\n",
              "\n",
              "<svg xmlns=\"http://www.w3.org/2000/svg\" height=\"24px\"viewBox=\"0 0 24 24\"\n",
              "     width=\"24px\">\n",
              "    <g>\n",
              "        <path d=\"M19 3H5c-1.1 0-2 .9-2 2v14c0 1.1.9 2 2 2h14c1.1 0 2-.9 2-2V5c0-1.1-.9-2-2-2zM9 17H7v-7h2v7zm4 0h-2V7h2v10zm4 0h-2v-4h2v4z\"/>\n",
              "    </g>\n",
              "</svg>\n",
              "  </button>\n",
              "\n",
              "<style>\n",
              "  .colab-df-quickchart {\n",
              "      --bg-color: #E8F0FE;\n",
              "      --fill-color: #1967D2;\n",
              "      --hover-bg-color: #E2EBFA;\n",
              "      --hover-fill-color: #174EA6;\n",
              "      --disabled-fill-color: #AAA;\n",
              "      --disabled-bg-color: #DDD;\n",
              "  }\n",
              "\n",
              "  [theme=dark] .colab-df-quickchart {\n",
              "      --bg-color: #3B4455;\n",
              "      --fill-color: #D2E3FC;\n",
              "      --hover-bg-color: #434B5C;\n",
              "      --hover-fill-color: #FFFFFF;\n",
              "      --disabled-bg-color: #3B4455;\n",
              "      --disabled-fill-color: #666;\n",
              "  }\n",
              "\n",
              "  .colab-df-quickchart {\n",
              "    background-color: var(--bg-color);\n",
              "    border: none;\n",
              "    border-radius: 50%;\n",
              "    cursor: pointer;\n",
              "    display: none;\n",
              "    fill: var(--fill-color);\n",
              "    height: 32px;\n",
              "    padding: 0;\n",
              "    width: 32px;\n",
              "  }\n",
              "\n",
              "  .colab-df-quickchart:hover {\n",
              "    background-color: var(--hover-bg-color);\n",
              "    box-shadow: 0 1px 2px rgba(60, 64, 67, 0.3), 0 1px 3px 1px rgba(60, 64, 67, 0.15);\n",
              "    fill: var(--button-hover-fill-color);\n",
              "  }\n",
              "\n",
              "  .colab-df-quickchart-complete:disabled,\n",
              "  .colab-df-quickchart-complete:disabled:hover {\n",
              "    background-color: var(--disabled-bg-color);\n",
              "    fill: var(--disabled-fill-color);\n",
              "    box-shadow: none;\n",
              "  }\n",
              "\n",
              "  .colab-df-spinner {\n",
              "    border: 2px solid var(--fill-color);\n",
              "    border-color: transparent;\n",
              "    border-bottom-color: var(--fill-color);\n",
              "    animation:\n",
              "      spin 1s steps(1) infinite;\n",
              "  }\n",
              "\n",
              "  @keyframes spin {\n",
              "    0% {\n",
              "      border-color: transparent;\n",
              "      border-bottom-color: var(--fill-color);\n",
              "      border-left-color: var(--fill-color);\n",
              "    }\n",
              "    20% {\n",
              "      border-color: transparent;\n",
              "      border-left-color: var(--fill-color);\n",
              "      border-top-color: var(--fill-color);\n",
              "    }\n",
              "    30% {\n",
              "      border-color: transparent;\n",
              "      border-left-color: var(--fill-color);\n",
              "      border-top-color: var(--fill-color);\n",
              "      border-right-color: var(--fill-color);\n",
              "    }\n",
              "    40% {\n",
              "      border-color: transparent;\n",
              "      border-right-color: var(--fill-color);\n",
              "      border-top-color: var(--fill-color);\n",
              "    }\n",
              "    60% {\n",
              "      border-color: transparent;\n",
              "      border-right-color: var(--fill-color);\n",
              "    }\n",
              "    80% {\n",
              "      border-color: transparent;\n",
              "      border-right-color: var(--fill-color);\n",
              "      border-bottom-color: var(--fill-color);\n",
              "    }\n",
              "    90% {\n",
              "      border-color: transparent;\n",
              "      border-bottom-color: var(--fill-color);\n",
              "    }\n",
              "  }\n",
              "</style>\n",
              "\n",
              "  <script>\n",
              "    async function quickchart(key) {\n",
              "      const quickchartButtonEl =\n",
              "        document.querySelector('#' + key + ' button');\n",
              "      quickchartButtonEl.disabled = true;  // To prevent multiple clicks.\n",
              "      quickchartButtonEl.classList.add('colab-df-spinner');\n",
              "      try {\n",
              "        const charts = await google.colab.kernel.invokeFunction(\n",
              "            'suggestCharts', [key], {});\n",
              "      } catch (error) {\n",
              "        console.error('Error during call to suggestCharts:', error);\n",
              "      }\n",
              "      quickchartButtonEl.classList.remove('colab-df-spinner');\n",
              "      quickchartButtonEl.classList.add('colab-df-quickchart-complete');\n",
              "    }\n",
              "    (() => {\n",
              "      let quickchartButtonEl =\n",
              "        document.querySelector('#df-fc875118-4fb4-44d5-aa70-b1176d57c404 button');\n",
              "      quickchartButtonEl.style.display =\n",
              "        google.colab.kernel.accessAllowed ? 'block' : 'none';\n",
              "    })();\n",
              "  </script>\n",
              "</div>\n",
              "    </div>\n",
              "  </div>\n"
            ]
          },
          "metadata": {},
          "execution_count": 8
        }
      ],
      "source": [
        "# Print out first 5 rows of the data\n",
        "\n",
        "df.head(5) #.head() automaticly shows 5 rows."
      ]
    },
    {
      "cell_type": "markdown",
      "metadata": {
        "id": "-F0Lza8hTu2L"
      },
      "source": [
        "**Print out the dataframe information to show the column names, number of rows, amount of Non-Null data rows per column and the data types in each column**"
      ]
    },
    {
      "cell_type": "code",
      "execution_count": 9,
      "metadata": {
        "id": "3f0tybGYr3Fu",
        "colab": {
          "base_uri": "https://localhost:8080/"
        },
        "outputId": "06e2d2de-b767-4828-95e6-13159077feba"
      },
      "outputs": [
        {
          "output_type": "stream",
          "name": "stdout",
          "text": [
            "<class 'pandas.core.frame.DataFrame'>\n",
            "RangeIndex: 1470 entries, 0 to 1469\n",
            "Data columns (total 35 columns):\n",
            " #   Column                    Non-Null Count  Dtype \n",
            "---  ------                    --------------  ----- \n",
            " 0   Age                       1470 non-null   int64 \n",
            " 1   Attrition                 1470 non-null   object\n",
            " 2   BusinessTravel            1470 non-null   object\n",
            " 3   DailyRate                 1470 non-null   int64 \n",
            " 4   Department                1470 non-null   object\n",
            " 5   DistanceFromHome          1470 non-null   int64 \n",
            " 6   Education                 1470 non-null   int64 \n",
            " 7   EducationField            1470 non-null   object\n",
            " 8   EmployeeCount             1470 non-null   int64 \n",
            " 9   EmployeeNumber            1470 non-null   int64 \n",
            " 10  EnvironmentSatisfaction   1470 non-null   int64 \n",
            " 11  Gender                    1470 non-null   object\n",
            " 12  HourlyRate                1470 non-null   int64 \n",
            " 13  JobInvolvement            1470 non-null   int64 \n",
            " 14  JobLevel                  1470 non-null   int64 \n",
            " 15  JobRole                   1470 non-null   object\n",
            " 16  JobSatisfaction           1470 non-null   int64 \n",
            " 17  MaritalStatus             1470 non-null   object\n",
            " 18  MonthlyIncome             1470 non-null   int64 \n",
            " 19  MonthlyRate               1470 non-null   int64 \n",
            " 20  NumCompaniesWorked        1470 non-null   int64 \n",
            " 21  Over18                    1470 non-null   object\n",
            " 22  OverTime                  1470 non-null   object\n",
            " 23  PercentSalaryHike         1470 non-null   int64 \n",
            " 24  PerformanceRating         1470 non-null   int64 \n",
            " 25  RelationshipSatisfaction  1470 non-null   int64 \n",
            " 26  StandardHours             1470 non-null   int64 \n",
            " 27  StockOptionLevel          1470 non-null   int64 \n",
            " 28  TotalWorkingYears         1470 non-null   int64 \n",
            " 29  TrainingTimesLastYear     1470 non-null   int64 \n",
            " 30  WorkLifeBalance           1470 non-null   int64 \n",
            " 31  YearsAtCompany            1470 non-null   int64 \n",
            " 32  YearsInCurrentRole        1470 non-null   int64 \n",
            " 33  YearsSinceLastPromotion   1470 non-null   int64 \n",
            " 34  YearsWithCurrManager      1470 non-null   int64 \n",
            "dtypes: int64(26), object(9)\n",
            "memory usage: 402.1+ KB\n"
          ]
        }
      ],
      "source": [
        "# Getting the dataframe structure\n",
        "\n",
        "df.info()"
      ]
    },
    {
      "cell_type": "code",
      "source": [
        "# .shape is showing the number of columns and rows in another format.\n",
        "df.shape"
      ],
      "metadata": {
        "colab": {
          "base_uri": "https://localhost:8080/"
        },
        "id": "SpnPNXLdRiVx",
        "outputId": "1d9e73a5-6c0e-44ed-fec8-544436db3c3a"
      },
      "execution_count": 10,
      "outputs": [
        {
          "output_type": "execute_result",
          "data": {
            "text/plain": [
              "(1470, 35)"
            ]
          },
          "metadata": {},
          "execution_count": 10
        }
      ]
    },
    {
      "cell_type": "markdown",
      "metadata": {
        "id": "caH-LV7kEolN"
      },
      "source": [
        "**Let's start with some summary statistics to get a quick overview of our employee data. For this purpose we can use the .describe() method, as I am sure you have already been familiarized with.**"
      ]
    },
    {
      "cell_type": "code",
      "execution_count": 11,
      "metadata": {
        "id": "xQeVCy5yABGq",
        "colab": {
          "base_uri": "https://localhost:8080/",
          "height": 864
        },
        "outputId": "4ec06a9f-5135-4c88-b3e5-c129997991fc"
      },
      "outputs": [
        {
          "output_type": "execute_result",
          "data": {
            "text/plain": [
              "                           count          mean          std     min      25%  \\\n",
              "Age                       1470.0     36.923810     9.135373    18.0    30.00   \n",
              "DailyRate                 1470.0    802.485714   403.509100   102.0   465.00   \n",
              "DistanceFromHome          1470.0      9.192517     8.106864     1.0     2.00   \n",
              "Education                 1470.0      2.912925     1.024165     1.0     2.00   \n",
              "EmployeeCount             1470.0      1.000000     0.000000     1.0     1.00   \n",
              "EmployeeNumber            1470.0   1024.865306   602.024335     1.0   491.25   \n",
              "EnvironmentSatisfaction   1470.0      2.721769     1.093082     1.0     2.00   \n",
              "HourlyRate                1470.0     65.891156    20.329428    30.0    48.00   \n",
              "JobInvolvement            1470.0      2.729932     0.711561     1.0     2.00   \n",
              "JobLevel                  1470.0      2.063946     1.106940     1.0     1.00   \n",
              "JobSatisfaction           1470.0      2.728571     1.102846     1.0     2.00   \n",
              "MonthlyIncome             1470.0   6502.931293  4707.956783  1009.0  2911.00   \n",
              "MonthlyRate               1470.0  14313.103401  7117.786044  2094.0  8047.00   \n",
              "NumCompaniesWorked        1470.0      2.693197     2.498009     0.0     1.00   \n",
              "PercentSalaryHike         1470.0     15.209524     3.659938    11.0    12.00   \n",
              "PerformanceRating         1470.0      3.153741     0.360824     3.0     3.00   \n",
              "RelationshipSatisfaction  1470.0      2.712245     1.081209     1.0     2.00   \n",
              "StandardHours             1470.0     80.000000     0.000000    80.0    80.00   \n",
              "StockOptionLevel          1470.0      0.793878     0.852077     0.0     0.00   \n",
              "TotalWorkingYears         1470.0     11.279592     7.780782     0.0     6.00   \n",
              "TrainingTimesLastYear     1470.0      2.799320     1.289271     0.0     2.00   \n",
              "WorkLifeBalance           1470.0      2.761224     0.706476     1.0     2.00   \n",
              "YearsAtCompany            1470.0      7.008163     6.126525     0.0     3.00   \n",
              "YearsInCurrentRole        1470.0      4.229252     3.623137     0.0     2.00   \n",
              "YearsSinceLastPromotion   1470.0      2.187755     3.222430     0.0     0.00   \n",
              "YearsWithCurrManager      1470.0      4.123129     3.568136     0.0     2.00   \n",
              "\n",
              "                              50%       75%      max  \n",
              "Age                          36.0     43.00     60.0  \n",
              "DailyRate                   802.0   1157.00   1499.0  \n",
              "DistanceFromHome              7.0     14.00     29.0  \n",
              "Education                     3.0      4.00      5.0  \n",
              "EmployeeCount                 1.0      1.00      1.0  \n",
              "EmployeeNumber             1020.5   1555.75   2068.0  \n",
              "EnvironmentSatisfaction       3.0      4.00      4.0  \n",
              "HourlyRate                   66.0     83.75    100.0  \n",
              "JobInvolvement                3.0      3.00      4.0  \n",
              "JobLevel                      2.0      3.00      5.0  \n",
              "JobSatisfaction               3.0      4.00      4.0  \n",
              "MonthlyIncome              4919.0   8379.00  19999.0  \n",
              "MonthlyRate               14235.5  20461.50  26999.0  \n",
              "NumCompaniesWorked            2.0      4.00      9.0  \n",
              "PercentSalaryHike            14.0     18.00     25.0  \n",
              "PerformanceRating             3.0      3.00      4.0  \n",
              "RelationshipSatisfaction      3.0      4.00      4.0  \n",
              "StandardHours                80.0     80.00     80.0  \n",
              "StockOptionLevel              1.0      1.00      3.0  \n",
              "TotalWorkingYears            10.0     15.00     40.0  \n",
              "TrainingTimesLastYear         3.0      3.00      6.0  \n",
              "WorkLifeBalance               3.0      3.00      4.0  \n",
              "YearsAtCompany                5.0      9.00     40.0  \n",
              "YearsInCurrentRole            3.0      7.00     18.0  \n",
              "YearsSinceLastPromotion       1.0      3.00     15.0  \n",
              "YearsWithCurrManager          3.0      7.00     17.0  "
            ],
            "text/html": [
              "\n",
              "  <div id=\"df-b549e256-8fb7-4c84-a8ae-dd9f5f27ebf0\" class=\"colab-df-container\">\n",
              "    <div>\n",
              "<style scoped>\n",
              "    .dataframe tbody tr th:only-of-type {\n",
              "        vertical-align: middle;\n",
              "    }\n",
              "\n",
              "    .dataframe tbody tr th {\n",
              "        vertical-align: top;\n",
              "    }\n",
              "\n",
              "    .dataframe thead th {\n",
              "        text-align: right;\n",
              "    }\n",
              "</style>\n",
              "<table border=\"1\" class=\"dataframe\">\n",
              "  <thead>\n",
              "    <tr style=\"text-align: right;\">\n",
              "      <th></th>\n",
              "      <th>count</th>\n",
              "      <th>mean</th>\n",
              "      <th>std</th>\n",
              "      <th>min</th>\n",
              "      <th>25%</th>\n",
              "      <th>50%</th>\n",
              "      <th>75%</th>\n",
              "      <th>max</th>\n",
              "    </tr>\n",
              "  </thead>\n",
              "  <tbody>\n",
              "    <tr>\n",
              "      <th>Age</th>\n",
              "      <td>1470.0</td>\n",
              "      <td>36.923810</td>\n",
              "      <td>9.135373</td>\n",
              "      <td>18.0</td>\n",
              "      <td>30.00</td>\n",
              "      <td>36.0</td>\n",
              "      <td>43.00</td>\n",
              "      <td>60.0</td>\n",
              "    </tr>\n",
              "    <tr>\n",
              "      <th>DailyRate</th>\n",
              "      <td>1470.0</td>\n",
              "      <td>802.485714</td>\n",
              "      <td>403.509100</td>\n",
              "      <td>102.0</td>\n",
              "      <td>465.00</td>\n",
              "      <td>802.0</td>\n",
              "      <td>1157.00</td>\n",
              "      <td>1499.0</td>\n",
              "    </tr>\n",
              "    <tr>\n",
              "      <th>DistanceFromHome</th>\n",
              "      <td>1470.0</td>\n",
              "      <td>9.192517</td>\n",
              "      <td>8.106864</td>\n",
              "      <td>1.0</td>\n",
              "      <td>2.00</td>\n",
              "      <td>7.0</td>\n",
              "      <td>14.00</td>\n",
              "      <td>29.0</td>\n",
              "    </tr>\n",
              "    <tr>\n",
              "      <th>Education</th>\n",
              "      <td>1470.0</td>\n",
              "      <td>2.912925</td>\n",
              "      <td>1.024165</td>\n",
              "      <td>1.0</td>\n",
              "      <td>2.00</td>\n",
              "      <td>3.0</td>\n",
              "      <td>4.00</td>\n",
              "      <td>5.0</td>\n",
              "    </tr>\n",
              "    <tr>\n",
              "      <th>EmployeeCount</th>\n",
              "      <td>1470.0</td>\n",
              "      <td>1.000000</td>\n",
              "      <td>0.000000</td>\n",
              "      <td>1.0</td>\n",
              "      <td>1.00</td>\n",
              "      <td>1.0</td>\n",
              "      <td>1.00</td>\n",
              "      <td>1.0</td>\n",
              "    </tr>\n",
              "    <tr>\n",
              "      <th>EmployeeNumber</th>\n",
              "      <td>1470.0</td>\n",
              "      <td>1024.865306</td>\n",
              "      <td>602.024335</td>\n",
              "      <td>1.0</td>\n",
              "      <td>491.25</td>\n",
              "      <td>1020.5</td>\n",
              "      <td>1555.75</td>\n",
              "      <td>2068.0</td>\n",
              "    </tr>\n",
              "    <tr>\n",
              "      <th>EnvironmentSatisfaction</th>\n",
              "      <td>1470.0</td>\n",
              "      <td>2.721769</td>\n",
              "      <td>1.093082</td>\n",
              "      <td>1.0</td>\n",
              "      <td>2.00</td>\n",
              "      <td>3.0</td>\n",
              "      <td>4.00</td>\n",
              "      <td>4.0</td>\n",
              "    </tr>\n",
              "    <tr>\n",
              "      <th>HourlyRate</th>\n",
              "      <td>1470.0</td>\n",
              "      <td>65.891156</td>\n",
              "      <td>20.329428</td>\n",
              "      <td>30.0</td>\n",
              "      <td>48.00</td>\n",
              "      <td>66.0</td>\n",
              "      <td>83.75</td>\n",
              "      <td>100.0</td>\n",
              "    </tr>\n",
              "    <tr>\n",
              "      <th>JobInvolvement</th>\n",
              "      <td>1470.0</td>\n",
              "      <td>2.729932</td>\n",
              "      <td>0.711561</td>\n",
              "      <td>1.0</td>\n",
              "      <td>2.00</td>\n",
              "      <td>3.0</td>\n",
              "      <td>3.00</td>\n",
              "      <td>4.0</td>\n",
              "    </tr>\n",
              "    <tr>\n",
              "      <th>JobLevel</th>\n",
              "      <td>1470.0</td>\n",
              "      <td>2.063946</td>\n",
              "      <td>1.106940</td>\n",
              "      <td>1.0</td>\n",
              "      <td>1.00</td>\n",
              "      <td>2.0</td>\n",
              "      <td>3.00</td>\n",
              "      <td>5.0</td>\n",
              "    </tr>\n",
              "    <tr>\n",
              "      <th>JobSatisfaction</th>\n",
              "      <td>1470.0</td>\n",
              "      <td>2.728571</td>\n",
              "      <td>1.102846</td>\n",
              "      <td>1.0</td>\n",
              "      <td>2.00</td>\n",
              "      <td>3.0</td>\n",
              "      <td>4.00</td>\n",
              "      <td>4.0</td>\n",
              "    </tr>\n",
              "    <tr>\n",
              "      <th>MonthlyIncome</th>\n",
              "      <td>1470.0</td>\n",
              "      <td>6502.931293</td>\n",
              "      <td>4707.956783</td>\n",
              "      <td>1009.0</td>\n",
              "      <td>2911.00</td>\n",
              "      <td>4919.0</td>\n",
              "      <td>8379.00</td>\n",
              "      <td>19999.0</td>\n",
              "    </tr>\n",
              "    <tr>\n",
              "      <th>MonthlyRate</th>\n",
              "      <td>1470.0</td>\n",
              "      <td>14313.103401</td>\n",
              "      <td>7117.786044</td>\n",
              "      <td>2094.0</td>\n",
              "      <td>8047.00</td>\n",
              "      <td>14235.5</td>\n",
              "      <td>20461.50</td>\n",
              "      <td>26999.0</td>\n",
              "    </tr>\n",
              "    <tr>\n",
              "      <th>NumCompaniesWorked</th>\n",
              "      <td>1470.0</td>\n",
              "      <td>2.693197</td>\n",
              "      <td>2.498009</td>\n",
              "      <td>0.0</td>\n",
              "      <td>1.00</td>\n",
              "      <td>2.0</td>\n",
              "      <td>4.00</td>\n",
              "      <td>9.0</td>\n",
              "    </tr>\n",
              "    <tr>\n",
              "      <th>PercentSalaryHike</th>\n",
              "      <td>1470.0</td>\n",
              "      <td>15.209524</td>\n",
              "      <td>3.659938</td>\n",
              "      <td>11.0</td>\n",
              "      <td>12.00</td>\n",
              "      <td>14.0</td>\n",
              "      <td>18.00</td>\n",
              "      <td>25.0</td>\n",
              "    </tr>\n",
              "    <tr>\n",
              "      <th>PerformanceRating</th>\n",
              "      <td>1470.0</td>\n",
              "      <td>3.153741</td>\n",
              "      <td>0.360824</td>\n",
              "      <td>3.0</td>\n",
              "      <td>3.00</td>\n",
              "      <td>3.0</td>\n",
              "      <td>3.00</td>\n",
              "      <td>4.0</td>\n",
              "    </tr>\n",
              "    <tr>\n",
              "      <th>RelationshipSatisfaction</th>\n",
              "      <td>1470.0</td>\n",
              "      <td>2.712245</td>\n",
              "      <td>1.081209</td>\n",
              "      <td>1.0</td>\n",
              "      <td>2.00</td>\n",
              "      <td>3.0</td>\n",
              "      <td>4.00</td>\n",
              "      <td>4.0</td>\n",
              "    </tr>\n",
              "    <tr>\n",
              "      <th>StandardHours</th>\n",
              "      <td>1470.0</td>\n",
              "      <td>80.000000</td>\n",
              "      <td>0.000000</td>\n",
              "      <td>80.0</td>\n",
              "      <td>80.00</td>\n",
              "      <td>80.0</td>\n",
              "      <td>80.00</td>\n",
              "      <td>80.0</td>\n",
              "    </tr>\n",
              "    <tr>\n",
              "      <th>StockOptionLevel</th>\n",
              "      <td>1470.0</td>\n",
              "      <td>0.793878</td>\n",
              "      <td>0.852077</td>\n",
              "      <td>0.0</td>\n",
              "      <td>0.00</td>\n",
              "      <td>1.0</td>\n",
              "      <td>1.00</td>\n",
              "      <td>3.0</td>\n",
              "    </tr>\n",
              "    <tr>\n",
              "      <th>TotalWorkingYears</th>\n",
              "      <td>1470.0</td>\n",
              "      <td>11.279592</td>\n",
              "      <td>7.780782</td>\n",
              "      <td>0.0</td>\n",
              "      <td>6.00</td>\n",
              "      <td>10.0</td>\n",
              "      <td>15.00</td>\n",
              "      <td>40.0</td>\n",
              "    </tr>\n",
              "    <tr>\n",
              "      <th>TrainingTimesLastYear</th>\n",
              "      <td>1470.0</td>\n",
              "      <td>2.799320</td>\n",
              "      <td>1.289271</td>\n",
              "      <td>0.0</td>\n",
              "      <td>2.00</td>\n",
              "      <td>3.0</td>\n",
              "      <td>3.00</td>\n",
              "      <td>6.0</td>\n",
              "    </tr>\n",
              "    <tr>\n",
              "      <th>WorkLifeBalance</th>\n",
              "      <td>1470.0</td>\n",
              "      <td>2.761224</td>\n",
              "      <td>0.706476</td>\n",
              "      <td>1.0</td>\n",
              "      <td>2.00</td>\n",
              "      <td>3.0</td>\n",
              "      <td>3.00</td>\n",
              "      <td>4.0</td>\n",
              "    </tr>\n",
              "    <tr>\n",
              "      <th>YearsAtCompany</th>\n",
              "      <td>1470.0</td>\n",
              "      <td>7.008163</td>\n",
              "      <td>6.126525</td>\n",
              "      <td>0.0</td>\n",
              "      <td>3.00</td>\n",
              "      <td>5.0</td>\n",
              "      <td>9.00</td>\n",
              "      <td>40.0</td>\n",
              "    </tr>\n",
              "    <tr>\n",
              "      <th>YearsInCurrentRole</th>\n",
              "      <td>1470.0</td>\n",
              "      <td>4.229252</td>\n",
              "      <td>3.623137</td>\n",
              "      <td>0.0</td>\n",
              "      <td>2.00</td>\n",
              "      <td>3.0</td>\n",
              "      <td>7.00</td>\n",
              "      <td>18.0</td>\n",
              "    </tr>\n",
              "    <tr>\n",
              "      <th>YearsSinceLastPromotion</th>\n",
              "      <td>1470.0</td>\n",
              "      <td>2.187755</td>\n",
              "      <td>3.222430</td>\n",
              "      <td>0.0</td>\n",
              "      <td>0.00</td>\n",
              "      <td>1.0</td>\n",
              "      <td>3.00</td>\n",
              "      <td>15.0</td>\n",
              "    </tr>\n",
              "    <tr>\n",
              "      <th>YearsWithCurrManager</th>\n",
              "      <td>1470.0</td>\n",
              "      <td>4.123129</td>\n",
              "      <td>3.568136</td>\n",
              "      <td>0.0</td>\n",
              "      <td>2.00</td>\n",
              "      <td>3.0</td>\n",
              "      <td>7.00</td>\n",
              "      <td>17.0</td>\n",
              "    </tr>\n",
              "  </tbody>\n",
              "</table>\n",
              "</div>\n",
              "    <div class=\"colab-df-buttons\">\n",
              "\n",
              "  <div class=\"colab-df-container\">\n",
              "    <button class=\"colab-df-convert\" onclick=\"convertToInteractive('df-b549e256-8fb7-4c84-a8ae-dd9f5f27ebf0')\"\n",
              "            title=\"Convert this dataframe to an interactive table.\"\n",
              "            style=\"display:none;\">\n",
              "\n",
              "  <svg xmlns=\"http://www.w3.org/2000/svg\" height=\"24px\" viewBox=\"0 -960 960 960\">\n",
              "    <path d=\"M120-120v-720h720v720H120Zm60-500h600v-160H180v160Zm220 220h160v-160H400v160Zm0 220h160v-160H400v160ZM180-400h160v-160H180v160Zm440 0h160v-160H620v160ZM180-180h160v-160H180v160Zm440 0h160v-160H620v160Z\"/>\n",
              "  </svg>\n",
              "    </button>\n",
              "\n",
              "  <style>\n",
              "    .colab-df-container {\n",
              "      display:flex;\n",
              "      gap: 12px;\n",
              "    }\n",
              "\n",
              "    .colab-df-convert {\n",
              "      background-color: #E8F0FE;\n",
              "      border: none;\n",
              "      border-radius: 50%;\n",
              "      cursor: pointer;\n",
              "      display: none;\n",
              "      fill: #1967D2;\n",
              "      height: 32px;\n",
              "      padding: 0 0 0 0;\n",
              "      width: 32px;\n",
              "    }\n",
              "\n",
              "    .colab-df-convert:hover {\n",
              "      background-color: #E2EBFA;\n",
              "      box-shadow: 0px 1px 2px rgba(60, 64, 67, 0.3), 0px 1px 3px 1px rgba(60, 64, 67, 0.15);\n",
              "      fill: #174EA6;\n",
              "    }\n",
              "\n",
              "    .colab-df-buttons div {\n",
              "      margin-bottom: 4px;\n",
              "    }\n",
              "\n",
              "    [theme=dark] .colab-df-convert {\n",
              "      background-color: #3B4455;\n",
              "      fill: #D2E3FC;\n",
              "    }\n",
              "\n",
              "    [theme=dark] .colab-df-convert:hover {\n",
              "      background-color: #434B5C;\n",
              "      box-shadow: 0px 1px 3px 1px rgba(0, 0, 0, 0.15);\n",
              "      filter: drop-shadow(0px 1px 2px rgba(0, 0, 0, 0.3));\n",
              "      fill: #FFFFFF;\n",
              "    }\n",
              "  </style>\n",
              "\n",
              "    <script>\n",
              "      const buttonEl =\n",
              "        document.querySelector('#df-b549e256-8fb7-4c84-a8ae-dd9f5f27ebf0 button.colab-df-convert');\n",
              "      buttonEl.style.display =\n",
              "        google.colab.kernel.accessAllowed ? 'block' : 'none';\n",
              "\n",
              "      async function convertToInteractive(key) {\n",
              "        const element = document.querySelector('#df-b549e256-8fb7-4c84-a8ae-dd9f5f27ebf0');\n",
              "        const dataTable =\n",
              "          await google.colab.kernel.invokeFunction('convertToInteractive',\n",
              "                                                    [key], {});\n",
              "        if (!dataTable) return;\n",
              "\n",
              "        const docLinkHtml = 'Like what you see? Visit the ' +\n",
              "          '<a target=\"_blank\" href=https://colab.research.google.com/notebooks/data_table.ipynb>data table notebook</a>'\n",
              "          + ' to learn more about interactive tables.';\n",
              "        element.innerHTML = '';\n",
              "        dataTable['output_type'] = 'display_data';\n",
              "        await google.colab.output.renderOutput(dataTable, element);\n",
              "        const docLink = document.createElement('div');\n",
              "        docLink.innerHTML = docLinkHtml;\n",
              "        element.appendChild(docLink);\n",
              "      }\n",
              "    </script>\n",
              "  </div>\n",
              "\n",
              "\n",
              "<div id=\"df-f98aa1de-0735-4e54-9220-9402495f7ab8\">\n",
              "  <button class=\"colab-df-quickchart\" onclick=\"quickchart('df-f98aa1de-0735-4e54-9220-9402495f7ab8')\"\n",
              "            title=\"Suggest charts.\"\n",
              "            style=\"display:none;\">\n",
              "\n",
              "<svg xmlns=\"http://www.w3.org/2000/svg\" height=\"24px\"viewBox=\"0 0 24 24\"\n",
              "     width=\"24px\">\n",
              "    <g>\n",
              "        <path d=\"M19 3H5c-1.1 0-2 .9-2 2v14c0 1.1.9 2 2 2h14c1.1 0 2-.9 2-2V5c0-1.1-.9-2-2-2zM9 17H7v-7h2v7zm4 0h-2V7h2v10zm4 0h-2v-4h2v4z\"/>\n",
              "    </g>\n",
              "</svg>\n",
              "  </button>\n",
              "\n",
              "<style>\n",
              "  .colab-df-quickchart {\n",
              "      --bg-color: #E8F0FE;\n",
              "      --fill-color: #1967D2;\n",
              "      --hover-bg-color: #E2EBFA;\n",
              "      --hover-fill-color: #174EA6;\n",
              "      --disabled-fill-color: #AAA;\n",
              "      --disabled-bg-color: #DDD;\n",
              "  }\n",
              "\n",
              "  [theme=dark] .colab-df-quickchart {\n",
              "      --bg-color: #3B4455;\n",
              "      --fill-color: #D2E3FC;\n",
              "      --hover-bg-color: #434B5C;\n",
              "      --hover-fill-color: #FFFFFF;\n",
              "      --disabled-bg-color: #3B4455;\n",
              "      --disabled-fill-color: #666;\n",
              "  }\n",
              "\n",
              "  .colab-df-quickchart {\n",
              "    background-color: var(--bg-color);\n",
              "    border: none;\n",
              "    border-radius: 50%;\n",
              "    cursor: pointer;\n",
              "    display: none;\n",
              "    fill: var(--fill-color);\n",
              "    height: 32px;\n",
              "    padding: 0;\n",
              "    width: 32px;\n",
              "  }\n",
              "\n",
              "  .colab-df-quickchart:hover {\n",
              "    background-color: var(--hover-bg-color);\n",
              "    box-shadow: 0 1px 2px rgba(60, 64, 67, 0.3), 0 1px 3px 1px rgba(60, 64, 67, 0.15);\n",
              "    fill: var(--button-hover-fill-color);\n",
              "  }\n",
              "\n",
              "  .colab-df-quickchart-complete:disabled,\n",
              "  .colab-df-quickchart-complete:disabled:hover {\n",
              "    background-color: var(--disabled-bg-color);\n",
              "    fill: var(--disabled-fill-color);\n",
              "    box-shadow: none;\n",
              "  }\n",
              "\n",
              "  .colab-df-spinner {\n",
              "    border: 2px solid var(--fill-color);\n",
              "    border-color: transparent;\n",
              "    border-bottom-color: var(--fill-color);\n",
              "    animation:\n",
              "      spin 1s steps(1) infinite;\n",
              "  }\n",
              "\n",
              "  @keyframes spin {\n",
              "    0% {\n",
              "      border-color: transparent;\n",
              "      border-bottom-color: var(--fill-color);\n",
              "      border-left-color: var(--fill-color);\n",
              "    }\n",
              "    20% {\n",
              "      border-color: transparent;\n",
              "      border-left-color: var(--fill-color);\n",
              "      border-top-color: var(--fill-color);\n",
              "    }\n",
              "    30% {\n",
              "      border-color: transparent;\n",
              "      border-left-color: var(--fill-color);\n",
              "      border-top-color: var(--fill-color);\n",
              "      border-right-color: var(--fill-color);\n",
              "    }\n",
              "    40% {\n",
              "      border-color: transparent;\n",
              "      border-right-color: var(--fill-color);\n",
              "      border-top-color: var(--fill-color);\n",
              "    }\n",
              "    60% {\n",
              "      border-color: transparent;\n",
              "      border-right-color: var(--fill-color);\n",
              "    }\n",
              "    80% {\n",
              "      border-color: transparent;\n",
              "      border-right-color: var(--fill-color);\n",
              "      border-bottom-color: var(--fill-color);\n",
              "    }\n",
              "    90% {\n",
              "      border-color: transparent;\n",
              "      border-bottom-color: var(--fill-color);\n",
              "    }\n",
              "  }\n",
              "</style>\n",
              "\n",
              "  <script>\n",
              "    async function quickchart(key) {\n",
              "      const quickchartButtonEl =\n",
              "        document.querySelector('#' + key + ' button');\n",
              "      quickchartButtonEl.disabled = true;  // To prevent multiple clicks.\n",
              "      quickchartButtonEl.classList.add('colab-df-spinner');\n",
              "      try {\n",
              "        const charts = await google.colab.kernel.invokeFunction(\n",
              "            'suggestCharts', [key], {});\n",
              "      } catch (error) {\n",
              "        console.error('Error during call to suggestCharts:', error);\n",
              "      }\n",
              "      quickchartButtonEl.classList.remove('colab-df-spinner');\n",
              "      quickchartButtonEl.classList.add('colab-df-quickchart-complete');\n",
              "    }\n",
              "    (() => {\n",
              "      let quickchartButtonEl =\n",
              "        document.querySelector('#df-f98aa1de-0735-4e54-9220-9402495f7ab8 button');\n",
              "      quickchartButtonEl.style.display =\n",
              "        google.colab.kernel.accessAllowed ? 'block' : 'none';\n",
              "    })();\n",
              "  </script>\n",
              "</div>\n",
              "    </div>\n",
              "  </div>\n"
            ]
          },
          "metadata": {},
          "execution_count": 11
        }
      ],
      "source": [
        "# Print out the descriptive summary stats for the dataframe\n",
        "\n",
        "df.describe().T"
      ]
    },
    {
      "cell_type": "markdown",
      "metadata": {
        "id": "mCa7OkC2-qM6"
      },
      "source": [
        "# **Assignment 1 - Which different groups are most likely to churn?**"
      ]
    },
    {
      "cell_type": "markdown",
      "metadata": {
        "id": "8QGfuzN0_Oby"
      },
      "source": [
        "Okay, so first we need to figure out what kind of groups we can find within the data, and analyze these in terms of their attrition rates. Luckily we have a column named 'Attrition' for this very purpose that contains 'Yes' and 'No' for attrition or no attrition."
      ]
    },
    {
      "cell_type": "markdown",
      "metadata": {
        "id": "qUnNPSIlE93q"
      },
      "source": [
        "So based on the summary statistics, we can get a better overview of different variables. Let's try to list a few options:\n",
        "- **Age** ranges from 18 to 60 years old, so splitting these into different age groups might tell us something about whether it's a particular age group that is likely to churn.\n",
        "- **DistanceFromHome** ranges from 1 to 29, and this could also be a reason for attrition.\n",
        "- **Jobrole:** It could be a particular position within the company that for some reason tends to make people quit their job.\n",
        "- **Gender:** It could be a bigger percentage of men than women or vice versa that tends to quit the company for some reason or another."
      ]
    },
    {
      "cell_type": "markdown",
      "metadata": {
        "id": "21MaSt2IGBw2"
      },
      "source": [
        "## *Let's start by looking at the age groups*"
      ]
    },
    {
      "cell_type": "markdown",
      "metadata": {
        "id": "LakOLcvDEnuf"
      },
      "source": [
        "![](https://aaubs.github.io/ds-master/media/M1-ass1-img2.png)"
      ]
    },
    {
      "cell_type": "markdown",
      "metadata": {
        "id": "b9YUH0exkpBO"
      },
      "source": [
        "**Create age groups/bins and labels for these, that you believe makes sense for analysis.**"
      ]
    },
    {
      "cell_type": "code",
      "execution_count": 12,
      "metadata": {
        "id": "FS0Gy6_bABDz"
      },
      "outputs": [],
      "source": [
        "labels = [\"teen\", \"20s\", \"30s\", \"40s\", \"50+\"]\n",
        "bins = pd.IntervalIndex.from_tuples([(18, 20), (20, 30), (30, 40), (40, 50), (50, 100)])"
      ]
    },
    {
      "cell_type": "markdown",
      "metadata": {
        "id": "hU2eZzMHHujL"
      },
      "source": [
        "**Assign these groups to each employee as a new column within the dataframe. One way to do this, is to use the pd.cut() method to assign these to a new column. Remember to do the df['NewColumnName'] = pd.cut() with the appropriate parameter setup inside the () brackets**"
      ]
    },
    {
      "cell_type": "code",
      "execution_count": 13,
      "metadata": {
        "id": "gVOIAbQlGuyp",
        "colab": {
          "base_uri": "https://localhost:8080/"
        },
        "outputId": "52e4fc84-51c0-4bd6-8d5c-b44c00f73c1d"
      },
      "outputs": [
        {
          "output_type": "stream",
          "name": "stdout",
          "text": [
            "      Age  AgeGroup AgeGroupLabel\n",
            "0      41  (40, 50]           40s\n",
            "1      49  (40, 50]           40s\n",
            "2      37  (30, 40]           30s\n",
            "3      33  (30, 40]           30s\n",
            "4      27  (20, 30]           20s\n",
            "...   ...       ...           ...\n",
            "1465   36  (30, 40]           30s\n",
            "1466   39  (30, 40]           30s\n",
            "1467   27  (20, 30]           20s\n",
            "1468   49  (40, 50]           40s\n",
            "1469   34  (30, 40]           30s\n",
            "\n",
            "[1470 rows x 3 columns]\n"
          ]
        }
      ],
      "source": [
        "df[\"AgeGroup\"] = pd.cut(df.Age, bins=bins, labels=labels)\n",
        "df[\"AgeGroupLabel\"] = pd.cut(df.Age, bins=[18, 20, 30, 40, 50, 100], labels=labels)\n",
        "\n",
        "print(df[['Age', 'AgeGroup', 'AgeGroupLabel']])"
      ]
    },
    {
      "cell_type": "markdown",
      "metadata": {
        "id": "Dkcb26a9mjDe"
      },
      "source": [
        "**You can validate that it worked by printing out the .head(5) of the column you created**"
      ]
    },
    {
      "cell_type": "code",
      "execution_count": 14,
      "metadata": {
        "id": "3Rs6r9-1ABBK",
        "colab": {
          "base_uri": "https://localhost:8080/",
          "height": 325
        },
        "outputId": "f2c48b8d-a958-487e-ff4a-bfd059873fe5"
      },
      "outputs": [
        {
          "output_type": "execute_result",
          "data": {
            "text/plain": [
              "   Age Attrition     BusinessTravel  DailyRate              Department  \\\n",
              "0   41       Yes      Travel_Rarely       1102                   Sales   \n",
              "1   49        No  Travel_Frequently        279  Research & Development   \n",
              "2   37       Yes      Travel_Rarely       1373  Research & Development   \n",
              "3   33        No  Travel_Frequently       1392  Research & Development   \n",
              "4   27        No      Travel_Rarely        591  Research & Development   \n",
              "\n",
              "   DistanceFromHome  Education EducationField  EmployeeCount  EmployeeNumber  \\\n",
              "0                 1          2  Life Sciences              1               1   \n",
              "1                 8          1  Life Sciences              1               2   \n",
              "2                 2          2          Other              1               4   \n",
              "3                 3          4  Life Sciences              1               5   \n",
              "4                 2          1        Medical              1               7   \n",
              "\n",
              "   ...  StockOptionLevel TotalWorkingYears  TrainingTimesLastYear  \\\n",
              "0  ...                 0                 8                      0   \n",
              "1  ...                 1                10                      3   \n",
              "2  ...                 0                 7                      3   \n",
              "3  ...                 0                 8                      3   \n",
              "4  ...                 1                 6                      3   \n",
              "\n",
              "   WorkLifeBalance  YearsAtCompany YearsInCurrentRole  \\\n",
              "0                1               6                  4   \n",
              "1                3              10                  7   \n",
              "2                3               0                  0   \n",
              "3                3               8                  7   \n",
              "4                3               2                  2   \n",
              "\n",
              "   YearsSinceLastPromotion YearsWithCurrManager  AgeGroup  AgeGroupLabel  \n",
              "0                        0                    5  (40, 50]            40s  \n",
              "1                        1                    7  (40, 50]            40s  \n",
              "2                        0                    0  (30, 40]            30s  \n",
              "3                        3                    0  (30, 40]            30s  \n",
              "4                        2                    2  (20, 30]            20s  \n",
              "\n",
              "[5 rows x 37 columns]"
            ],
            "text/html": [
              "\n",
              "  <div id=\"df-5acc4376-6540-43c9-83e9-e5677d031535\" class=\"colab-df-container\">\n",
              "    <div>\n",
              "<style scoped>\n",
              "    .dataframe tbody tr th:only-of-type {\n",
              "        vertical-align: middle;\n",
              "    }\n",
              "\n",
              "    .dataframe tbody tr th {\n",
              "        vertical-align: top;\n",
              "    }\n",
              "\n",
              "    .dataframe thead th {\n",
              "        text-align: right;\n",
              "    }\n",
              "</style>\n",
              "<table border=\"1\" class=\"dataframe\">\n",
              "  <thead>\n",
              "    <tr style=\"text-align: right;\">\n",
              "      <th></th>\n",
              "      <th>Age</th>\n",
              "      <th>Attrition</th>\n",
              "      <th>BusinessTravel</th>\n",
              "      <th>DailyRate</th>\n",
              "      <th>Department</th>\n",
              "      <th>DistanceFromHome</th>\n",
              "      <th>Education</th>\n",
              "      <th>EducationField</th>\n",
              "      <th>EmployeeCount</th>\n",
              "      <th>EmployeeNumber</th>\n",
              "      <th>...</th>\n",
              "      <th>StockOptionLevel</th>\n",
              "      <th>TotalWorkingYears</th>\n",
              "      <th>TrainingTimesLastYear</th>\n",
              "      <th>WorkLifeBalance</th>\n",
              "      <th>YearsAtCompany</th>\n",
              "      <th>YearsInCurrentRole</th>\n",
              "      <th>YearsSinceLastPromotion</th>\n",
              "      <th>YearsWithCurrManager</th>\n",
              "      <th>AgeGroup</th>\n",
              "      <th>AgeGroupLabel</th>\n",
              "    </tr>\n",
              "  </thead>\n",
              "  <tbody>\n",
              "    <tr>\n",
              "      <th>0</th>\n",
              "      <td>41</td>\n",
              "      <td>Yes</td>\n",
              "      <td>Travel_Rarely</td>\n",
              "      <td>1102</td>\n",
              "      <td>Sales</td>\n",
              "      <td>1</td>\n",
              "      <td>2</td>\n",
              "      <td>Life Sciences</td>\n",
              "      <td>1</td>\n",
              "      <td>1</td>\n",
              "      <td>...</td>\n",
              "      <td>0</td>\n",
              "      <td>8</td>\n",
              "      <td>0</td>\n",
              "      <td>1</td>\n",
              "      <td>6</td>\n",
              "      <td>4</td>\n",
              "      <td>0</td>\n",
              "      <td>5</td>\n",
              "      <td>(40, 50]</td>\n",
              "      <td>40s</td>\n",
              "    </tr>\n",
              "    <tr>\n",
              "      <th>1</th>\n",
              "      <td>49</td>\n",
              "      <td>No</td>\n",
              "      <td>Travel_Frequently</td>\n",
              "      <td>279</td>\n",
              "      <td>Research &amp; Development</td>\n",
              "      <td>8</td>\n",
              "      <td>1</td>\n",
              "      <td>Life Sciences</td>\n",
              "      <td>1</td>\n",
              "      <td>2</td>\n",
              "      <td>...</td>\n",
              "      <td>1</td>\n",
              "      <td>10</td>\n",
              "      <td>3</td>\n",
              "      <td>3</td>\n",
              "      <td>10</td>\n",
              "      <td>7</td>\n",
              "      <td>1</td>\n",
              "      <td>7</td>\n",
              "      <td>(40, 50]</td>\n",
              "      <td>40s</td>\n",
              "    </tr>\n",
              "    <tr>\n",
              "      <th>2</th>\n",
              "      <td>37</td>\n",
              "      <td>Yes</td>\n",
              "      <td>Travel_Rarely</td>\n",
              "      <td>1373</td>\n",
              "      <td>Research &amp; Development</td>\n",
              "      <td>2</td>\n",
              "      <td>2</td>\n",
              "      <td>Other</td>\n",
              "      <td>1</td>\n",
              "      <td>4</td>\n",
              "      <td>...</td>\n",
              "      <td>0</td>\n",
              "      <td>7</td>\n",
              "      <td>3</td>\n",
              "      <td>3</td>\n",
              "      <td>0</td>\n",
              "      <td>0</td>\n",
              "      <td>0</td>\n",
              "      <td>0</td>\n",
              "      <td>(30, 40]</td>\n",
              "      <td>30s</td>\n",
              "    </tr>\n",
              "    <tr>\n",
              "      <th>3</th>\n",
              "      <td>33</td>\n",
              "      <td>No</td>\n",
              "      <td>Travel_Frequently</td>\n",
              "      <td>1392</td>\n",
              "      <td>Research &amp; Development</td>\n",
              "      <td>3</td>\n",
              "      <td>4</td>\n",
              "      <td>Life Sciences</td>\n",
              "      <td>1</td>\n",
              "      <td>5</td>\n",
              "      <td>...</td>\n",
              "      <td>0</td>\n",
              "      <td>8</td>\n",
              "      <td>3</td>\n",
              "      <td>3</td>\n",
              "      <td>8</td>\n",
              "      <td>7</td>\n",
              "      <td>3</td>\n",
              "      <td>0</td>\n",
              "      <td>(30, 40]</td>\n",
              "      <td>30s</td>\n",
              "    </tr>\n",
              "    <tr>\n",
              "      <th>4</th>\n",
              "      <td>27</td>\n",
              "      <td>No</td>\n",
              "      <td>Travel_Rarely</td>\n",
              "      <td>591</td>\n",
              "      <td>Research &amp; Development</td>\n",
              "      <td>2</td>\n",
              "      <td>1</td>\n",
              "      <td>Medical</td>\n",
              "      <td>1</td>\n",
              "      <td>7</td>\n",
              "      <td>...</td>\n",
              "      <td>1</td>\n",
              "      <td>6</td>\n",
              "      <td>3</td>\n",
              "      <td>3</td>\n",
              "      <td>2</td>\n",
              "      <td>2</td>\n",
              "      <td>2</td>\n",
              "      <td>2</td>\n",
              "      <td>(20, 30]</td>\n",
              "      <td>20s</td>\n",
              "    </tr>\n",
              "  </tbody>\n",
              "</table>\n",
              "<p>5 rows × 37 columns</p>\n",
              "</div>\n",
              "    <div class=\"colab-df-buttons\">\n",
              "\n",
              "  <div class=\"colab-df-container\">\n",
              "    <button class=\"colab-df-convert\" onclick=\"convertToInteractive('df-5acc4376-6540-43c9-83e9-e5677d031535')\"\n",
              "            title=\"Convert this dataframe to an interactive table.\"\n",
              "            style=\"display:none;\">\n",
              "\n",
              "  <svg xmlns=\"http://www.w3.org/2000/svg\" height=\"24px\" viewBox=\"0 -960 960 960\">\n",
              "    <path d=\"M120-120v-720h720v720H120Zm60-500h600v-160H180v160Zm220 220h160v-160H400v160Zm0 220h160v-160H400v160ZM180-400h160v-160H180v160Zm440 0h160v-160H620v160ZM180-180h160v-160H180v160Zm440 0h160v-160H620v160Z\"/>\n",
              "  </svg>\n",
              "    </button>\n",
              "\n",
              "  <style>\n",
              "    .colab-df-container {\n",
              "      display:flex;\n",
              "      gap: 12px;\n",
              "    }\n",
              "\n",
              "    .colab-df-convert {\n",
              "      background-color: #E8F0FE;\n",
              "      border: none;\n",
              "      border-radius: 50%;\n",
              "      cursor: pointer;\n",
              "      display: none;\n",
              "      fill: #1967D2;\n",
              "      height: 32px;\n",
              "      padding: 0 0 0 0;\n",
              "      width: 32px;\n",
              "    }\n",
              "\n",
              "    .colab-df-convert:hover {\n",
              "      background-color: #E2EBFA;\n",
              "      box-shadow: 0px 1px 2px rgba(60, 64, 67, 0.3), 0px 1px 3px 1px rgba(60, 64, 67, 0.15);\n",
              "      fill: #174EA6;\n",
              "    }\n",
              "\n",
              "    .colab-df-buttons div {\n",
              "      margin-bottom: 4px;\n",
              "    }\n",
              "\n",
              "    [theme=dark] .colab-df-convert {\n",
              "      background-color: #3B4455;\n",
              "      fill: #D2E3FC;\n",
              "    }\n",
              "\n",
              "    [theme=dark] .colab-df-convert:hover {\n",
              "      background-color: #434B5C;\n",
              "      box-shadow: 0px 1px 3px 1px rgba(0, 0, 0, 0.15);\n",
              "      filter: drop-shadow(0px 1px 2px rgba(0, 0, 0, 0.3));\n",
              "      fill: #FFFFFF;\n",
              "    }\n",
              "  </style>\n",
              "\n",
              "    <script>\n",
              "      const buttonEl =\n",
              "        document.querySelector('#df-5acc4376-6540-43c9-83e9-e5677d031535 button.colab-df-convert');\n",
              "      buttonEl.style.display =\n",
              "        google.colab.kernel.accessAllowed ? 'block' : 'none';\n",
              "\n",
              "      async function convertToInteractive(key) {\n",
              "        const element = document.querySelector('#df-5acc4376-6540-43c9-83e9-e5677d031535');\n",
              "        const dataTable =\n",
              "          await google.colab.kernel.invokeFunction('convertToInteractive',\n",
              "                                                    [key], {});\n",
              "        if (!dataTable) return;\n",
              "\n",
              "        const docLinkHtml = 'Like what you see? Visit the ' +\n",
              "          '<a target=\"_blank\" href=https://colab.research.google.com/notebooks/data_table.ipynb>data table notebook</a>'\n",
              "          + ' to learn more about interactive tables.';\n",
              "        element.innerHTML = '';\n",
              "        dataTable['output_type'] = 'display_data';\n",
              "        await google.colab.output.renderOutput(dataTable, element);\n",
              "        const docLink = document.createElement('div');\n",
              "        docLink.innerHTML = docLinkHtml;\n",
              "        element.appendChild(docLink);\n",
              "      }\n",
              "    </script>\n",
              "  </div>\n",
              "\n",
              "\n",
              "<div id=\"df-d55e5112-18f5-4787-82de-231cd5fe32b6\">\n",
              "  <button class=\"colab-df-quickchart\" onclick=\"quickchart('df-d55e5112-18f5-4787-82de-231cd5fe32b6')\"\n",
              "            title=\"Suggest charts.\"\n",
              "            style=\"display:none;\">\n",
              "\n",
              "<svg xmlns=\"http://www.w3.org/2000/svg\" height=\"24px\"viewBox=\"0 0 24 24\"\n",
              "     width=\"24px\">\n",
              "    <g>\n",
              "        <path d=\"M19 3H5c-1.1 0-2 .9-2 2v14c0 1.1.9 2 2 2h14c1.1 0 2-.9 2-2V5c0-1.1-.9-2-2-2zM9 17H7v-7h2v7zm4 0h-2V7h2v10zm4 0h-2v-4h2v4z\"/>\n",
              "    </g>\n",
              "</svg>\n",
              "  </button>\n",
              "\n",
              "<style>\n",
              "  .colab-df-quickchart {\n",
              "      --bg-color: #E8F0FE;\n",
              "      --fill-color: #1967D2;\n",
              "      --hover-bg-color: #E2EBFA;\n",
              "      --hover-fill-color: #174EA6;\n",
              "      --disabled-fill-color: #AAA;\n",
              "      --disabled-bg-color: #DDD;\n",
              "  }\n",
              "\n",
              "  [theme=dark] .colab-df-quickchart {\n",
              "      --bg-color: #3B4455;\n",
              "      --fill-color: #D2E3FC;\n",
              "      --hover-bg-color: #434B5C;\n",
              "      --hover-fill-color: #FFFFFF;\n",
              "      --disabled-bg-color: #3B4455;\n",
              "      --disabled-fill-color: #666;\n",
              "  }\n",
              "\n",
              "  .colab-df-quickchart {\n",
              "    background-color: var(--bg-color);\n",
              "    border: none;\n",
              "    border-radius: 50%;\n",
              "    cursor: pointer;\n",
              "    display: none;\n",
              "    fill: var(--fill-color);\n",
              "    height: 32px;\n",
              "    padding: 0;\n",
              "    width: 32px;\n",
              "  }\n",
              "\n",
              "  .colab-df-quickchart:hover {\n",
              "    background-color: var(--hover-bg-color);\n",
              "    box-shadow: 0 1px 2px rgba(60, 64, 67, 0.3), 0 1px 3px 1px rgba(60, 64, 67, 0.15);\n",
              "    fill: var(--button-hover-fill-color);\n",
              "  }\n",
              "\n",
              "  .colab-df-quickchart-complete:disabled,\n",
              "  .colab-df-quickchart-complete:disabled:hover {\n",
              "    background-color: var(--disabled-bg-color);\n",
              "    fill: var(--disabled-fill-color);\n",
              "    box-shadow: none;\n",
              "  }\n",
              "\n",
              "  .colab-df-spinner {\n",
              "    border: 2px solid var(--fill-color);\n",
              "    border-color: transparent;\n",
              "    border-bottom-color: var(--fill-color);\n",
              "    animation:\n",
              "      spin 1s steps(1) infinite;\n",
              "  }\n",
              "\n",
              "  @keyframes spin {\n",
              "    0% {\n",
              "      border-color: transparent;\n",
              "      border-bottom-color: var(--fill-color);\n",
              "      border-left-color: var(--fill-color);\n",
              "    }\n",
              "    20% {\n",
              "      border-color: transparent;\n",
              "      border-left-color: var(--fill-color);\n",
              "      border-top-color: var(--fill-color);\n",
              "    }\n",
              "    30% {\n",
              "      border-color: transparent;\n",
              "      border-left-color: var(--fill-color);\n",
              "      border-top-color: var(--fill-color);\n",
              "      border-right-color: var(--fill-color);\n",
              "    }\n",
              "    40% {\n",
              "      border-color: transparent;\n",
              "      border-right-color: var(--fill-color);\n",
              "      border-top-color: var(--fill-color);\n",
              "    }\n",
              "    60% {\n",
              "      border-color: transparent;\n",
              "      border-right-color: var(--fill-color);\n",
              "    }\n",
              "    80% {\n",
              "      border-color: transparent;\n",
              "      border-right-color: var(--fill-color);\n",
              "      border-bottom-color: var(--fill-color);\n",
              "    }\n",
              "    90% {\n",
              "      border-color: transparent;\n",
              "      border-bottom-color: var(--fill-color);\n",
              "    }\n",
              "  }\n",
              "</style>\n",
              "\n",
              "  <script>\n",
              "    async function quickchart(key) {\n",
              "      const quickchartButtonEl =\n",
              "        document.querySelector('#' + key + ' button');\n",
              "      quickchartButtonEl.disabled = true;  // To prevent multiple clicks.\n",
              "      quickchartButtonEl.classList.add('colab-df-spinner');\n",
              "      try {\n",
              "        const charts = await google.colab.kernel.invokeFunction(\n",
              "            'suggestCharts', [key], {});\n",
              "      } catch (error) {\n",
              "        console.error('Error during call to suggestCharts:', error);\n",
              "      }\n",
              "      quickchartButtonEl.classList.remove('colab-df-spinner');\n",
              "      quickchartButtonEl.classList.add('colab-df-quickchart-complete');\n",
              "    }\n",
              "    (() => {\n",
              "      let quickchartButtonEl =\n",
              "        document.querySelector('#df-d55e5112-18f5-4787-82de-231cd5fe32b6 button');\n",
              "      quickchartButtonEl.style.display =\n",
              "        google.colab.kernel.accessAllowed ? 'block' : 'none';\n",
              "    })();\n",
              "  </script>\n",
              "</div>\n",
              "    </div>\n",
              "  </div>\n"
            ]
          },
          "metadata": {},
          "execution_count": 14
        }
      ],
      "source": [
        "df.head(5)"
      ]
    },
    {
      "cell_type": "markdown",
      "metadata": {
        "id": "QuO1et8RmKj9"
      },
      "source": [
        "**Using this new column you have created, create a bar chart that shows the distribution of 'Yes' and 'No' for attrition between the different age groups**"
      ]
    },
    {
      "cell_type": "code",
      "execution_count": 15,
      "metadata": {
        "id": "afJ7psm7AA8K",
        "colab": {
          "base_uri": "https://localhost:8080/",
          "height": 573
        },
        "outputId": "3ae215f6-8263-4d0d-8480-5bc2629b47c1"
      },
      "outputs": [
        {
          "output_type": "display_data",
          "data": {
            "text/plain": [
              "<Figure size 800x600 with 1 Axes>"
            ],
            "image/png": "[encoded data removed]"
          },
          "metadata": {}
        }
      ],
      "source": [
        "# Create a bar chart to visualize attrition by age group\n",
        "plt.figure(figsize=(8, 6))\n",
        "sns.countplot(data=df, x='AgeGroup', hue='Attrition')\n",
        "\n",
        "# Add labels and a title\n",
        "plt.xlabel('Age Group')\n",
        "plt.ylabel('Attrition Count')\n",
        "plt.title('Attrition by Age Group')\n",
        "\n",
        "# Show the legend\n",
        "plt.legend(title='Attrition', loc='upper right')\n",
        "\n",
        "# Display the plot\n",
        "plt.show()"
      ]
    },
    {
      "cell_type": "code",
      "source": [
        "# Create a bar chart to visualize attrition by age group\n",
        "plt.figure(figsize=(8, 6))\n",
        "sns.countplot(data=df, x='AgeGroupLabel', hue='Attrition')\n",
        "\n",
        "# Add labels and a title\n",
        "plt.xlabel('Age Group')\n",
        "plt.ylabel('Attrition Count')\n",
        "plt.title('Attrition by Age Group')\n",
        "\n",
        "# Show the legend\n",
        "plt.legend(title='Attrition', loc='upper right')\n",
        "\n",
        "# Display the plot\n",
        "plt.show()"
      ],
      "metadata": {
        "colab": {
          "base_uri": "https://localhost:8080/",
          "height": 573
        },
        "id": "4ikoQfmtdfgm",
        "outputId": "44b287b7-3fc3-4a4d-d34e-b732f630f61f"
      },
      "execution_count": 16,
      "outputs": [
        {
          "output_type": "display_data",
          "data": {
            "text/plain": [
              "<Figure size 800x600 with 1 Axes>"
            ],
            "image/png": "[encoded data removed]"
          },
          "metadata": {}
        }
      ]
    },
    {
      "cell_type": "markdown",
      "metadata": {
        "id": "6cfDCUziKJ20"
      },
      "source": [
        "So based on this what can we conclude/deduct? Please discuss either in your groups or with yourself. Think about what other features we can use to add some degree of explainability to this, as that may be relevant further on in our analysis in terms of a bigger picture\n",
        "\n",
        "We can deduce that the agegroup 20s andd 30s has the highest attrition rate"
      ]
    },
    {
      "cell_type": "markdown",
      "metadata": {
        "id": "5vQVmI2yIrBL"
      },
      "source": [
        "## *Let's find out if people are too lazy to travel far for work*"
      ]
    },
    {
      "cell_type": "markdown",
      "metadata": {
        "id": "1L6MXCHGBUww"
      },
      "source": [
        "![](https://aaubs.github.io/ds-master/media/M1-ass1-img3.png)"
      ]
    },
    {
      "cell_type": "markdown",
      "metadata": {
        "id": "MKHSC_KykQNO"
      },
      "source": [
        "**Let's first print out the descriptive stats for DistanceFromHome specifically. We can do this using the .describe() method:**"
      ]
    },
    {
      "cell_type": "code",
      "execution_count": 17,
      "metadata": {
        "id": "5kP4dxYXJMIg",
        "colab": {
          "base_uri": "https://localhost:8080/",
          "height": 81
        },
        "outputId": "b9985fcc-ffe8-4b7e-e58d-d6fc23c94740"
      },
      "outputs": [
        {
          "output_type": "execute_result",
          "data": {
            "text/plain": [
              "                   count      mean       std  min  25%  50%   75%   max\n",
              "DistanceFromHome  1470.0  9.192517  8.106864  1.0  2.0  7.0  14.0  29.0"
            ],
            "text/html": [
              "\n",
              "  <div id=\"df-b36b0355-6973-4941-ad52-6deab9874319\" class=\"colab-df-container\">\n",
              "    <div>\n",
              "<style scoped>\n",
              "    .dataframe tbody tr th:only-of-type {\n",
              "        vertical-align: middle;\n",
              "    }\n",
              "\n",
              "    .dataframe tbody tr th {\n",
              "        vertical-align: top;\n",
              "    }\n",
              "\n",
              "    .dataframe thead th {\n",
              "        text-align: right;\n",
              "    }\n",
              "</style>\n",
              "<table border=\"1\" class=\"dataframe\">\n",
              "  <thead>\n",
              "    <tr style=\"text-align: right;\">\n",
              "      <th></th>\n",
              "      <th>count</th>\n",
              "      <th>mean</th>\n",
              "      <th>std</th>\n",
              "      <th>min</th>\n",
              "      <th>25%</th>\n",
              "      <th>50%</th>\n",
              "      <th>75%</th>\n",
              "      <th>max</th>\n",
              "    </tr>\n",
              "  </thead>\n",
              "  <tbody>\n",
              "    <tr>\n",
              "      <th>DistanceFromHome</th>\n",
              "      <td>1470.0</td>\n",
              "      <td>9.192517</td>\n",
              "      <td>8.106864</td>\n",
              "      <td>1.0</td>\n",
              "      <td>2.0</td>\n",
              "      <td>7.0</td>\n",
              "      <td>14.0</td>\n",
              "      <td>29.0</td>\n",
              "    </tr>\n",
              "  </tbody>\n",
              "</table>\n",
              "</div>\n",
              "    <div class=\"colab-df-buttons\">\n",
              "\n",
              "  <div class=\"colab-df-container\">\n",
              "    <button class=\"colab-df-convert\" onclick=\"convertToInteractive('df-b36b0355-6973-4941-ad52-6deab9874319')\"\n",
              "            title=\"Convert this dataframe to an interactive table.\"\n",
              "            style=\"display:none;\">\n",
              "\n",
              "  <svg xmlns=\"http://www.w3.org/2000/svg\" height=\"24px\" viewBox=\"0 -960 960 960\">\n",
              "    <path d=\"M120-120v-720h720v720H120Zm60-500h600v-160H180v160Zm220 220h160v-160H400v160Zm0 220h160v-160H400v160ZM180-400h160v-160H180v160Zm440 0h160v-160H620v160ZM180-180h160v-160H180v160Zm440 0h160v-160H620v160Z\"/>\n",
              "  </svg>\n",
              "    </button>\n",
              "\n",
              "  <style>\n",
              "    .colab-df-container {\n",
              "      display:flex;\n",
              "      gap: 12px;\n",
              "    }\n",
              "\n",
              "    .colab-df-convert {\n",
              "      background-color: #E8F0FE;\n",
              "      border: none;\n",
              "      border-radius: 50%;\n",
              "      cursor: pointer;\n",
              "      display: none;\n",
              "      fill: #1967D2;\n",
              "      height: 32px;\n",
              "      padding: 0 0 0 0;\n",
              "      width: 32px;\n",
              "    }\n",
              "\n",
              "    .colab-df-convert:hover {\n",
              "      background-color: #E2EBFA;\n",
              "      box-shadow: 0px 1px 2px rgba(60, 64, 67, 0.3), 0px 1px 3px 1px rgba(60, 64, 67, 0.15);\n",
              "      fill: #174EA6;\n",
              "    }\n",
              "\n",
              "    .colab-df-buttons div {\n",
              "      margin-bottom: 4px;\n",
              "    }\n",
              "\n",
              "    [theme=dark] .colab-df-convert {\n",
              "      background-color: #3B4455;\n",
              "      fill: #D2E3FC;\n",
              "    }\n",
              "\n",
              "    [theme=dark] .colab-df-convert:hover {\n",
              "      background-color: #434B5C;\n",
              "      box-shadow: 0px 1px 3px 1px rgba(0, 0, 0, 0.15);\n",
              "      filter: drop-shadow(0px 1px 2px rgba(0, 0, 0, 0.3));\n",
              "      fill: #FFFFFF;\n",
              "    }\n",
              "  </style>\n",
              "\n",
              "    <script>\n",
              "      const buttonEl =\n",
              "        document.querySelector('#df-b36b0355-6973-4941-ad52-6deab9874319 button.colab-df-convert');\n",
              "      buttonEl.style.display =\n",
              "        google.colab.kernel.accessAllowed ? 'block' : 'none';\n",
              "\n",
              "      async function convertToInteractive(key) {\n",
              "        const element = document.querySelector('#df-b36b0355-6973-4941-ad52-6deab9874319');\n",
              "        const dataTable =\n",
              "          await google.colab.kernel.invokeFunction('convertToInteractive',\n",
              "                                                    [key], {});\n",
              "        if (!dataTable) return;\n",
              "\n",
              "        const docLinkHtml = 'Like what you see? Visit the ' +\n",
              "          '<a target=\"_blank\" href=https://colab.research.google.com/notebooks/data_table.ipynb>data table notebook</a>'\n",
              "          + ' to learn more about interactive tables.';\n",
              "        element.innerHTML = '';\n",
              "        dataTable['output_type'] = 'display_data';\n",
              "        await google.colab.output.renderOutput(dataTable, element);\n",
              "        const docLink = document.createElement('div');\n",
              "        docLink.innerHTML = docLinkHtml;\n",
              "        element.appendChild(docLink);\n",
              "      }\n",
              "    </script>\n",
              "  </div>\n",
              "\n",
              "    </div>\n",
              "  </div>\n"
            ]
          },
          "metadata": {},
          "execution_count": 17
        }
      ],
      "source": [
        "df[[\"DistanceFromHome\"]].describe().T"
      ]
    },
    {
      "cell_type": "markdown",
      "metadata": {
        "id": "DssAnH_UMG9a"
      },
      "source": [
        "**Let's then try visualizing this feature as a plot using KDE (Kernel Density Estimation). Create a KDE-plot using the pyplot and/or seaborn library**"
      ]
    },
    {
      "cell_type": "code",
      "execution_count": 18,
      "metadata": {
        "id": "X87SaAsjRVGr",
        "colab": {
          "base_uri": "https://localhost:8080/",
          "height": 684
        },
        "outputId": "10c5e912-7fe7-4aa7-859e-b6e51b016f6a"
      },
      "outputs": [
        {
          "output_type": "stream",
          "name": "stderr",
          "text": [
            "<ipython-input-18-0b0b3dd67271>:3: FutureWarning: \n",
            "\n",
            "`shade` is now deprecated in favor of `fill`; setting `fill=True`.\n",
            "This will become an error in seaborn v0.14.0; please update your code.\n",
            "\n",
            "  sns.kdeplot(df.DistanceFromHome, x=None, y=None, label='KDE', shade=True)\n"
          ]
        },
        {
          "output_type": "display_data",
          "data": {
            "text/plain": [
              "<Figure size 800x600 with 1 Axes>"
            ],
            "image/png": "[encoded data removed]"
          },
          "metadata": {}
        }
      ],
      "source": [
        "# Create a bar chart to visualize attrition by age group\n",
        "plt.figure(figsize=(8, 6))\n",
        "sns.kdeplot(df.DistanceFromHome, x=None, y=None, label='KDE', shade=True)\n",
        "\n",
        "# Add labels and a title\n",
        "plt.xlabel('Distance from Home')\n",
        "plt.ylabel('Density')\n",
        "plt.title('KDE Plot for Distance and home')\n",
        "\n",
        "# Display the plot\n",
        "plt.show()"
      ]
    },
    {
      "cell_type": "markdown",
      "metadata": {
        "id": "io3EFHgGND_y"
      },
      "source": [
        "**What can we deduct from this visualization? Is distance really an issue as far as attrition goes? Please discuss.\n",
        "\n",
        "The graph shows attrition being higher the closer to the company an employee is. This might imply that distance is not the cause of attrition, maybe the location of the company is near a waste-dump.**\n",
        "\n"
      ]
    },
    {
      "cell_type": "markdown",
      "metadata": {
        "id": "_rtp4L76RPgv"
      },
      "source": [
        "## *Is it particular job roles that tends to leave the company?*"
      ]
    },
    {
      "cell_type": "markdown",
      "metadata": {
        "id": "CPW5xUs0E4cn"
      },
      "source": [
        "![](https://aaubs.github.io/ds-master/media/M1-ass1-img4.png)"
      ]
    },
    {
      "cell_type": "markdown",
      "metadata": {
        "id": "v5ORLq78s8da"
      },
      "source": [
        ":**Let's try and visualize the attrition versus the job roles and find out if it's any particular job role(s) that are prone to suffer from attrition and churn. Let's first get the unique values for JobRole by using the .unique() method**"
      ]
    },
    {
      "cell_type": "code",
      "execution_count": 19,
      "metadata": {
        "id": "v-hAQp8SjR1-",
        "colab": {
          "base_uri": "https://localhost:8080/"
        },
        "outputId": "9755025d-a691-433c-899b-457ea9865f50"
      },
      "outputs": [
        {
          "output_type": "execute_result",
          "data": {
            "text/plain": [
              "array(['Sales Executive', 'Research Scientist', 'Laboratory Technician',\n",
              "       'Manufacturing Director', 'Healthcare Representative', 'Manager',\n",
              "       'Sales Representative', 'Research Director', 'Human Resources'],\n",
              "      dtype=object)"
            ]
          },
          "metadata": {},
          "execution_count": 19
        }
      ],
      "source": [
        "job_roles = df.JobRole.unique()\n",
        "job_roles"
      ]
    },
    {
      "cell_type": "markdown",
      "metadata": {
        "id": "03YQi8rHiVxF"
      },
      "source": [
        "**Create a bar chart using seaborn (countplot) and/or pyplot that shows the difference between 'Yes' and 'No' for attrition between all the different JobRoles. You can make the plot vertical or horizontal by placing the JobRole on either the X- or Y-axis.**"
      ]
    },
    {
      "cell_type": "code",
      "execution_count": 20,
      "metadata": {
        "id": "O2FGjg6GSw22",
        "colab": {
          "base_uri": "https://localhost:8080/",
          "height": 713
        },
        "outputId": "9c25caeb-ca11-4eea-c8b5-a0a221f57581"
      },
      "outputs": [
        {
          "output_type": "display_data",
          "data": {
            "text/plain": [
              "<Figure size 1500x600 with 1 Axes>"
            ],
            "image/png": "[encoded data removed]"
          },
          "metadata": {}
        }
      ],
      "source": [
        "# Instantiate the pyplot figure. Adjust the figure size as needed\n",
        "plt.figure(figsize=(15, 6))\n",
        "\n",
        "# Create a horizontal bar plot to visualize attrition by job role\n",
        "sns.countplot(data=df, x='JobRole', hue='Attrition')\n",
        "plt.xticks(rotation=45)\n",
        "\n",
        "# Add labels and a title\n",
        "plt.title('Attrition by Job Role')\n",
        "plt.xlabel('Job Role')\n",
        "plt.ylabel('Count')\n",
        "\n",
        "# Show the legend\n",
        "plt.legend(title='Attrition')\n",
        "\n",
        "# Display the plot\n",
        "plt.show()"
      ]
    },
    {
      "cell_type": "markdown",
      "source": [
        "We can see which roles have higher attrition, enableling action where it's most effecient. A more useful graph would be average years worked at the different positions and if possible taking into account if, when employees leave, that they leave the company and not attrition to the specific role in for instance a sales representative being promoted to a sales executive."
      ],
      "metadata": {
        "id": "M6VnBxsKTxP8"
      }
    },
    {
      "cell_type": "code",
      "source": [
        "# Instantiate the pyplot figure. Adjust the figure size as needed\n",
        "plt.figure(figsize=(8, 6))\n",
        "\n",
        "# Create a horizontal bar plot to visualize attrition by job role\n",
        "sns.countplot(data=df, x='JobRole', hue='Attrition')\n",
        "plt.xticks(rotation=45)\n",
        "\n",
        "# Add labels and a title\n",
        "plt.title('Attrition by Job Role')\n",
        "plt.xlabel('Job Role')\n",
        "plt.ylabel('Count')\n",
        "\n",
        "# Show the legend\n",
        "plt.legend(title='Attrition')\n",
        "\n",
        "# Display the plot\n",
        "plt.show()"
      ],
      "metadata": {
        "colab": {
          "base_uri": "https://localhost:8080/",
          "height": 713
        },
        "id": "vF0x-oxOgamf",
        "outputId": "ba16e572-7ec5-44a2-c642-4525bb0d3ab0"
      },
      "execution_count": 29,
      "outputs": [
        {
          "output_type": "display_data",
          "data": {
            "text/plain": [
              "<Figure size 800x600 with 1 Axes>"
            ],
            "image/png": "[encoded data removed]"
          },
          "metadata": {}
        }
      ]
    },
    {
      "cell_type": "markdown",
      "metadata": {
        "id": "PTzRtvS7nSYe"
      },
      "source": [
        "**What can we deduct from this visualization? Might there be better features to visualize? Please reflect/discuss within your groups**"
      ]
    },
    {
      "cell_type": "markdown",
      "metadata": {
        "id": "VQovw4okS9fB"
      },
      "source": [
        "## *Do we maybe have some sort of gender difference going on within the company?*"
      ]
    },
    {
      "cell_type": "markdown",
      "metadata": {
        "id": "jqjXutN5tuoq"
      },
      "source": [
        "Finally we want to see if there might be something going on in terms of the genders. It could be that there is something underlying going on in terms of inequality or similar, and this could be a possible reason for attrition."
      ]
    },
    {
      "cell_type": "markdown",
      "metadata": {
        "id": "3JzXv__bgXZe"
      },
      "source": [
        "**Using pyplot, create a pie chart showing the distribution of attrition == 'Yes' for males versus females. You will need to separate the 'Yes' and 'No' for attrition in order to do this. You can use the index of the separated dataframe as the labels by calling separated_df.index (separated_df being whatever you named the variable you saved the separated df to)**"
      ]
    },
    {
      "cell_type": "code",
      "execution_count": 22,
      "metadata": {
        "id": "10HwhqJiS9Ir",
        "colab": {
          "base_uri": "https://localhost:8080/",
          "height": 521
        },
        "outputId": "05463932-c3d2-4df4-ec65-5d54f475d613"
      },
      "outputs": [
        {
          "output_type": "display_data",
          "data": {
            "text/plain": [
              "<Figure size 600x600 with 1 Axes>"
            ],
            "image/png": "[encoded data removed]"
          },
          "metadata": {}
        }
      ],
      "source": [
        "# Separate the dataframe based on Attrition\n",
        "attrition_yes = df[df.Attrition == 'Yes']\n",
        "gender_count = attrition_yes.Gender.value_counts()\n",
        "\n",
        "sizes = gender_count.values\n",
        "labels = gender_count.index\n",
        "\n",
        "# Create a pie chart\n",
        "plt.figure(figsize=(6, 6))\n",
        "plt.pie(gender_count, labels=gender_count.index, autopct='%1.1f%%', startangle=90)\n",
        "\n",
        "# Add a title\n",
        "plt.title('Distribution of Attrition (\"Yes\") by Gender')\n",
        "\n",
        "# Display the plot\n",
        "plt.show()\n"
      ]
    },
    {
      "cell_type": "markdown",
      "metadata": {
        "id": "lprupIf7uPVq"
      },
      "source": [
        "**Can we conclude anything based on this? Are there better ways to visualize this? Please discuss\n",
        "\n",
        "That the female employees are less likely to contribute to attrition**"
      ]
    },
    {
      "cell_type": "markdown",
      "metadata": {
        "id": "KLWTE5Ql-wQy"
      },
      "source": [
        "# **Assignment 2 - Based on the available data, what are the possible reasons for these individuals to churn in the first place?**"
      ]
    },
    {
      "cell_type": "markdown",
      "metadata": {
        "id": "DWTfVKsXs5Ve"
      },
      "source": [
        "![](https://aaubs.github.io/ds-master/media/M1-ass1-img5.png)"
      ]
    },
    {
      "cell_type": "markdown",
      "metadata": {
        "id": "OcN7_lm4uxej"
      },
      "source": [
        "Alright, so now that you've analyzed which groups that seem to suffer from attrition, we need to figure out possible reasons for attrition. There are plenty of features that could potentially explain this, but let's stick to a just a few for now. Let's try and list a few possibilities:\n",
        "- **Jobsatisfaction** is a quite obvious metric to check against **Attrition**. If people aren't satisfied with their position, they might leave to get more work satisfaction.\n",
        "- We noticed that it was primarily the middle aged bins that suffered from attrition. This could indicate that they could've been at the company for a number of years, so **YearsAtCompany** or **YearsInCurrentRole** might be some interesting metrics to visualize against attrition."
      ]
    },
    {
      "cell_type": "markdown",
      "metadata": {
        "id": "jm5LCW373DEN"
      },
      "source": [
        "## *Is a low job satisfaction the reasoning behind the attrition?*"
      ]
    },
    {
      "cell_type": "markdown",
      "metadata": {
        "id": "cTtyOeM8eg2W"
      },
      "source": [
        "**First let us get some information for the columns we're interested in to know what kind of values we're dealing with. In this case, let's print out the unique values for JobSatisfaction and Attrition**"
      ]
    },
    {
      "cell_type": "code",
      "execution_count": 23,
      "metadata": {
        "id": "4UQz0HFreqze",
        "colab": {
          "base_uri": "https://localhost:8080/"
        },
        "outputId": "2379c3e4-8b80-43ec-8278-f54c8d1117aa"
      },
      "outputs": [
        {
          "output_type": "stream",
          "name": "stdout",
          "text": [
            "['Yes' 'No']\n"
          ]
        }
      ],
      "source": [
        "# Print unique Attrition values\n",
        "\n",
        "unique_Attrition = df.Attrition.unique()\n",
        "print(unique_Attrition)"
      ]
    },
    {
      "cell_type": "code",
      "execution_count": 24,
      "metadata": {
        "id": "hUC0yiUqfjjt",
        "colab": {
          "base_uri": "https://localhost:8080/"
        },
        "outputId": "59e6d22e-045b-482c-bc59-fcdd3b7dceee"
      },
      "outputs": [
        {
          "output_type": "stream",
          "name": "stdout",
          "text": [
            "[4 2 3 1]\n"
          ]
        }
      ],
      "source": [
        "# Print unique JobSatisfaction values\n",
        "\n",
        "unique_job_satisfaction = df.JobSatisfaction.unique()\n",
        "print(unique_job_satisfaction)"
      ]
    },
    {
      "cell_type": "markdown",
      "metadata": {
        "id": "ehSlDXqWdwo9"
      },
      "source": [
        "**Using the Altair library, create a stacked bar chart, with JobSatisfaction on the X-axis, and the employee counts on the Y-axis *( for this you can use count() )*. We also want to color the bar stacks based on Attrition.**"
      ]
    },
    {
      "cell_type": "code",
      "execution_count": 25,
      "metadata": {
        "id": "JGDbPX-Z-wnb",
        "colab": {
          "base_uri": "https://localhost:8080/",
          "height": 382
        },
        "outputId": "224d3639-2674-4303-ed7a-38eb7be80f32"
      },
      "outputs": [
        {
          "output_type": "execute_result",
          "data": {
            "text/html": [
              "\n",
              "<div id=\"altair-viz-1e4fc5747fdb40bf84b0f90271f5dec3\"></div>\n",
              "<script type=\"text/javascript\">\n",
              "  var VEGA_DEBUG = (typeof VEGA_DEBUG == \"undefined\") ? {} : VEGA_DEBUG;\n",
              "  (function(spec, embedOpt){\n",
              "    let outputDiv = document.currentScript.previousElementSibling;\n",
              "    if (outputDiv.id !== \"altair-viz-1e4fc5747fdb40bf84b0f90271f5dec3\") {\n",
              "      outputDiv = document.getElementById(\"altair-viz-1e4fc5747fdb40bf84b0f90271f5dec3\");\n",
              "    }\n",
              "    const paths = {\n",
              "      \"vega\": \"https://cdn.jsdelivr.net/npm//vega@5?noext\",\n",
              "      \"vega-lib\": \"https://cdn.jsdelivr.net/npm//vega-lib?noext\",\n",
              "      \"vega-lite\": \"https://cdn.jsdelivr.net/npm//vega-lite@4.17.0?noext\",\n",
              "      \"vega-embed\": \"https://cdn.jsdelivr.net/npm//vega-embed@6?noext\",\n",
              "    };\n",
              "\n",
              "    function maybeLoadScript(lib, version) {\n",
              "      var key = `${lib.replace(\"-\", \"\")}_version`;\n",
              "      return (VEGA_DEBUG[key] == version) ?\n",
              "        Promise.resolve(paths[lib]) :\n",
              "        new Promise(function(resolve, reject) {\n",
              "          var s = document.createElement('script');\n",
              "          document.getElementsByTagName(\"head\")[0].appendChild(s);\n",
              "          s.async = true;\n",
              "          s.onload = () => {\n",
              "            VEGA_DEBUG[key] = version;\n",
              "            return resolve(paths[lib]);\n",
              "          };\n",
              "          s.onerror = () => reject(`Error loading script: ${paths[lib]}`);\n",
              "          s.src = paths[lib];\n",
              "        });\n",
              "    }\n",
              "\n",
              "    function showError(err) {\n",
              "      outputDiv.innerHTML = `<div class=\"error\" style=\"color:red;\">${err}</div>`;\n",
              "      throw err;\n",
              "    }\n",
              "\n",
              "    function displayChart(vegaEmbed) {\n",
              "      vegaEmbed(outputDiv, spec, embedOpt)\n",
              "        .catch(err => showError(`Javascript Error: ${err.message}<br>This usually means there's a typo in your chart specification. See the javascript console for the full traceback.`));\n",
              "    }\n",
              "\n",
              "    if(typeof define === \"function\" && define.amd) {\n",
              "      requirejs.config({paths});\n",
              "      require([\"vega-embed\"], displayChart, err => showError(`Error loading script: ${err.message}`));\n",
              "    } else {\n",
              "      maybeLoadScript(\"vega\", \"5\")\n",
              "        .then(() => maybeLoadScript(\"vega-lite\", \"4.17.0\"))\n",
              "        .then(() => maybeLoadScript(\"vega-embed\", \"6\"))\n",
              "        .catch(showError)\n",
              "        .then(() => displayChart(vegaEmbed));\n",
              "    }\n",
              "  })({\"config\": {\"view\": {\"continuousWidth\": 400, \"continuousHeight\": 300}}, \"data\": {\"name\": \"data-8dfe587a9aa34b68a805539364760943\"}, \"mark\": \"bar\", \"encoding\": {\"color\": {\"field\": \"Attrition\", \"type\": \"nominal\"}, \"tooltip\": [{\"field\": \"JobSatisfaction\", \"type\": \"quantitative\"}, {\"field\": \"Count\", \"type\": \"quantitative\"}, {\"field\": \"Attrition\", \"type\": \"nominal\"}], \"x\": {\"field\": \"JobSatisfaction\", \"type\": \"ordinal\"}, \"y\": {\"field\": \"Count\", \"type\": \"quantitative\"}}, \"height\": 300, \"title\": \"Job Satisfaction and employee count\", \"width\": 500, \"$schema\": \"https://vega.github.io/schema/vega-lite/v4.17.0.json\", \"datasets\": {\"data-8dfe587a9aa34b68a805539364760943\": [{\"JobSatisfaction\": 1, \"Attrition\": \"No\", \"Count\": 223}, {\"JobSatisfaction\": 1, \"Attrition\": \"Yes\", \"Count\": 66}, {\"JobSatisfaction\": 2, \"Attrition\": \"No\", \"Count\": 234}, {\"JobSatisfaction\": 2, \"Attrition\": \"Yes\", \"Count\": 46}, {\"JobSatisfaction\": 3, \"Attrition\": \"No\", \"Count\": 369}, {\"JobSatisfaction\": 3, \"Attrition\": \"Yes\", \"Count\": 73}, {\"JobSatisfaction\": 4, \"Attrition\": \"No\", \"Count\": 407}, {\"JobSatisfaction\": 4, \"Attrition\": \"Yes\", \"Count\": 52}]}}, {\"mode\": \"vega-lite\"});\n",
              "</script>"
            ],
            "text/plain": [
              "alt.Chart(...)"
            ]
          },
          "metadata": {},
          "execution_count": 25
        }
      ],
      "source": [
        "# Calculate employee counts\n",
        "JobSatisfaction_grouping = df.groupby(['JobSatisfaction', 'Attrition']).size().reset_index(name='Count')\n",
        "\n",
        "# Create a stacked bar chart\n",
        "StackedBarChart_JobSatisfaction = alt.Chart(JobSatisfaction_grouping).mark_bar().encode(\n",
        "    x='JobSatisfaction:O',\n",
        "    y='Count:Q',\n",
        "    color='Attrition:N',\n",
        "    tooltip=['JobSatisfaction', 'Count', 'Attrition']\n",
        ").properties(\n",
        "    width=500,\n",
        "    height=300,\n",
        "    title='Job Satisfaction and employee count'\n",
        ")\n",
        "\n",
        "StackedBarChart_JobSatisfaction.configure_title(\n",
        "    fontSize=20,\n",
        "    font='Courier',\n",
        "    anchor='start',\n",
        "    color='gray')\n",
        "\n",
        "# Display the chart\n",
        "StackedBarChart_JobSatisfaction"
      ]
    },
    {
      "cell_type": "markdown",
      "metadata": {
        "id": "xMTuxkEZ2pc_"
      },
      "source": [
        "**What does this indicate? Please discuss\n",
        "\n",
        "This stacked bar chart allows us to visually explore the relationship between job satisfaction and attrition, identify patterns, and make decisions to improve employee retention and satisfaction within the organization. From this specific chart we can see that the higher the job satisfaction is, the attrition rate is lowe, which is expected.**"
      ]
    },
    {
      "cell_type": "markdown",
      "metadata": {
        "id": "6mupwoAl3QSV"
      },
      "source": [
        "## *Are people quickly looking for opportunities elsewhere?*"
      ]
    },
    {
      "cell_type": "markdown",
      "metadata": {
        "id": "h4xaO_aLnzQW"
      },
      "source": [
        "**Using Altair, create a stacked bar chart with the count() on the Y-axis, and the YearsAtCompany on the X-axis. We want the bars to be colored based on Attrition.**"
      ]
    },
    {
      "cell_type": "code",
      "execution_count": 26,
      "metadata": {
        "id": "yMP6EHs63Qrd",
        "colab": {
          "base_uri": "https://localhost:8080/",
          "height": 388
        },
        "outputId": "57c3de90-a50a-427a-b345-e66edd371d3d"
      },
      "outputs": [
        {
          "output_type": "execute_result",
          "data": {
            "text/html": [
              "\n",
              "<div id=\"altair-viz-e3a6bbc1168b4eb493856a0bed798407\"></div>\n",
              "<script type=\"text/javascript\">\n",
              "  var VEGA_DEBUG = (typeof VEGA_DEBUG == \"undefined\") ? {} : VEGA_DEBUG;\n",
              "  (function(spec, embedOpt){\n",
              "    let outputDiv = document.currentScript.previousElementSibling;\n",
              "    if (outputDiv.id !== \"altair-viz-e3a6bbc1168b4eb493856a0bed798407\") {\n",
              "      outputDiv = document.getElementById(\"altair-viz-e3a6bbc1168b4eb493856a0bed798407\");\n",
              "    }\n",
              "    const paths = {\n",
              "      \"vega\": \"https://cdn.jsdelivr.net/npm//vega@5?noext\",\n",
              "      \"vega-lib\": \"https://cdn.jsdelivr.net/npm//vega-lib?noext\",\n",
              "      \"vega-lite\": \"https://cdn.jsdelivr.net/npm//vega-lite@4.17.0?noext\",\n",
              "      \"vega-embed\": \"https://cdn.jsdelivr.net/npm//vega-embed@6?noext\",\n",
              "    };\n",
              "\n",
              "    function maybeLoadScript(lib, version) {\n",
              "      var key = `${lib.replace(\"-\", \"\")}_version`;\n",
              "      return (VEGA_DEBUG[key] == version) ?\n",
              "        Promise.resolve(paths[lib]) :\n",
              "        new Promise(function(resolve, reject) {\n",
              "          var s = document.createElement('script');\n",
              "          document.getElementsByTagName(\"head\")[0].appendChild(s);\n",
              "          s.async = true;\n",
              "          s.onload = () => {\n",
              "            VEGA_DEBUG[key] = version;\n",
              "            return resolve(paths[lib]);\n",
              "          };\n",
              "          s.onerror = () => reject(`Error loading script: ${paths[lib]}`);\n",
              "          s.src = paths[lib];\n",
              "        });\n",
              "    }\n",
              "\n",
              "    function showError(err) {\n",
              "      outputDiv.innerHTML = `<div class=\"error\" style=\"color:red;\">${err}</div>`;\n",
              "      throw err;\n",
              "    }\n",
              "\n",
              "    function displayChart(vegaEmbed) {\n",
              "      vegaEmbed(outputDiv, spec, embedOpt)\n",
              "        .catch(err => showError(`Javascript Error: ${err.message}<br>This usually means there's a typo in your chart specification. See the javascript console for the full traceback.`));\n",
              "    }\n",
              "\n",
              "    if(typeof define === \"function\" && define.amd) {\n",
              "      requirejs.config({paths});\n",
              "      require([\"vega-embed\"], displayChart, err => showError(`Error loading script: ${err.message}`));\n",
              "    } else {\n",
              "      maybeLoadScript(\"vega\", \"5\")\n",
              "        .then(() => maybeLoadScript(\"vega-lite\", \"4.17.0\"))\n",
              "        .then(() => maybeLoadScript(\"vega-embed\", \"6\"))\n",
              "        .catch(showError)\n",
              "        .then(() => displayChart(vegaEmbed));\n",
              "    }\n",
              "  })({\"config\": {\"view\": {\"continuousWidth\": 400, \"continuousHeight\": 300}}, \"data\": {\"name\": \"data-1a256fc089ed2afcb2bf9f006c5009a7\"}, \"mark\": \"bar\", \"encoding\": {\"color\": {\"field\": \"Attrition\", \"type\": \"nominal\"}, \"tooltip\": [{\"field\": \"YearsAtCompany\", \"type\": \"quantitative\"}, {\"field\": \"Count\", \"type\": \"quantitative\"}, {\"field\": \"Attrition\", \"type\": \"nominal\"}], \"x\": {\"field\": \"YearsAtCompany\", \"type\": \"ordinal\"}, \"y\": {\"field\": \"Count\", \"type\": \"quantitative\"}}, \"height\": 300, \"title\": \"Years At Company and employee count\", \"width\": 500, \"$schema\": \"https://vega.github.io/schema/vega-lite/v4.17.0.json\", \"datasets\": {\"data-1a256fc089ed2afcb2bf9f006c5009a7\": [{\"YearsAtCompany\": 0, \"Attrition\": \"No\", \"Count\": 28}, {\"YearsAtCompany\": 0, \"Attrition\": \"Yes\", \"Count\": 16}, {\"YearsAtCompany\": 1, \"Attrition\": \"No\", \"Count\": 112}, {\"YearsAtCompany\": 1, \"Attrition\": \"Yes\", \"Count\": 59}, {\"YearsAtCompany\": 2, \"Attrition\": \"No\", \"Count\": 100}, {\"YearsAtCompany\": 2, \"Attrition\": \"Yes\", \"Count\": 27}, {\"YearsAtCompany\": 3, \"Attrition\": \"No\", \"Count\": 108}, {\"YearsAtCompany\": 3, \"Attrition\": \"Yes\", \"Count\": 20}, {\"YearsAtCompany\": 4, \"Attrition\": \"No\", \"Count\": 91}, {\"YearsAtCompany\": 4, \"Attrition\": \"Yes\", \"Count\": 19}, {\"YearsAtCompany\": 5, \"Attrition\": \"No\", \"Count\": 175}, {\"YearsAtCompany\": 5, \"Attrition\": \"Yes\", \"Count\": 21}, {\"YearsAtCompany\": 6, \"Attrition\": \"No\", \"Count\": 67}, {\"YearsAtCompany\": 6, \"Attrition\": \"Yes\", \"Count\": 9}, {\"YearsAtCompany\": 7, \"Attrition\": \"No\", \"Count\": 79}, {\"YearsAtCompany\": 7, \"Attrition\": \"Yes\", \"Count\": 11}, {\"YearsAtCompany\": 8, \"Attrition\": \"No\", \"Count\": 71}, {\"YearsAtCompany\": 8, \"Attrition\": \"Yes\", \"Count\": 9}, {\"YearsAtCompany\": 9, \"Attrition\": \"No\", \"Count\": 74}, {\"YearsAtCompany\": 9, \"Attrition\": \"Yes\", \"Count\": 8}, {\"YearsAtCompany\": 10, \"Attrition\": \"No\", \"Count\": 102}, {\"YearsAtCompany\": 10, \"Attrition\": \"Yes\", \"Count\": 18}, {\"YearsAtCompany\": 11, \"Attrition\": \"No\", \"Count\": 30}, {\"YearsAtCompany\": 11, \"Attrition\": \"Yes\", \"Count\": 2}, {\"YearsAtCompany\": 12, \"Attrition\": \"No\", \"Count\": 14}, {\"YearsAtCompany\": 13, \"Attrition\": \"No\", \"Count\": 22}, {\"YearsAtCompany\": 13, \"Attrition\": \"Yes\", \"Count\": 2}, {\"YearsAtCompany\": 14, \"Attrition\": \"No\", \"Count\": 16}, {\"YearsAtCompany\": 14, \"Attrition\": \"Yes\", \"Count\": 2}, {\"YearsAtCompany\": 15, \"Attrition\": \"No\", \"Count\": 19}, {\"YearsAtCompany\": 15, \"Attrition\": \"Yes\", \"Count\": 1}, {\"YearsAtCompany\": 16, \"Attrition\": \"No\", \"Count\": 11}, {\"YearsAtCompany\": 16, \"Attrition\": \"Yes\", \"Count\": 1}, {\"YearsAtCompany\": 17, \"Attrition\": \"No\", \"Count\": 8}, {\"YearsAtCompany\": 17, \"Attrition\": \"Yes\", \"Count\": 1}, {\"YearsAtCompany\": 18, \"Attrition\": \"No\", \"Count\": 12}, {\"YearsAtCompany\": 18, \"Attrition\": \"Yes\", \"Count\": 1}, {\"YearsAtCompany\": 19, \"Attrition\": \"No\", \"Count\": 10}, {\"YearsAtCompany\": 19, \"Attrition\": \"Yes\", \"Count\": 1}, {\"YearsAtCompany\": 20, \"Attrition\": \"No\", \"Count\": 26}, {\"YearsAtCompany\": 20, \"Attrition\": \"Yes\", \"Count\": 1}, {\"YearsAtCompany\": 21, \"Attrition\": \"No\", \"Count\": 13}, {\"YearsAtCompany\": 21, \"Attrition\": \"Yes\", \"Count\": 1}, {\"YearsAtCompany\": 22, \"Attrition\": \"No\", \"Count\": 14}, {\"YearsAtCompany\": 22, \"Attrition\": \"Yes\", \"Count\": 1}, {\"YearsAtCompany\": 23, \"Attrition\": \"No\", \"Count\": 1}, {\"YearsAtCompany\": 23, \"Attrition\": \"Yes\", \"Count\": 1}, {\"YearsAtCompany\": 24, \"Attrition\": \"No\", \"Count\": 5}, {\"YearsAtCompany\": 24, \"Attrition\": \"Yes\", \"Count\": 1}, {\"YearsAtCompany\": 25, \"Attrition\": \"No\", \"Count\": 4}, {\"YearsAtCompany\": 26, \"Attrition\": \"No\", \"Count\": 4}, {\"YearsAtCompany\": 27, \"Attrition\": \"No\", \"Count\": 2}, {\"YearsAtCompany\": 29, \"Attrition\": \"No\", \"Count\": 2}, {\"YearsAtCompany\": 30, \"Attrition\": \"No\", \"Count\": 1}, {\"YearsAtCompany\": 31, \"Attrition\": \"No\", \"Count\": 2}, {\"YearsAtCompany\": 31, \"Attrition\": \"Yes\", \"Count\": 1}, {\"YearsAtCompany\": 32, \"Attrition\": \"No\", \"Count\": 2}, {\"YearsAtCompany\": 32, \"Attrition\": \"Yes\", \"Count\": 1}, {\"YearsAtCompany\": 33, \"Attrition\": \"No\", \"Count\": 4}, {\"YearsAtCompany\": 33, \"Attrition\": \"Yes\", \"Count\": 1}, {\"YearsAtCompany\": 34, \"Attrition\": \"No\", \"Count\": 1}, {\"YearsAtCompany\": 36, \"Attrition\": \"No\", \"Count\": 2}, {\"YearsAtCompany\": 37, \"Attrition\": \"No\", \"Count\": 1}, {\"YearsAtCompany\": 40, \"Attrition\": \"Yes\", \"Count\": 1}]}}, {\"mode\": \"vega-lite\"});\n",
              "</script>"
            ],
            "text/plain": [
              "alt.Chart(...)"
            ]
          },
          "metadata": {},
          "execution_count": 26
        }
      ],
      "source": [
        "# Calculate employee counts\n",
        "YearsAtCompany_grouping = df.groupby(['YearsAtCompany', 'Attrition']).size().reset_index(name='Count')\n",
        "\n",
        "# Create a stacked bar chart\n",
        "StackedBarChart_YearsAtCompany = alt.Chart(YearsAtCompany_grouping).mark_bar().encode(\n",
        "    x='YearsAtCompany:O',\n",
        "    y='Count:Q',\n",
        "    color='Attrition:N',\n",
        "    tooltip=['YearsAtCompany', 'Count', 'Attrition']\n",
        ").properties(\n",
        "    width=500,\n",
        "    height=300,\n",
        "    title='Years At Company and employee count'\n",
        ")\n",
        "\n",
        "StackedBarChart_YearsAtCompany.configure_title(\n",
        "    fontSize=20,\n",
        "    font='Courier',\n",
        "    anchor='start',\n",
        "    color='gray')\n",
        "\n",
        "# Display the chart\n",
        "StackedBarChart_YearsAtCompany"
      ]
    },
    {
      "cell_type": "markdown",
      "metadata": {
        "id": "DGOlOpK64mZP"
      },
      "source": [
        "**What can we deduct from this visual? Please discuss\n",
        "\n",
        "this stacked barchart actually shows us that it seems like its more often employees get somewhat a feeling of attrition in the first years.That stable employees are stable, also that something which requires further examination happens between the start of year 0 and the end of year 1.  **"
      ]
    },
    {
      "cell_type": "markdown",
      "metadata": {
        "id": "4rlsdWiy-xDz"
      },
      "source": [
        "# **Assignment 3 - What incentives can we create to reduce the churn rate?**"
      ]
    },
    {
      "cell_type": "markdown",
      "metadata": {
        "id": "WTpfE-rdrxJz"
      },
      "source": [
        "So far we have identified some possible groups and causes for the attrition rates, now it's time that we find out how we might be able to reduce it"
      ]
    },
    {
      "cell_type": "markdown",
      "metadata": {
        "id": "7D4VDccVt_cm"
      },
      "source": [
        "![](https://aaubs.github.io/ds-master/media/M1-ass1-img6.png)"
      ]
    },
    {
      "cell_type": "markdown",
      "metadata": {
        "id": "uRcuyftE5wMt"
      },
      "source": [
        "## *Are we paying our employees enough for their commitment?*"
      ]
    },
    {
      "cell_type": "markdown",
      "metadata": {
        "id": "5qFRTZ-t59Z1"
      },
      "source": [
        "Based on our analysis so far, it could indicate that people are seeking other opportunities fairly quickly, so let's see how this correlates with the feature 'MonthlyRate' as this should indicate how peoples can expect their pays to rise along their progress within the company\n",
        "- **Using Altair, create a boxplot that shows how the MonthlyRate distribution changes as their JobLevel increases.**"
      ]
    },
    {
      "cell_type": "code",
      "execution_count": 27,
      "metadata": {
        "id": "PNcZ9Vf2qG38",
        "colab": {
          "base_uri": "https://localhost:8080/",
          "height": 384
        },
        "outputId": "55b365ab-c713-40c7-cf49-d31b8fae8519"
      },
      "outputs": [
        {
          "output_type": "execute_result",
          "data": {
            "text/html": [
              "\n",
              "<div id=\"altair-viz-3d5be4d21a8547e9a2ffb33964b255cd\"></div>\n",
              "<script type=\"text/javascript\">\n",
              "  var VEGA_DEBUG = (typeof VEGA_DEBUG == \"undefined\") ? {} : VEGA_DEBUG;\n",
              "  (function(spec, embedOpt){\n",
              "    let outputDiv = document.currentScript.previousElementSibling;\n",
              "    if (outputDiv.id !== \"altair-viz-3d5be4d21a8547e9a2ffb33964b255cd\") {\n",
              "      outputDiv = document.getElementById(\"altair-viz-3d5be4d21a8547e9a2ffb33964b255cd\");\n",
              "    }\n",
              "    const paths = {\n",
              "      \"vega\": \"https://cdn.jsdelivr.net/npm//vega@5?noext\",\n",
              "      \"vega-lib\": \"https://cdn.jsdelivr.net/npm//vega-lib?noext\",\n",
              "      \"vega-lite\": \"https://cdn.jsdelivr.net/npm//vega-lite@4.17.0?noext\",\n",
              "      \"vega-embed\": \"https://cdn.jsdelivr.net/npm//vega-embed@6?noext\",\n",
              "    };\n",
              "\n",
              "    function maybeLoadScript(lib, version) {\n",
              "      var key = `${lib.replace(\"-\", \"\")}_version`;\n",
              "      return (VEGA_DEBUG[key] == version) ?\n",
              "        Promise.resolve(paths[lib]) :\n",
              "        new Promise(function(resolve, reject) {\n",
              "          var s = document.createElement('script');\n",
              "          document.getElementsByTagName(\"head\")[0].appendChild(s);\n",
              "          s.async = true;\n",
              "          s.onload = () => {\n",
              "            VEGA_DEBUG[key] = version;\n",
              "            return resolve(paths[lib]);\n",
              "          };\n",
              "          s.onerror = () => reject(`Error loading script: ${paths[lib]}`);\n",
              "          s.src = paths[lib];\n",
              "        });\n",
              "    }\n",
              "\n",
              "    function showError(err) {\n",
              "      outputDiv.innerHTML = `<div class=\"error\" style=\"color:red;\">${err}</div>`;\n",
              "      throw err;\n",
              "    }\n",
              "\n",
              "    function displayChart(vegaEmbed) {\n",
              "      vegaEmbed(outputDiv, spec, embedOpt)\n",
              "        .catch(err => showError(`Javascript Error: ${err.message}<br>This usually means there's a typo in your chart specification. See the javascript console for the full traceback.`));\n",
              "    }\n",
              "\n",
              "    if(typeof define === \"function\" && define.amd) {\n",
              "      requirejs.config({paths});\n",
              "      require([\"vega-embed\"], displayChart, err => showError(`Error loading script: ${err.message}`));\n",
              "    } else {\n",
              "      maybeLoadScript(\"vega\", \"5\")\n",
              "        .then(() => maybeLoadScript(\"vega-lite\", \"4.17.0\"))\n",
              "        .then(() => maybeLoadScript(\"vega-embed\", \"6\"))\n",
              "        .catch(showError)\n",
              "        .then(() => displayChart(vegaEmbed));\n",
              "    }\n",
              "  })({\"config\": {\"view\": {\"continuousWidth\": 400, \"continuousHeight\": 300}, \"title\": {\"anchor\": \"start\", \"color\": \"gray\", \"font\": \"Arial\", \"fontSize\": 20}}, \"data\": {\"name\": \"data-1074e40bfadbf343e550ca95073bb7bb\"}, \"mark\": \"boxplot\", \"encoding\": {\"x\": {\"field\": \"JobLevel\", \"type\": \"ordinal\"}, \"y\": {\"field\": \"MonthlyRate\", \"type\": \"quantitative\"}}, \"height\": 300, \"title\": \"MonthlyRate Distribution by JobLevel\", \"width\": 500, \"$schema\": \"https://vega.github.io/schema/vega-lite/v4.17.0.json\", \"datasets\": {\"data-1074e40bfadbf343e550ca95073bb7bb\": [{\"MonthlyRate\": 2094, \"JobLevel\": 3, \"Count\": 1}, {\"MonthlyRate\": 2097, \"JobLevel\": 1, \"Count\": 1}, {\"MonthlyRate\": 2104, \"JobLevel\": 1, \"Count\": 1}, {\"MonthlyRate\": 2112, \"JobLevel\": 2, \"Count\": 1}, {\"MonthlyRate\": 2122, \"JobLevel\": 1, \"Count\": 1}, {\"MonthlyRate\": 2125, \"JobLevel\": 2, \"Count\": 1}, {\"MonthlyRate\": 2125, \"JobLevel\": 5, \"Count\": 1}, {\"MonthlyRate\": 2137, \"JobLevel\": 3, \"Count\": 1}, {\"MonthlyRate\": 2227, \"JobLevel\": 2, \"Count\": 1}, {\"MonthlyRate\": 2243, \"JobLevel\": 1, \"Count\": 1}, {\"MonthlyRate\": 2253, \"JobLevel\": 2, \"Count\": 1}, {\"MonthlyRate\": 2261, \"JobLevel\": 2, \"Count\": 1}, {\"MonthlyRate\": 2288, \"JobLevel\": 4, \"Count\": 1}, {\"MonthlyRate\": 2302, \"JobLevel\": 2, \"Count\": 1}, {\"MonthlyRate\": 2323, \"JobLevel\": 2, \"Count\": 1}, {\"MonthlyRate\": 2326, \"JobLevel\": 3, \"Count\": 1}, {\"MonthlyRate\": 2338, \"JobLevel\": 2, \"Count\": 1}, {\"MonthlyRate\": 2354, \"JobLevel\": 3, \"Count\": 1}, {\"MonthlyRate\": 2373, \"JobLevel\": 1, \"Count\": 1}, {\"MonthlyRate\": 2396, \"JobLevel\": 1, \"Count\": 1}, {\"MonthlyRate\": 2437, \"JobLevel\": 4, \"Count\": 1}, {\"MonthlyRate\": 2447, \"JobLevel\": 4, \"Count\": 1}, {\"MonthlyRate\": 2493, \"JobLevel\": 5, \"Count\": 1}, {\"MonthlyRate\": 2539, \"JobLevel\": 1, \"Count\": 1}, {\"MonthlyRate\": 2560, \"JobLevel\": 3, \"Count\": 1}, {\"MonthlyRate\": 2561, \"JobLevel\": 1, \"Count\": 1}, {\"MonthlyRate\": 2613, \"JobLevel\": 1, \"Count\": 1}, {\"MonthlyRate\": 2671, \"JobLevel\": 4, \"Count\": 1}, {\"MonthlyRate\": 2689, \"JobLevel\": 2, \"Count\": 1}, {\"MonthlyRate\": 2690, \"JobLevel\": 2, \"Count\": 1}, {\"MonthlyRate\": 2706, \"JobLevel\": 2, \"Count\": 1}, {\"MonthlyRate\": 2721, \"JobLevel\": 2, \"Count\": 1}, {\"MonthlyRate\": 2725, \"JobLevel\": 1, \"Count\": 1}, {\"MonthlyRate\": 2739, \"JobLevel\": 3, \"Count\": 1}, {\"MonthlyRate\": 2755, \"JobLevel\": 1, \"Count\": 1}, {\"MonthlyRate\": 2755, \"JobLevel\": 3, \"Count\": 1}, {\"MonthlyRate\": 2819, \"JobLevel\": 2, \"Count\": 1}, {\"MonthlyRate\": 2823, \"JobLevel\": 2, \"Count\": 1}, {\"MonthlyRate\": 2845, \"JobLevel\": 3, \"Count\": 1}, {\"MonthlyRate\": 2851, \"JobLevel\": 1, \"Count\": 1}, {\"MonthlyRate\": 2890, \"JobLevel\": 3, \"Count\": 1}, {\"MonthlyRate\": 2900, \"JobLevel\": 2, \"Count\": 1}, {\"MonthlyRate\": 2912, \"JobLevel\": 1, \"Count\": 1}, {\"MonthlyRate\": 2939, \"JobLevel\": 2, \"Count\": 1}, {\"MonthlyRate\": 2967, \"JobLevel\": 2, \"Count\": 1}, {\"MonthlyRate\": 2975, \"JobLevel\": 3, \"Count\": 1}, {\"MonthlyRate\": 2993, \"JobLevel\": 1, \"Count\": 1}, {\"MonthlyRate\": 2997, \"JobLevel\": 1, \"Count\": 1}, {\"MonthlyRate\": 3010, \"JobLevel\": 2, \"Count\": 1}, {\"MonthlyRate\": 3020, \"JobLevel\": 1, \"Count\": 1}, {\"MonthlyRate\": 3031, \"JobLevel\": 2, \"Count\": 1}, {\"MonthlyRate\": 3032, \"JobLevel\": 1, \"Count\": 1}, {\"MonthlyRate\": 3064, \"JobLevel\": 2, \"Count\": 1}, {\"MonthlyRate\": 3072, \"JobLevel\": 1, \"Count\": 1}, {\"MonthlyRate\": 3088, \"JobLevel\": 3, \"Count\": 1}, {\"MonthlyRate\": 3119, \"JobLevel\": 1, \"Count\": 1}, {\"MonthlyRate\": 3129, \"JobLevel\": 2, \"Count\": 1}, {\"MonthlyRate\": 3140, \"JobLevel\": 2, \"Count\": 1}, {\"MonthlyRate\": 3142, \"JobLevel\": 3, \"Count\": 1}, {\"MonthlyRate\": 3156, \"JobLevel\": 4, \"Count\": 1}, {\"MonthlyRate\": 3157, \"JobLevel\": 1, \"Count\": 1}, {\"MonthlyRate\": 3164, \"JobLevel\": 1, \"Count\": 1}, {\"MonthlyRate\": 3173, \"JobLevel\": 2, \"Count\": 1}, {\"MonthlyRate\": 3193, \"JobLevel\": 2, \"Count\": 1}, {\"MonthlyRate\": 3208, \"JobLevel\": 1, \"Count\": 1}, {\"MonthlyRate\": 3297, \"JobLevel\": 1, \"Count\": 1}, {\"MonthlyRate\": 3300, \"JobLevel\": 1, \"Count\": 1}, {\"MonthlyRate\": 3334, \"JobLevel\": 2, \"Count\": 1}, {\"MonthlyRate\": 3335, \"JobLevel\": 2, \"Count\": 1}, {\"MonthlyRate\": 3339, \"JobLevel\": 1, \"Count\": 2}, {\"MonthlyRate\": 3356, \"JobLevel\": 2, \"Count\": 1}, {\"MonthlyRate\": 3372, \"JobLevel\": 1, \"Count\": 1}, {\"MonthlyRate\": 3376, \"JobLevel\": 3, \"Count\": 1}, {\"MonthlyRate\": 3395, \"JobLevel\": 3, \"Count\": 1}, {\"MonthlyRate\": 3415, \"JobLevel\": 2, \"Count\": 1}, {\"MonthlyRate\": 3423, \"JobLevel\": 4, \"Count\": 1}, {\"MonthlyRate\": 3425, \"JobLevel\": 1, \"Count\": 1}, {\"MonthlyRate\": 3427, \"JobLevel\": 1, \"Count\": 1}, {\"MonthlyRate\": 3445, \"JobLevel\": 1, \"Count\": 1}, {\"MonthlyRate\": 3449, \"JobLevel\": 3, \"Count\": 1}, {\"MonthlyRate\": 3458, \"JobLevel\": 3, \"Count\": 1}, {\"MonthlyRate\": 3465, \"JobLevel\": 3, \"Count\": 1}, {\"MonthlyRate\": 3487, \"JobLevel\": 2, \"Count\": 1}, {\"MonthlyRate\": 3498, \"JobLevel\": 4, \"Count\": 1}, {\"MonthlyRate\": 3525, \"JobLevel\": 4, \"Count\": 1}, {\"MonthlyRate\": 3536, \"JobLevel\": 2, \"Count\": 1}, {\"MonthlyRate\": 3549, \"JobLevel\": 5, \"Count\": 1}, {\"MonthlyRate\": 3567, \"JobLevel\": 2, \"Count\": 1}, {\"MonthlyRate\": 3622, \"JobLevel\": 1, \"Count\": 1}, {\"MonthlyRate\": 3666, \"JobLevel\": 1, \"Count\": 1}, {\"MonthlyRate\": 3687, \"JobLevel\": 2, \"Count\": 1}, {\"MonthlyRate\": 3692, \"JobLevel\": 1, \"Count\": 1}, {\"MonthlyRate\": 3698, \"JobLevel\": 2, \"Count\": 1}, {\"MonthlyRate\": 3708, \"JobLevel\": 1, \"Count\": 1}, {\"MonthlyRate\": 3735, \"JobLevel\": 5, \"Count\": 1}, {\"MonthlyRate\": 3787, \"JobLevel\": 2, \"Count\": 1}, {\"MonthlyRate\": 3809, \"JobLevel\": 3, \"Count\": 1}, {\"MonthlyRate\": 3810, \"JobLevel\": 1, \"Count\": 1}, {\"MonthlyRate\": 3811, \"JobLevel\": 1, \"Count\": 1}, {\"MonthlyRate\": 3835, \"JobLevel\": 2, \"Count\": 1}, {\"MonthlyRate\": 3840, \"JobLevel\": 3, \"Count\": 1}, {\"MonthlyRate\": 3854, \"JobLevel\": 5, \"Count\": 1}, {\"MonthlyRate\": 3872, \"JobLevel\": 1, \"Count\": 1}, {\"MonthlyRate\": 3909, \"JobLevel\": 1, \"Count\": 1}, {\"MonthlyRate\": 3921, \"JobLevel\": 2, \"Count\": 1}, {\"MonthlyRate\": 3956, \"JobLevel\": 1, \"Count\": 1}, {\"MonthlyRate\": 3974, \"JobLevel\": 1, \"Count\": 1}, {\"MonthlyRate\": 3987, \"JobLevel\": 2, \"Count\": 1}, {\"MonthlyRate\": 3995, \"JobLevel\": 1, \"Count\": 1}, {\"MonthlyRate\": 4009, \"JobLevel\": 2, \"Count\": 1}, {\"MonthlyRate\": 4022, \"JobLevel\": 5, \"Count\": 1}, {\"MonthlyRate\": 4050, \"JobLevel\": 1, \"Count\": 1}, {\"MonthlyRate\": 4051, \"JobLevel\": 2, \"Count\": 1}, {\"MonthlyRate\": 4060, \"JobLevel\": 1, \"Count\": 1}, {\"MonthlyRate\": 4077, \"JobLevel\": 1, \"Count\": 1}, {\"MonthlyRate\": 4156, \"JobLevel\": 1, \"Count\": 1}, {\"MonthlyRate\": 4156, \"JobLevel\": 2, \"Count\": 1}, {\"MonthlyRate\": 4161, \"JobLevel\": 4, \"Count\": 1}, {\"MonthlyRate\": 4167, \"JobLevel\": 1, \"Count\": 1}, {\"MonthlyRate\": 4185, \"JobLevel\": 2, \"Count\": 1}, {\"MonthlyRate\": 4187, \"JobLevel\": 2, \"Count\": 1}, {\"MonthlyRate\": 4204, \"JobLevel\": 2, \"Count\": 1}, {\"MonthlyRate\": 4223, \"JobLevel\": 1, \"Count\": 1}, {\"MonthlyRate\": 4223, \"JobLevel\": 2, \"Count\": 2}, {\"MonthlyRate\": 4235, \"JobLevel\": 3, \"Count\": 1}, {\"MonthlyRate\": 4244, \"JobLevel\": 2, \"Count\": 1}, {\"MonthlyRate\": 4257, \"JobLevel\": 1, \"Count\": 1}, {\"MonthlyRate\": 4258, \"JobLevel\": 2, \"Count\": 1}, {\"MonthlyRate\": 4267, \"JobLevel\": 2, \"Count\": 1}, {\"MonthlyRate\": 4279, \"JobLevel\": 1, \"Count\": 1}, {\"MonthlyRate\": 4284, \"JobLevel\": 2, \"Count\": 1}, {\"MonthlyRate\": 4297, \"JobLevel\": 2, \"Count\": 1}, {\"MonthlyRate\": 4303, \"JobLevel\": 1, \"Count\": 1}, {\"MonthlyRate\": 4306, \"JobLevel\": 1, \"Count\": 1}, {\"MonthlyRate\": 4317, \"JobLevel\": 2, \"Count\": 1}, {\"MonthlyRate\": 4344, \"JobLevel\": 1, \"Count\": 1}, {\"MonthlyRate\": 4345, \"JobLevel\": 4, \"Count\": 1}, {\"MonthlyRate\": 4349, \"JobLevel\": 5, \"Count\": 1}, {\"MonthlyRate\": 4381, \"JobLevel\": 2, \"Count\": 1}, {\"MonthlyRate\": 4386, \"JobLevel\": 2, \"Count\": 1}, {\"MonthlyRate\": 4488, \"JobLevel\": 1, \"Count\": 1}, {\"MonthlyRate\": 4510, \"JobLevel\": 1, \"Count\": 1}, {\"MonthlyRate\": 4544, \"JobLevel\": 4, \"Count\": 1}, {\"MonthlyRate\": 4567, \"JobLevel\": 1, \"Count\": 1}, {\"MonthlyRate\": 4585, \"JobLevel\": 1, \"Count\": 1}, {\"MonthlyRate\": 4605, \"JobLevel\": 1, \"Count\": 1}, {\"MonthlyRate\": 4609, \"JobLevel\": 1, \"Count\": 1}, {\"MonthlyRate\": 4652, \"JobLevel\": 2, \"Count\": 1}, {\"MonthlyRate\": 4658, \"JobLevel\": 2, \"Count\": 1}, {\"MonthlyRate\": 4658, \"JobLevel\": 3, \"Count\": 1}, {\"MonthlyRate\": 4668, \"JobLevel\": 1, \"Count\": 1}, {\"MonthlyRate\": 4673, \"JobLevel\": 1, \"Count\": 1}, {\"MonthlyRate\": 4681, \"JobLevel\": 1, \"Count\": 1}, {\"MonthlyRate\": 4732, \"JobLevel\": 1, \"Count\": 1}, {\"MonthlyRate\": 4759, \"JobLevel\": 1, \"Count\": 1}, {\"MonthlyRate\": 4761, \"JobLevel\": 2, \"Count\": 1}, {\"MonthlyRate\": 4809, \"JobLevel\": 3, \"Count\": 1}, {\"MonthlyRate\": 4814, \"JobLevel\": 3, \"Count\": 1}, {\"MonthlyRate\": 4821, \"JobLevel\": 2, \"Count\": 1}, {\"MonthlyRate\": 4824, \"JobLevel\": 2, \"Count\": 1}, {\"MonthlyRate\": 4892, \"JobLevel\": 1, \"Count\": 1}, {\"MonthlyRate\": 4905, \"JobLevel\": 2, \"Count\": 1}, {\"MonthlyRate\": 4910, \"JobLevel\": 1, \"Count\": 1}, {\"MonthlyRate\": 4933, \"JobLevel\": 5, \"Count\": 1}, {\"MonthlyRate\": 4944, \"JobLevel\": 1, \"Count\": 1}, {\"MonthlyRate\": 4956, \"JobLevel\": 1, \"Count\": 1}, {\"MonthlyRate\": 4973, \"JobLevel\": 2, \"Count\": 1}, {\"MonthlyRate\": 4981, \"JobLevel\": 2, \"Count\": 1}, {\"MonthlyRate\": 4992, \"JobLevel\": 2, \"Count\": 1}, {\"MonthlyRate\": 5013, \"JobLevel\": 1, \"Count\": 1}, {\"MonthlyRate\": 5033, \"JobLevel\": 1, \"Count\": 1}, {\"MonthlyRate\": 5041, \"JobLevel\": 2, \"Count\": 1}, {\"MonthlyRate\": 5044, \"JobLevel\": 1, \"Count\": 1}, {\"MonthlyRate\": 5050, \"JobLevel\": 1, \"Count\": 1}, {\"MonthlyRate\": 5083, \"JobLevel\": 3, \"Count\": 1}, {\"MonthlyRate\": 5099, \"JobLevel\": 2, \"Count\": 1}, {\"MonthlyRate\": 5100, \"JobLevel\": 3, \"Count\": 1}, {\"MonthlyRate\": 5118, \"JobLevel\": 2, \"Count\": 1}, {\"MonthlyRate\": 5141, \"JobLevel\": 2, \"Count\": 1}, {\"MonthlyRate\": 5151, \"JobLevel\": 2, \"Count\": 1}, {\"MonthlyRate\": 5174, \"JobLevel\": 2, \"Count\": 1}, {\"MonthlyRate\": 5182, \"JobLevel\": 1, \"Count\": 1}, {\"MonthlyRate\": 5197, \"JobLevel\": 2, \"Count\": 1}, {\"MonthlyRate\": 5200, \"JobLevel\": 4, \"Count\": 1}, {\"MonthlyRate\": 5207, \"JobLevel\": 1, \"Count\": 1}, {\"MonthlyRate\": 5220, \"JobLevel\": 5, \"Count\": 1}, {\"MonthlyRate\": 5224, \"JobLevel\": 1, \"Count\": 1}, {\"MonthlyRate\": 5228, \"JobLevel\": 1, \"Count\": 1}, {\"MonthlyRate\": 5242, \"JobLevel\": 2, \"Count\": 1}, {\"MonthlyRate\": 5268, \"JobLevel\": 3, \"Count\": 1}, {\"MonthlyRate\": 5288, \"JobLevel\": 1, \"Count\": 1}, {\"MonthlyRate\": 5323, \"JobLevel\": 2, \"Count\": 1}, {\"MonthlyRate\": 5335, \"JobLevel\": 2, \"Count\": 1}, {\"MonthlyRate\": 5340, \"JobLevel\": 2, \"Count\": 1}, {\"MonthlyRate\": 5348, \"JobLevel\": 1, \"Count\": 1}, {\"MonthlyRate\": 5355, \"JobLevel\": 1, \"Count\": 1}, {\"MonthlyRate\": 5355, \"JobLevel\": 4, \"Count\": 1}, {\"MonthlyRate\": 5388, \"JobLevel\": 2, \"Count\": 1}, {\"MonthlyRate\": 5404, \"JobLevel\": 4, \"Count\": 1}, {\"MonthlyRate\": 5411, \"JobLevel\": 1, \"Count\": 1}, {\"MonthlyRate\": 5431, \"JobLevel\": 2, \"Count\": 1}, {\"MonthlyRate\": 5456, \"JobLevel\": 2, \"Count\": 1}, {\"MonthlyRate\": 5494, \"JobLevel\": 3, \"Count\": 1}, {\"MonthlyRate\": 5518, \"JobLevel\": 3, \"Count\": 1}, {\"MonthlyRate\": 5530, \"JobLevel\": 1, \"Count\": 1}, {\"MonthlyRate\": 5531, \"JobLevel\": 1, \"Count\": 1}, {\"MonthlyRate\": 5543, \"JobLevel\": 1, \"Count\": 1}, {\"MonthlyRate\": 5549, \"JobLevel\": 2, \"Count\": 1}, {\"MonthlyRate\": 5561, \"JobLevel\": 1, \"Count\": 1}, {\"MonthlyRate\": 5569, \"JobLevel\": 3, \"Count\": 1}, {\"MonthlyRate\": 5586, \"JobLevel\": 1, \"Count\": 1}, {\"MonthlyRate\": 5594, \"JobLevel\": 4, \"Count\": 1}, {\"MonthlyRate\": 5596, \"JobLevel\": 3, \"Count\": 1}, {\"MonthlyRate\": 5598, \"JobLevel\": 1, \"Count\": 1}, {\"MonthlyRate\": 5602, \"JobLevel\": 4, \"Count\": 1}, {\"MonthlyRate\": 5615, \"JobLevel\": 3, \"Count\": 1}, {\"MonthlyRate\": 5626, \"JobLevel\": 4, \"Count\": 1}, {\"MonthlyRate\": 5628, \"JobLevel\": 2, \"Count\": 1}, {\"MonthlyRate\": 5630, \"JobLevel\": 2, \"Count\": 1}, {\"MonthlyRate\": 5640, \"JobLevel\": 4, \"Count\": 1}, {\"MonthlyRate\": 5652, \"JobLevel\": 4, \"Count\": 1}, {\"MonthlyRate\": 5678, \"JobLevel\": 5, \"Count\": 1}, {\"MonthlyRate\": 5696, \"JobLevel\": 2, \"Count\": 1}, {\"MonthlyRate\": 5711, \"JobLevel\": 1, \"Count\": 1}, {\"MonthlyRate\": 5718, \"JobLevel\": 2, \"Count\": 1}, {\"MonthlyRate\": 5747, \"JobLevel\": 3, \"Count\": 1}, {\"MonthlyRate\": 5771, \"JobLevel\": 2, \"Count\": 1}, {\"MonthlyRate\": 5829, \"JobLevel\": 2, \"Count\": 1}, {\"MonthlyRate\": 5843, \"JobLevel\": 3, \"Count\": 1}, {\"MonthlyRate\": 5855, \"JobLevel\": 1, \"Count\": 1}, {\"MonthlyRate\": 5860, \"JobLevel\": 3, \"Count\": 1}, {\"MonthlyRate\": 5868, \"JobLevel\": 1, \"Count\": 1}, {\"MonthlyRate\": 5869, \"JobLevel\": 1, \"Count\": 1}, {\"MonthlyRate\": 5915, \"JobLevel\": 2, \"Count\": 1}, {\"MonthlyRate\": 5949, \"JobLevel\": 5, \"Count\": 1}, {\"MonthlyRate\": 5970, \"JobLevel\": 1, \"Count\": 1}, {\"MonthlyRate\": 5972, \"JobLevel\": 1, \"Count\": 1}, {\"MonthlyRate\": 5982, \"JobLevel\": 2, \"Count\": 1}, {\"MonthlyRate\": 6004, \"JobLevel\": 1, \"Count\": 1}, {\"MonthlyRate\": 6009, \"JobLevel\": 3, \"Count\": 1}, {\"MonthlyRate\": 6020, \"JobLevel\": 1, \"Count\": 1}, {\"MonthlyRate\": 6039, \"JobLevel\": 2, \"Count\": 1}, {\"MonthlyRate\": 6054, \"JobLevel\": 1, \"Count\": 1}, {\"MonthlyRate\": 6060, \"JobLevel\": 2, \"Count\": 1}, {\"MonthlyRate\": 6069, \"JobLevel\": 2, \"Count\": 2}, {\"MonthlyRate\": 6073, \"JobLevel\": 1, \"Count\": 1}, {\"MonthlyRate\": 6076, \"JobLevel\": 1, \"Count\": 1}, {\"MonthlyRate\": 6110, \"JobLevel\": 2, \"Count\": 1}, {\"MonthlyRate\": 6148, \"JobLevel\": 1, \"Count\": 1}, {\"MonthlyRate\": 6152, \"JobLevel\": 1, \"Count\": 1}, {\"MonthlyRate\": 6153, \"JobLevel\": 1, \"Count\": 1}, {\"MonthlyRate\": 6161, \"JobLevel\": 1, \"Count\": 1}, {\"MonthlyRate\": 6163, \"JobLevel\": 2, \"Count\": 1}, {\"MonthlyRate\": 6179, \"JobLevel\": 2, \"Count\": 1}, {\"MonthlyRate\": 6194, \"JobLevel\": 2, \"Count\": 1}, {\"MonthlyRate\": 6208, \"JobLevel\": 2, \"Count\": 1}, {\"MonthlyRate\": 6217, \"JobLevel\": 1, \"Count\": 1}, {\"MonthlyRate\": 6219, \"JobLevel\": 2, \"Count\": 1}, {\"MonthlyRate\": 6225, \"JobLevel\": 2, \"Count\": 1}, {\"MonthlyRate\": 6227, \"JobLevel\": 2, \"Count\": 1}, {\"MonthlyRate\": 6233, \"JobLevel\": 1, \"Count\": 1}, {\"MonthlyRate\": 6297, \"JobLevel\": 1, \"Count\": 1}, {\"MonthlyRate\": 6311, \"JobLevel\": 1, \"Count\": 1}, {\"MonthlyRate\": 6319, \"JobLevel\": 1, \"Count\": 1}, {\"MonthlyRate\": 6319, \"JobLevel\": 2, \"Count\": 1}, {\"MonthlyRate\": 6393, \"JobLevel\": 1, \"Count\": 1}, {\"MonthlyRate\": 6409, \"JobLevel\": 1, \"Count\": 1}, {\"MonthlyRate\": 6420, \"JobLevel\": 3, \"Count\": 1}, {\"MonthlyRate\": 6462, \"JobLevel\": 5, \"Count\": 1}, {\"MonthlyRate\": 6499, \"JobLevel\": 5, \"Count\": 1}, {\"MonthlyRate\": 6527, \"JobLevel\": 1, \"Count\": 1}, {\"MonthlyRate\": 6582, \"JobLevel\": 1, \"Count\": 1}, {\"MonthlyRate\": 6595, \"JobLevel\": 3, \"Count\": 1}, {\"MonthlyRate\": 6599, \"JobLevel\": 3, \"Count\": 1}, {\"MonthlyRate\": 6615, \"JobLevel\": 4, \"Count\": 1}, {\"MonthlyRate\": 6645, \"JobLevel\": 3, \"Count\": 1}, {\"MonthlyRate\": 6670, \"JobLevel\": 1, \"Count\": 1}, {\"MonthlyRate\": 6670, \"JobLevel\": 2, \"Count\": 1}, {\"MonthlyRate\": 6672, \"JobLevel\": 1, \"Count\": 1}, {\"MonthlyRate\": 6689, \"JobLevel\": 1, \"Count\": 1}, {\"MonthlyRate\": 6698, \"JobLevel\": 2, \"Count\": 1}, {\"MonthlyRate\": 6705, \"JobLevel\": 1, \"Count\": 1}, {\"MonthlyRate\": 6729, \"JobLevel\": 3, \"Count\": 1}, {\"MonthlyRate\": 6759, \"JobLevel\": 2, \"Count\": 1}, {\"MonthlyRate\": 6762, \"JobLevel\": 1, \"Count\": 1}, {\"MonthlyRate\": 6770, \"JobLevel\": 3, \"Count\": 1}, {\"MonthlyRate\": 6812, \"JobLevel\": 3, \"Count\": 1}, {\"MonthlyRate\": 6842, \"JobLevel\": 1, \"Count\": 1}, {\"MonthlyRate\": 6865, \"JobLevel\": 1, \"Count\": 1}, {\"MonthlyRate\": 6881, \"JobLevel\": 1, \"Count\": 1}, {\"MonthlyRate\": 6881, \"JobLevel\": 4, \"Count\": 1}, {\"MonthlyRate\": 6889, \"JobLevel\": 1, \"Count\": 1}, {\"MonthlyRate\": 6896, \"JobLevel\": 1, \"Count\": 1}, {\"MonthlyRate\": 6927, \"JobLevel\": 2, \"Count\": 1}, {\"MonthlyRate\": 6950, \"JobLevel\": 3, \"Count\": 1}, {\"MonthlyRate\": 6961, \"JobLevel\": 1, \"Count\": 1}, {\"MonthlyRate\": 6975, \"JobLevel\": 3, \"Count\": 1}, {\"MonthlyRate\": 6984, \"JobLevel\": 1, \"Count\": 1}, {\"MonthlyRate\": 6986, \"JobLevel\": 1, \"Count\": 1}, {\"MonthlyRate\": 6992, \"JobLevel\": 5, \"Count\": 1}, {\"MonthlyRate\": 7003, \"JobLevel\": 1, \"Count\": 1}, {\"MonthlyRate\": 7018, \"JobLevel\": 2, \"Count\": 1}, {\"MonthlyRate\": 7060, \"JobLevel\": 4, \"Count\": 1}, {\"MonthlyRate\": 7100, \"JobLevel\": 2, \"Count\": 1}, {\"MonthlyRate\": 7102, \"JobLevel\": 1, \"Count\": 1}, {\"MonthlyRate\": 7103, \"JobLevel\": 1, \"Count\": 1}, {\"MonthlyRate\": 7108, \"JobLevel\": 1, \"Count\": 1}, {\"MonthlyRate\": 7122, \"JobLevel\": 1, \"Count\": 1}, {\"MonthlyRate\": 7129, \"JobLevel\": 1, \"Count\": 1}, {\"MonthlyRate\": 7143, \"JobLevel\": 2, \"Count\": 1}, {\"MonthlyRate\": 7152, \"JobLevel\": 1, \"Count\": 1}, {\"MonthlyRate\": 7160, \"JobLevel\": 1, \"Count\": 1}, {\"MonthlyRate\": 7172, \"JobLevel\": 1, \"Count\": 1}, {\"MonthlyRate\": 7181, \"JobLevel\": 1, \"Count\": 1}, {\"MonthlyRate\": 7192, \"JobLevel\": 4, \"Count\": 1}, {\"MonthlyRate\": 7246, \"JobLevel\": 3, \"Count\": 1}, {\"MonthlyRate\": 7259, \"JobLevel\": 2, \"Count\": 1}, {\"MonthlyRate\": 7288, \"JobLevel\": 2, \"Count\": 1}, {\"MonthlyRate\": 7298, \"JobLevel\": 1, \"Count\": 1}, {\"MonthlyRate\": 7324, \"JobLevel\": 1, \"Count\": 2}, {\"MonthlyRate\": 7331, \"JobLevel\": 1, \"Count\": 1}, {\"MonthlyRate\": 7346, \"JobLevel\": 2, \"Count\": 1}, {\"MonthlyRate\": 7360, \"JobLevel\": 2, \"Count\": 1}, {\"MonthlyRate\": 7389, \"JobLevel\": 2, \"Count\": 1}, {\"MonthlyRate\": 7419, \"JobLevel\": 2, \"Count\": 1}, {\"MonthlyRate\": 7428, \"JobLevel\": 2, \"Count\": 1}, {\"MonthlyRate\": 7439, \"JobLevel\": 2, \"Count\": 1}, {\"MonthlyRate\": 7501, \"JobLevel\": 4, \"Count\": 1}, {\"MonthlyRate\": 7505, \"JobLevel\": 2, \"Count\": 1}, {\"MonthlyRate\": 7507, \"JobLevel\": 2, \"Count\": 1}, {\"MonthlyRate\": 7508, \"JobLevel\": 1, \"Count\": 1}, {\"MonthlyRate\": 7530, \"JobLevel\": 1, \"Count\": 1}, {\"MonthlyRate\": 7551, \"JobLevel\": 1, \"Count\": 1}, {\"MonthlyRate\": 7568, \"JobLevel\": 1, \"Count\": 1}, {\"MonthlyRate\": 7621, \"JobLevel\": 1, \"Count\": 1}, {\"MonthlyRate\": 7636, \"JobLevel\": 2, \"Count\": 1}, {\"MonthlyRate\": 7653, \"JobLevel\": 2, \"Count\": 1}, {\"MonthlyRate\": 7660, \"JobLevel\": 1, \"Count\": 1}, {\"MonthlyRate\": 7677, \"JobLevel\": 2, \"Count\": 1}, {\"MonthlyRate\": 7679, \"JobLevel\": 1, \"Count\": 1}, {\"MonthlyRate\": 7693, \"JobLevel\": 2, \"Count\": 1}, {\"MonthlyRate\": 7703, \"JobLevel\": 1, \"Count\": 1}, {\"MonthlyRate\": 7713, \"JobLevel\": 1, \"Count\": 1}, {\"MonthlyRate\": 7739, \"JobLevel\": 4, \"Count\": 1}, {\"MonthlyRate\": 7744, \"JobLevel\": 2, \"Count\": 1}, {\"MonthlyRate\": 7744, \"JobLevel\": 4, \"Count\": 1}, {\"MonthlyRate\": 7747, \"JobLevel\": 1, \"Count\": 1}, {\"MonthlyRate\": 7770, \"JobLevel\": 5, \"Count\": 1}, {\"MonthlyRate\": 7790, \"JobLevel\": 2, \"Count\": 1}, {\"MonthlyRate\": 7791, \"JobLevel\": 2, \"Count\": 1}, {\"MonthlyRate\": 7815, \"JobLevel\": 2, \"Count\": 1}, {\"MonthlyRate\": 7824, \"JobLevel\": 2, \"Count\": 1}, {\"MonthlyRate\": 7858, \"JobLevel\": 2, \"Count\": 1}, {\"MonthlyRate\": 7909, \"JobLevel\": 2, \"Count\": 1}, {\"MonthlyRate\": 7914, \"JobLevel\": 3, \"Count\": 1}, {\"MonthlyRate\": 7950, \"JobLevel\": 1, \"Count\": 1}, {\"MonthlyRate\": 7973, \"JobLevel\": 1, \"Count\": 1}, {\"MonthlyRate\": 7975, \"JobLevel\": 1, \"Count\": 1}, {\"MonthlyRate\": 7999, \"JobLevel\": 5, \"Count\": 1}, {\"MonthlyRate\": 8007, \"JobLevel\": 1, \"Count\": 1}, {\"MonthlyRate\": 8018, \"JobLevel\": 1, \"Count\": 1}, {\"MonthlyRate\": 8039, \"JobLevel\": 3, \"Count\": 1}, {\"MonthlyRate\": 8040, \"JobLevel\": 1, \"Count\": 1}, {\"MonthlyRate\": 8045, \"JobLevel\": 1, \"Count\": 1}, {\"MonthlyRate\": 8053, \"JobLevel\": 3, \"Count\": 1}, {\"MonthlyRate\": 8059, \"JobLevel\": 1, \"Count\": 1}, {\"MonthlyRate\": 8191, \"JobLevel\": 2, \"Count\": 1}, {\"MonthlyRate\": 8192, \"JobLevel\": 1, \"Count\": 1}, {\"MonthlyRate\": 8202, \"JobLevel\": 3, \"Count\": 1}, {\"MonthlyRate\": 8213, \"JobLevel\": 5, \"Count\": 1}, {\"MonthlyRate\": 8232, \"JobLevel\": 2, \"Count\": 1}, {\"MonthlyRate\": 8269, \"JobLevel\": 1, \"Count\": 1}, {\"MonthlyRate\": 8277, \"JobLevel\": 3, \"Count\": 1}, {\"MonthlyRate\": 8302, \"JobLevel\": 3, \"Count\": 1}, {\"MonthlyRate\": 8306, \"JobLevel\": 1, \"Count\": 1}, {\"MonthlyRate\": 8318, \"JobLevel\": 1, \"Count\": 1}, {\"MonthlyRate\": 8319, \"JobLevel\": 1, \"Count\": 1}, {\"MonthlyRate\": 8346, \"JobLevel\": 2, \"Count\": 1}, {\"MonthlyRate\": 8386, \"JobLevel\": 3, \"Count\": 1}, {\"MonthlyRate\": 8392, \"JobLevel\": 3, \"Count\": 1}, {\"MonthlyRate\": 8416, \"JobLevel\": 1, \"Count\": 1}, {\"MonthlyRate\": 8423, \"JobLevel\": 2, \"Count\": 1}, {\"MonthlyRate\": 8429, \"JobLevel\": 1, \"Count\": 1}, {\"MonthlyRate\": 8450, \"JobLevel\": 2, \"Count\": 1}, {\"MonthlyRate\": 8456, \"JobLevel\": 1, \"Count\": 1}, {\"MonthlyRate\": 8489, \"JobLevel\": 1, \"Count\": 1}, {\"MonthlyRate\": 8504, \"JobLevel\": 2, \"Count\": 1}, {\"MonthlyRate\": 8509, \"JobLevel\": 5, \"Count\": 1}, {\"MonthlyRate\": 8532, \"JobLevel\": 1, \"Count\": 1}, {\"MonthlyRate\": 8544, \"JobLevel\": 1, \"Count\": 1}, {\"MonthlyRate\": 8552, \"JobLevel\": 3, \"Count\": 1}, {\"MonthlyRate\": 8556, \"JobLevel\": 1, \"Count\": 1}, {\"MonthlyRate\": 8571, \"JobLevel\": 2, \"Count\": 1}, {\"MonthlyRate\": 8635, \"JobLevel\": 1, \"Count\": 1}, {\"MonthlyRate\": 8658, \"JobLevel\": 2, \"Count\": 1}, {\"MonthlyRate\": 8733, \"JobLevel\": 5, \"Count\": 1}, {\"MonthlyRate\": 8751, \"JobLevel\": 5, \"Count\": 1}, {\"MonthlyRate\": 8758, \"JobLevel\": 1, \"Count\": 1}, {\"MonthlyRate\": 8770, \"JobLevel\": 2, \"Count\": 1}, {\"MonthlyRate\": 8787, \"JobLevel\": 3, \"Count\": 1}, {\"MonthlyRate\": 8800, \"JobLevel\": 2, \"Count\": 1}, {\"MonthlyRate\": 8828, \"JobLevel\": 4, \"Count\": 1}, {\"MonthlyRate\": 8841, \"JobLevel\": 2, \"Count\": 1}, {\"MonthlyRate\": 8842, \"JobLevel\": 3, \"Count\": 1}, {\"MonthlyRate\": 8847, \"JobLevel\": 4, \"Count\": 1}, {\"MonthlyRate\": 8861, \"JobLevel\": 5, \"Count\": 1}, {\"MonthlyRate\": 8863, \"JobLevel\": 2, \"Count\": 1}, {\"MonthlyRate\": 8870, \"JobLevel\": 1, \"Count\": 1}, {\"MonthlyRate\": 8891, \"JobLevel\": 2, \"Count\": 1}, {\"MonthlyRate\": 8916, \"JobLevel\": 1, \"Count\": 1}, {\"MonthlyRate\": 8931, \"JobLevel\": 3, \"Count\": 1}, {\"MonthlyRate\": 8935, \"JobLevel\": 3, \"Count\": 1}, {\"MonthlyRate\": 8952, \"JobLevel\": 1, \"Count\": 2}, {\"MonthlyRate\": 8978, \"JobLevel\": 2, \"Count\": 1}, {\"MonthlyRate\": 8984, \"JobLevel\": 3, \"Count\": 1}, {\"MonthlyRate\": 8989, \"JobLevel\": 2, \"Count\": 1}, {\"MonthlyRate\": 9051, \"JobLevel\": 1, \"Count\": 1}, {\"MonthlyRate\": 9060, \"JobLevel\": 2, \"Count\": 1}, {\"MonthlyRate\": 9068, \"JobLevel\": 1, \"Count\": 1}, {\"MonthlyRate\": 9075, \"JobLevel\": 1, \"Count\": 1}, {\"MonthlyRate\": 9096, \"JobLevel\": 2, \"Count\": 1}, {\"MonthlyRate\": 9096, \"JobLevel\": 3, \"Count\": 1}, {\"MonthlyRate\": 9100, \"JobLevel\": 1, \"Count\": 1}, {\"MonthlyRate\": 9125, \"JobLevel\": 2, \"Count\": 1}, {\"MonthlyRate\": 9128, \"JobLevel\": 2, \"Count\": 1}, {\"MonthlyRate\": 9129, \"JobLevel\": 1, \"Count\": 1}, {\"MonthlyRate\": 9129, \"JobLevel\": 3, \"Count\": 1}, {\"MonthlyRate\": 9148, \"JobLevel\": 1, \"Count\": 1}, {\"MonthlyRate\": 9150, \"JobLevel\": 1, \"Count\": 2}, {\"MonthlyRate\": 9150, \"JobLevel\": 3, \"Count\": 1}, {\"MonthlyRate\": 9192, \"JobLevel\": 2, \"Count\": 1}, {\"MonthlyRate\": 9238, \"JobLevel\": 1, \"Count\": 1}, {\"MonthlyRate\": 9241, \"JobLevel\": 1, \"Count\": 1}, {\"MonthlyRate\": 9250, \"JobLevel\": 2, \"Count\": 1}, {\"MonthlyRate\": 9255, \"JobLevel\": 3, \"Count\": 1}, {\"MonthlyRate\": 9256, \"JobLevel\": 1, \"Count\": 1}, {\"MonthlyRate\": 9260, \"JobLevel\": 1, \"Count\": 1}, {\"MonthlyRate\": 9262, \"JobLevel\": 3, \"Count\": 1}, {\"MonthlyRate\": 9277, \"JobLevel\": 4, \"Count\": 1}, {\"MonthlyRate\": 9278, \"JobLevel\": 2, \"Count\": 1}, {\"MonthlyRate\": 9282, \"JobLevel\": 2, \"Count\": 1}, {\"MonthlyRate\": 9314, \"JobLevel\": 4, \"Count\": 1}, {\"MonthlyRate\": 9358, \"JobLevel\": 5, \"Count\": 1}, {\"MonthlyRate\": 9364, \"JobLevel\": 2, \"Count\": 1}, {\"MonthlyRate\": 9369, \"JobLevel\": 1, \"Count\": 1}, {\"MonthlyRate\": 9396, \"JobLevel\": 1, \"Count\": 1}, {\"MonthlyRate\": 9489, \"JobLevel\": 2, \"Count\": 1}, {\"MonthlyRate\": 9490, \"JobLevel\": 4, \"Count\": 1}, {\"MonthlyRate\": 9518, \"JobLevel\": 1, \"Count\": 1}, {\"MonthlyRate\": 9528, \"JobLevel\": 2, \"Count\": 1}, {\"MonthlyRate\": 9541, \"JobLevel\": 1, \"Count\": 1}, {\"MonthlyRate\": 9558, \"JobLevel\": 2, \"Count\": 2}, {\"MonthlyRate\": 9571, \"JobLevel\": 1, \"Count\": 1}, {\"MonthlyRate\": 9606, \"JobLevel\": 3, \"Count\": 1}, {\"MonthlyRate\": 9647, \"JobLevel\": 3, \"Count\": 1}, {\"MonthlyRate\": 9655, \"JobLevel\": 1, \"Count\": 1}, {\"MonthlyRate\": 9659, \"JobLevel\": 3, \"Count\": 1}, {\"MonthlyRate\": 9679, \"JobLevel\": 2, \"Count\": 1}, {\"MonthlyRate\": 9687, \"JobLevel\": 1, \"Count\": 1}, {\"MonthlyRate\": 9696, \"JobLevel\": 1, \"Count\": 1}, {\"MonthlyRate\": 9697, \"JobLevel\": 2, \"Count\": 1}, {\"MonthlyRate\": 9724, \"JobLevel\": 1, \"Count\": 1}, {\"MonthlyRate\": 9731, \"JobLevel\": 4, \"Count\": 1}, {\"MonthlyRate\": 9732, \"JobLevel\": 1, \"Count\": 1}, {\"MonthlyRate\": 9752, \"JobLevel\": 1, \"Count\": 1}, {\"MonthlyRate\": 9755, \"JobLevel\": 5, \"Count\": 1}, {\"MonthlyRate\": 9769, \"JobLevel\": 3, \"Count\": 1}, {\"MonthlyRate\": 9834, \"JobLevel\": 1, \"Count\": 1}, {\"MonthlyRate\": 9867, \"JobLevel\": 2, \"Count\": 1}, {\"MonthlyRate\": 9873, \"JobLevel\": 4, \"Count\": 1}, {\"MonthlyRate\": 9931, \"JobLevel\": 2, \"Count\": 1}, {\"MonthlyRate\": 9945, \"JobLevel\": 2, \"Count\": 1}, {\"MonthlyRate\": 9946, \"JobLevel\": 5, \"Count\": 1}, {\"MonthlyRate\": 9947, \"JobLevel\": 1, \"Count\": 1}, {\"MonthlyRate\": 9953, \"JobLevel\": 1, \"Count\": 1}, {\"MonthlyRate\": 9961, \"JobLevel\": 2, \"Count\": 1}, {\"MonthlyRate\": 9964, \"JobLevel\": 1, \"Count\": 1}, {\"MonthlyRate\": 9973, \"JobLevel\": 1, \"Count\": 1}, {\"MonthlyRate\": 9977, \"JobLevel\": 3, \"Count\": 1}, {\"MonthlyRate\": 9983, \"JobLevel\": 1, \"Count\": 1}, {\"MonthlyRate\": 10007, \"JobLevel\": 1, \"Count\": 1}, {\"MonthlyRate\": 10022, \"JobLevel\": 2, \"Count\": 1}, {\"MonthlyRate\": 10034, \"JobLevel\": 2, \"Count\": 1}, {\"MonthlyRate\": 10036, \"JobLevel\": 1, \"Count\": 1}, {\"MonthlyRate\": 10056, \"JobLevel\": 3, \"Count\": 1}, {\"MonthlyRate\": 10074, \"JobLevel\": 1, \"Count\": 1}, {\"MonthlyRate\": 10077, \"JobLevel\": 1, \"Count\": 1}, {\"MonthlyRate\": 10084, \"JobLevel\": 4, \"Count\": 1}, {\"MonthlyRate\": 10092, \"JobLevel\": 3, \"Count\": 1}, {\"MonthlyRate\": 10110, \"JobLevel\": 2, \"Count\": 1}, {\"MonthlyRate\": 10138, \"JobLevel\": 2, \"Count\": 1}, {\"MonthlyRate\": 10195, \"JobLevel\": 3, \"Count\": 1}, {\"MonthlyRate\": 10205, \"JobLevel\": 1, \"Count\": 1}, {\"MonthlyRate\": 10224, \"JobLevel\": 1, \"Count\": 1}, {\"MonthlyRate\": 10225, \"JobLevel\": 4, \"Count\": 1}, {\"MonthlyRate\": 10227, \"JobLevel\": 1, \"Count\": 1}, {\"MonthlyRate\": 10228, \"JobLevel\": 2, \"Count\": 1}, {\"MonthlyRate\": 10261, \"JobLevel\": 1, \"Count\": 1}, {\"MonthlyRate\": 10268, \"JobLevel\": 3, \"Count\": 1}, {\"MonthlyRate\": 10293, \"JobLevel\": 1, \"Count\": 1}, {\"MonthlyRate\": 10302, \"JobLevel\": 2, \"Count\": 1}, {\"MonthlyRate\": 10310, \"JobLevel\": 4, \"Count\": 1}, {\"MonthlyRate\": 10322, \"JobLevel\": 1, \"Count\": 1}, {\"MonthlyRate\": 10332, \"JobLevel\": 1, \"Count\": 1}, {\"MonthlyRate\": 10333, \"JobLevel\": 3, \"Count\": 1}, {\"MonthlyRate\": 10339, \"JobLevel\": 2, \"Count\": 1}, {\"MonthlyRate\": 10410, \"JobLevel\": 2, \"Count\": 1}, {\"MonthlyRate\": 10414, \"JobLevel\": 2, \"Count\": 1}, {\"MonthlyRate\": 10415, \"JobLevel\": 1, \"Count\": 1}, {\"MonthlyRate\": 10425, \"JobLevel\": 2, \"Count\": 1}, {\"MonthlyRate\": 10436, \"JobLevel\": 2, \"Count\": 1}, {\"MonthlyRate\": 10494, \"JobLevel\": 1, \"Count\": 2}, {\"MonthlyRate\": 10503, \"JobLevel\": 2, \"Count\": 1}, {\"MonthlyRate\": 10515, \"JobLevel\": 1, \"Count\": 1}, {\"MonthlyRate\": 10531, \"JobLevel\": 1, \"Count\": 1}, {\"MonthlyRate\": 10554, \"JobLevel\": 1, \"Count\": 1}, {\"MonthlyRate\": 10557, \"JobLevel\": 2, \"Count\": 1}, {\"MonthlyRate\": 10558, \"JobLevel\": 1, \"Count\": 1}, {\"MonthlyRate\": 10589, \"JobLevel\": 2, \"Count\": 1}, {\"MonthlyRate\": 10642, \"JobLevel\": 1, \"Count\": 1}, {\"MonthlyRate\": 10675, \"JobLevel\": 1, \"Count\": 1}, {\"MonthlyRate\": 10697, \"JobLevel\": 2, \"Count\": 1}, {\"MonthlyRate\": 10732, \"JobLevel\": 2, \"Count\": 1}, {\"MonthlyRate\": 10735, \"JobLevel\": 5, \"Count\": 1}, {\"MonthlyRate\": 10748, \"JobLevel\": 2, \"Count\": 1}, {\"MonthlyRate\": 10778, \"JobLevel\": 1, \"Count\": 1}, {\"MonthlyRate\": 10781, \"JobLevel\": 2, \"Count\": 1}, {\"MonthlyRate\": 10826, \"JobLevel\": 1, \"Count\": 1}, {\"MonthlyRate\": 10842, \"JobLevel\": 2, \"Count\": 1}, {\"MonthlyRate\": 10846, \"JobLevel\": 2, \"Count\": 1}, {\"MonthlyRate\": 10849, \"JobLevel\": 5, \"Count\": 1}, {\"MonthlyRate\": 10877, \"JobLevel\": 2, \"Count\": 1}, {\"MonthlyRate\": 10893, \"JobLevel\": 2, \"Count\": 1}, {\"MonthlyRate\": 10901, \"JobLevel\": 2, \"Count\": 1}, {\"MonthlyRate\": 10910, \"JobLevel\": 1, \"Count\": 1}, {\"MonthlyRate\": 10919, \"JobLevel\": 2, \"Count\": 1}, {\"MonthlyRate\": 10942, \"JobLevel\": 3, \"Count\": 1}, {\"MonthlyRate\": 10950, \"JobLevel\": 1, \"Count\": 1}, {\"MonthlyRate\": 11005, \"JobLevel\": 1, \"Count\": 1}, {\"MonthlyRate\": 11012, \"JobLevel\": 2, \"Count\": 1}, {\"MonthlyRate\": 11031, \"JobLevel\": 3, \"Count\": 1}, {\"MonthlyRate\": 11038, \"JobLevel\": 3, \"Count\": 1}, {\"MonthlyRate\": 11092, \"JobLevel\": 1, \"Count\": 1}, {\"MonthlyRate\": 11133, \"JobLevel\": 1, \"Count\": 1}, {\"MonthlyRate\": 11135, \"JobLevel\": 1, \"Count\": 1}, {\"MonthlyRate\": 11141, \"JobLevel\": 1, \"Count\": 1}, {\"MonthlyRate\": 11148, \"JobLevel\": 2, \"Count\": 1}, {\"MonthlyRate\": 11162, \"JobLevel\": 1, \"Count\": 1}, {\"MonthlyRate\": 11162, \"JobLevel\": 3, \"Count\": 1}, {\"MonthlyRate\": 11179, \"JobLevel\": 1, \"Count\": 1}, {\"MonthlyRate\": 11189, \"JobLevel\": 2, \"Count\": 1}, {\"MonthlyRate\": 11262, \"JobLevel\": 2, \"Count\": 1}, {\"MonthlyRate\": 11275, \"JobLevel\": 2, \"Count\": 1}, {\"MonthlyRate\": 11288, \"JobLevel\": 1, \"Count\": 1}, {\"MonthlyRate\": 11309, \"JobLevel\": 2, \"Count\": 1}, {\"MonthlyRate\": 11314, \"JobLevel\": 1, \"Count\": 1}, {\"MonthlyRate\": 11354, \"JobLevel\": 2, \"Count\": 1}, {\"MonthlyRate\": 11373, \"JobLevel\": 3, \"Count\": 1}, {\"MonthlyRate\": 11380, \"JobLevel\": 4, \"Count\": 1}, {\"MonthlyRate\": 11411, \"JobLevel\": 1, \"Count\": 1}, {\"MonthlyRate\": 11439, \"JobLevel\": 3, \"Count\": 1}, {\"MonthlyRate\": 11473, \"JobLevel\": 1, \"Count\": 1}, {\"MonthlyRate\": 11479, \"JobLevel\": 1, \"Count\": 1}, {\"MonthlyRate\": 11512, \"JobLevel\": 2, \"Count\": 1}, {\"MonthlyRate\": 11533, \"JobLevel\": 3, \"Count\": 1}, {\"MonthlyRate\": 11535, \"JobLevel\": 3, \"Count\": 1}, {\"MonthlyRate\": 11539, \"JobLevel\": 1, \"Count\": 1}, {\"MonthlyRate\": 11563, \"JobLevel\": 3, \"Count\": 1}, {\"MonthlyRate\": 11585, \"JobLevel\": 1, \"Count\": 1}, {\"MonthlyRate\": 11591, \"JobLevel\": 2, \"Count\": 1}, {\"MonthlyRate\": 11591, \"JobLevel\": 3, \"Count\": 1}, {\"MonthlyRate\": 11652, \"JobLevel\": 1, \"Count\": 1}, {\"MonthlyRate\": 11652, \"JobLevel\": 4, \"Count\": 1}, {\"MonthlyRate\": 11677, \"JobLevel\": 3, \"Count\": 1}, {\"MonthlyRate\": 11693, \"JobLevel\": 2, \"Count\": 1}, {\"MonthlyRate\": 11737, \"JobLevel\": 1, \"Count\": 1}, {\"MonthlyRate\": 11737, \"JobLevel\": 4, \"Count\": 1}, {\"MonthlyRate\": 11740, \"JobLevel\": 1, \"Count\": 1}, {\"MonthlyRate\": 11757, \"JobLevel\": 1, \"Count\": 1}, {\"MonthlyRate\": 11761, \"JobLevel\": 4, \"Count\": 1}, {\"MonthlyRate\": 11781, \"JobLevel\": 1, \"Count\": 1}, {\"MonthlyRate\": 11806, \"JobLevel\": 2, \"Count\": 1}, {\"MonthlyRate\": 11825, \"JobLevel\": 2, \"Count\": 1}, {\"MonthlyRate\": 11827, \"JobLevel\": 2, \"Count\": 1}, {\"MonthlyRate\": 11864, \"JobLevel\": 1, \"Count\": 1}, {\"MonthlyRate\": 11866, \"JobLevel\": 2, \"Count\": 1}, {\"MonthlyRate\": 11868, \"JobLevel\": 1, \"Count\": 1}, {\"MonthlyRate\": 11873, \"JobLevel\": 1, \"Count\": 1}, {\"MonthlyRate\": 11879, \"JobLevel\": 4, \"Count\": 1}, {\"MonthlyRate\": 11882, \"JobLevel\": 1, \"Count\": 1}, {\"MonthlyRate\": 11912, \"JobLevel\": 2, \"Count\": 1}, {\"MonthlyRate\": 11924, \"JobLevel\": 2, \"Count\": 1}, {\"MonthlyRate\": 11925, \"JobLevel\": 1, \"Count\": 1}, {\"MonthlyRate\": 11929, \"JobLevel\": 4, \"Count\": 1}, {\"MonthlyRate\": 11934, \"JobLevel\": 2, \"Count\": 1}, {\"MonthlyRate\": 11983, \"JobLevel\": 2, \"Count\": 1}, {\"MonthlyRate\": 11992, \"JobLevel\": 1, \"Count\": 1}, {\"MonthlyRate\": 12023, \"JobLevel\": 3, \"Count\": 1}, {\"MonthlyRate\": 12066, \"JobLevel\": 3, \"Count\": 1}, {\"MonthlyRate\": 12069, \"JobLevel\": 2, \"Count\": 1}, {\"MonthlyRate\": 12086, \"JobLevel\": 1, \"Count\": 1}, {\"MonthlyRate\": 12090, \"JobLevel\": 2, \"Count\": 1}, {\"MonthlyRate\": 12102, \"JobLevel\": 1, \"Count\": 1}, {\"MonthlyRate\": 12106, \"JobLevel\": 1, \"Count\": 1}, {\"MonthlyRate\": 12124, \"JobLevel\": 5, \"Count\": 1}, {\"MonthlyRate\": 12127, \"JobLevel\": 1, \"Count\": 1}, {\"MonthlyRate\": 12145, \"JobLevel\": 1, \"Count\": 1}, {\"MonthlyRate\": 12147, \"JobLevel\": 2, \"Count\": 1}, {\"MonthlyRate\": 12154, \"JobLevel\": 1, \"Count\": 1}, {\"MonthlyRate\": 12227, \"JobLevel\": 2, \"Count\": 1}, {\"MonthlyRate\": 12241, \"JobLevel\": 2, \"Count\": 1}, {\"MonthlyRate\": 12250, \"JobLevel\": 2, \"Count\": 1}, {\"MonthlyRate\": 12253, \"JobLevel\": 1, \"Count\": 1}, {\"MonthlyRate\": 12278, \"JobLevel\": 2, \"Count\": 1}, {\"MonthlyRate\": 12287, \"JobLevel\": 1, \"Count\": 1}, {\"MonthlyRate\": 12288, \"JobLevel\": 3, \"Count\": 1}, {\"MonthlyRate\": 12290, \"JobLevel\": 2, \"Count\": 1}, {\"MonthlyRate\": 12291, \"JobLevel\": 2, \"Count\": 1}, {\"MonthlyRate\": 12313, \"JobLevel\": 2, \"Count\": 1}, {\"MonthlyRate\": 12315, \"JobLevel\": 2, \"Count\": 1}, {\"MonthlyRate\": 12355, \"JobLevel\": 2, \"Count\": 1}, {\"MonthlyRate\": 12355, \"JobLevel\": 3, \"Count\": 1}, {\"MonthlyRate\": 12368, \"JobLevel\": 3, \"Count\": 1}, {\"MonthlyRate\": 12388, \"JobLevel\": 2, \"Count\": 1}, {\"MonthlyRate\": 12392, \"JobLevel\": 1, \"Count\": 1}, {\"MonthlyRate\": 12414, \"JobLevel\": 4, \"Count\": 1}, {\"MonthlyRate\": 12421, \"JobLevel\": 2, \"Count\": 1}, {\"MonthlyRate\": 12430, \"JobLevel\": 1, \"Count\": 1}, {\"MonthlyRate\": 12449, \"JobLevel\": 1, \"Count\": 1}, {\"MonthlyRate\": 12477, \"JobLevel\": 2, \"Count\": 1}, {\"MonthlyRate\": 12482, \"JobLevel\": 2, \"Count\": 1}, {\"MonthlyRate\": 12530, \"JobLevel\": 1, \"Count\": 1}, {\"MonthlyRate\": 12549, \"JobLevel\": 1, \"Count\": 1}, {\"MonthlyRate\": 12682, \"JobLevel\": 2, \"Count\": 1}, {\"MonthlyRate\": 12695, \"JobLevel\": 3, \"Count\": 1}, {\"MonthlyRate\": 12719, \"JobLevel\": 1, \"Count\": 1}, {\"MonthlyRate\": 12740, \"JobLevel\": 2, \"Count\": 1}, {\"MonthlyRate\": 12761, \"JobLevel\": 2, \"Count\": 1}, {\"MonthlyRate\": 12826, \"JobLevel\": 1, \"Count\": 1}, {\"MonthlyRate\": 12828, \"JobLevel\": 1, \"Count\": 1}, {\"MonthlyRate\": 12832, \"JobLevel\": 2, \"Count\": 1}, {\"MonthlyRate\": 12853, \"JobLevel\": 5, \"Count\": 1}, {\"MonthlyRate\": 12858, \"JobLevel\": 2, \"Count\": 2}, {\"MonthlyRate\": 12862, \"JobLevel\": 1, \"Count\": 1}, {\"MonthlyRate\": 12888, \"JobLevel\": 4, \"Count\": 1}, {\"MonthlyRate\": 12916, \"JobLevel\": 2, \"Count\": 1}, {\"MonthlyRate\": 12930, \"JobLevel\": 2, \"Count\": 1}, {\"MonthlyRate\": 12932, \"JobLevel\": 2, \"Count\": 1}, {\"MonthlyRate\": 12947, \"JobLevel\": 1, \"Count\": 1}, {\"MonthlyRate\": 12982, \"JobLevel\": 4, \"Count\": 1}, {\"MonthlyRate\": 12992, \"JobLevel\": 2, \"Count\": 1}, {\"MonthlyRate\": 13008, \"JobLevel\": 1, \"Count\": 1}, {\"MonthlyRate\": 13008, \"JobLevel\": 2, \"Count\": 1}, {\"MonthlyRate\": 13022, \"JobLevel\": 5, \"Count\": 1}, {\"MonthlyRate\": 13035, \"JobLevel\": 5, \"Count\": 1}, {\"MonthlyRate\": 13072, \"JobLevel\": 1, \"Count\": 1}, {\"MonthlyRate\": 13084, \"JobLevel\": 3, \"Count\": 1}, {\"MonthlyRate\": 13119, \"JobLevel\": 2, \"Count\": 1}, {\"MonthlyRate\": 13137, \"JobLevel\": 1, \"Count\": 1}, {\"MonthlyRate\": 13192, \"JobLevel\": 2, \"Count\": 1}, {\"MonthlyRate\": 13243, \"JobLevel\": 2, \"Count\": 1}, {\"MonthlyRate\": 13248, \"JobLevel\": 1, \"Count\": 1}, {\"MonthlyRate\": 13251, \"JobLevel\": 1, \"Count\": 1}, {\"MonthlyRate\": 13257, \"JobLevel\": 1, \"Count\": 1}, {\"MonthlyRate\": 13273, \"JobLevel\": 2, \"Count\": 1}, {\"MonthlyRate\": 13301, \"JobLevel\": 1, \"Count\": 1}, {\"MonthlyRate\": 13305, \"JobLevel\": 2, \"Count\": 1}, {\"MonthlyRate\": 13335, \"JobLevel\": 1, \"Count\": 1}, {\"MonthlyRate\": 13339, \"JobLevel\": 5, \"Count\": 1}, {\"MonthlyRate\": 13352, \"JobLevel\": 2, \"Count\": 1}, {\"MonthlyRate\": 13364, \"JobLevel\": 1, \"Count\": 1}, {\"MonthlyRate\": 13384, \"JobLevel\": 1, \"Count\": 1}, {\"MonthlyRate\": 13401, \"JobLevel\": 2, \"Count\": 1}, {\"MonthlyRate\": 13402, \"JobLevel\": 2, \"Count\": 1}, {\"MonthlyRate\": 13421, \"JobLevel\": 1, \"Count\": 1}, {\"MonthlyRate\": 13422, \"JobLevel\": 1, \"Count\": 1}, {\"MonthlyRate\": 13430, \"JobLevel\": 2, \"Count\": 1}, {\"MonthlyRate\": 13436, \"JobLevel\": 2, \"Count\": 1}, {\"MonthlyRate\": 13492, \"JobLevel\": 2, \"Count\": 1}, {\"MonthlyRate\": 13493, \"JobLevel\": 1, \"Count\": 1}, {\"MonthlyRate\": 13494, \"JobLevel\": 2, \"Count\": 1}, {\"MonthlyRate\": 13514, \"JobLevel\": 4, \"Count\": 1}, {\"MonthlyRate\": 13523, \"JobLevel\": 3, \"Count\": 1}, {\"MonthlyRate\": 13535, \"JobLevel\": 2, \"Count\": 1}, {\"MonthlyRate\": 13547, \"JobLevel\": 4, \"Count\": 1}, {\"MonthlyRate\": 13551, \"JobLevel\": 1, \"Count\": 1}, {\"MonthlyRate\": 13554, \"JobLevel\": 2, \"Count\": 1}, {\"MonthlyRate\": 13556, \"JobLevel\": 1, \"Count\": 1}, {\"MonthlyRate\": 13583, \"JobLevel\": 5, \"Count\": 1}, {\"MonthlyRate\": 13586, \"JobLevel\": 2, \"Count\": 1}, {\"MonthlyRate\": 13588, \"JobLevel\": 2, \"Count\": 1}, {\"MonthlyRate\": 13596, \"JobLevel\": 3, \"Count\": 1}, {\"MonthlyRate\": 13624, \"JobLevel\": 1, \"Count\": 1}, {\"MonthlyRate\": 13637, \"JobLevel\": 1, \"Count\": 1}, {\"MonthlyRate\": 13672, \"JobLevel\": 1, \"Count\": 1}, {\"MonthlyRate\": 13684, \"JobLevel\": 2, \"Count\": 1}, {\"MonthlyRate\": 13693, \"JobLevel\": 2, \"Count\": 1}, {\"MonthlyRate\": 13738, \"JobLevel\": 5, \"Count\": 1}, {\"MonthlyRate\": 13755, \"JobLevel\": 3, \"Count\": 1}, {\"MonthlyRate\": 13782, \"JobLevel\": 3, \"Count\": 1}, {\"MonthlyRate\": 13829, \"JobLevel\": 4, \"Count\": 1}, {\"MonthlyRate\": 13848, \"JobLevel\": 2, \"Count\": 1}, {\"MonthlyRate\": 13871, \"JobLevel\": 4, \"Count\": 1}, {\"MonthlyRate\": 13888, \"JobLevel\": 2, \"Count\": 1}, {\"MonthlyRate\": 13934, \"JobLevel\": 2, \"Count\": 1}, {\"MonthlyRate\": 13938, \"JobLevel\": 4, \"Count\": 1}, {\"MonthlyRate\": 13939, \"JobLevel\": 1, \"Count\": 1}, {\"MonthlyRate\": 13943, \"JobLevel\": 3, \"Count\": 1}, {\"MonthlyRate\": 13953, \"JobLevel\": 2, \"Count\": 1}, {\"MonthlyRate\": 13970, \"JobLevel\": 1, \"Count\": 1}, {\"MonthlyRate\": 13982, \"JobLevel\": 2, \"Count\": 1}, {\"MonthlyRate\": 13983, \"JobLevel\": 2, \"Count\": 1}, {\"MonthlyRate\": 14004, \"JobLevel\": 2, \"Count\": 1}, {\"MonthlyRate\": 14011, \"JobLevel\": 3, \"Count\": 1}, {\"MonthlyRate\": 14034, \"JobLevel\": 3, \"Count\": 1}, {\"MonthlyRate\": 14039, \"JobLevel\": 2, \"Count\": 1}, {\"MonthlyRate\": 14074, \"JobLevel\": 2, \"Count\": 1}, {\"MonthlyRate\": 14075, \"JobLevel\": 3, \"Count\": 1}, {\"MonthlyRate\": 14115, \"JobLevel\": 4, \"Count\": 1}, {\"MonthlyRate\": 14120, \"JobLevel\": 2, \"Count\": 1}, {\"MonthlyRate\": 14168, \"JobLevel\": 1, \"Count\": 1}, {\"MonthlyRate\": 14180, \"JobLevel\": 1, \"Count\": 1}, {\"MonthlyRate\": 14199, \"JobLevel\": 3, \"Count\": 1}, {\"MonthlyRate\": 14218, \"JobLevel\": 5, \"Count\": 1}, {\"MonthlyRate\": 14222, \"JobLevel\": 1, \"Count\": 1}, {\"MonthlyRate\": 14229, \"JobLevel\": 3, \"Count\": 1}, {\"MonthlyRate\": 14242, \"JobLevel\": 2, \"Count\": 1}, {\"MonthlyRate\": 14255, \"JobLevel\": 2, \"Count\": 1}, {\"MonthlyRate\": 14284, \"JobLevel\": 2, \"Count\": 1}, {\"MonthlyRate\": 14293, \"JobLevel\": 1, \"Count\": 1}, {\"MonthlyRate\": 14295, \"JobLevel\": 3, \"Count\": 1}, {\"MonthlyRate\": 14363, \"JobLevel\": 2, \"Count\": 1}, {\"MonthlyRate\": 14369, \"JobLevel\": 2, \"Count\": 1}, {\"MonthlyRate\": 14377, \"JobLevel\": 1, \"Count\": 1}, {\"MonthlyRate\": 14382, \"JobLevel\": 2, \"Count\": 1}, {\"MonthlyRate\": 14394, \"JobLevel\": 3, \"Count\": 1}, {\"MonthlyRate\": 14399, \"JobLevel\": 4, \"Count\": 1}, {\"MonthlyRate\": 14408, \"JobLevel\": 2, \"Count\": 1}, {\"MonthlyRate\": 14460, \"JobLevel\": 1, \"Count\": 1}, {\"MonthlyRate\": 14470, \"JobLevel\": 1, \"Count\": 1}, {\"MonthlyRate\": 14506, \"JobLevel\": 3, \"Count\": 1}, {\"MonthlyRate\": 14511, \"JobLevel\": 2, \"Count\": 1}, {\"MonthlyRate\": 14561, \"JobLevel\": 1, \"Count\": 1}, {\"MonthlyRate\": 14590, \"JobLevel\": 2, \"Count\": 1}, {\"MonthlyRate\": 14618, \"JobLevel\": 3, \"Count\": 1}, {\"MonthlyRate\": 14630, \"JobLevel\": 1, \"Count\": 1}, {\"MonthlyRate\": 14669, \"JobLevel\": 1, \"Count\": 1}, {\"MonthlyRate\": 14674, \"JobLevel\": 3, \"Count\": 1}, {\"MonthlyRate\": 14720, \"JobLevel\": 3, \"Count\": 1}, {\"MonthlyRate\": 14753, \"JobLevel\": 1, \"Count\": 1}, {\"MonthlyRate\": 14776, \"JobLevel\": 1, \"Count\": 1}, {\"MonthlyRate\": 14810, \"JobLevel\": 3, \"Count\": 1}, {\"MonthlyRate\": 14811, \"JobLevel\": 2, \"Count\": 1}, {\"MonthlyRate\": 14814, \"JobLevel\": 2, \"Count\": 1}, {\"MonthlyRate\": 14842, \"JobLevel\": 3, \"Count\": 1}, {\"MonthlyRate\": 14862, \"JobLevel\": 2, \"Count\": 1}, {\"MonthlyRate\": 14864, \"JobLevel\": 4, \"Count\": 1}, {\"MonthlyRate\": 14871, \"JobLevel\": 1, \"Count\": 1}, {\"MonthlyRate\": 14908, \"JobLevel\": 1, \"Count\": 1}, {\"MonthlyRate\": 14922, \"JobLevel\": 3, \"Count\": 1}, {\"MonthlyRate\": 14935, \"JobLevel\": 1, \"Count\": 1}, {\"MonthlyRate\": 14947, \"JobLevel\": 1, \"Count\": 1}, {\"MonthlyRate\": 14961, \"JobLevel\": 1, \"Count\": 1}, {\"MonthlyRate\": 14977, \"JobLevel\": 4, \"Count\": 1}, {\"MonthlyRate\": 15000, \"JobLevel\": 2, \"Count\": 1}, {\"MonthlyRate\": 15053, \"JobLevel\": 1, \"Count\": 1}, {\"MonthlyRate\": 15062, \"JobLevel\": 1, \"Count\": 1}, {\"MonthlyRate\": 15067, \"JobLevel\": 3, \"Count\": 1}, {\"MonthlyRate\": 15146, \"JobLevel\": 3, \"Count\": 1}, {\"MonthlyRate\": 15170, \"JobLevel\": 1, \"Count\": 1}, {\"MonthlyRate\": 15174, \"JobLevel\": 1, \"Count\": 1}, {\"MonthlyRate\": 15178, \"JobLevel\": 1, \"Count\": 1}, {\"MonthlyRate\": 15182, \"JobLevel\": 1, \"Count\": 1}, {\"MonthlyRate\": 15211, \"JobLevel\": 2, \"Count\": 1}, {\"MonthlyRate\": 15232, \"JobLevel\": 1, \"Count\": 1}, {\"MonthlyRate\": 15238, \"JobLevel\": 1, \"Count\": 1}, {\"MonthlyRate\": 15276, \"JobLevel\": 2, \"Count\": 1}, {\"MonthlyRate\": 15302, \"JobLevel\": 5, \"Count\": 1}, {\"MonthlyRate\": 15318, \"JobLevel\": 1, \"Count\": 1}, {\"MonthlyRate\": 15318, \"JobLevel\": 3, \"Count\": 1}, {\"MonthlyRate\": 15322, \"JobLevel\": 3, \"Count\": 1}, {\"MonthlyRate\": 15332, \"JobLevel\": 2, \"Count\": 1}, {\"MonthlyRate\": 15346, \"JobLevel\": 1, \"Count\": 1}, {\"MonthlyRate\": 15395, \"JobLevel\": 3, \"Count\": 1}, {\"MonthlyRate\": 15397, \"JobLevel\": 3, \"Count\": 1}, {\"MonthlyRate\": 15411, \"JobLevel\": 2, \"Count\": 1}, {\"MonthlyRate\": 15417, \"JobLevel\": 1, \"Count\": 1}, {\"MonthlyRate\": 15428, \"JobLevel\": 1, \"Count\": 1}, {\"MonthlyRate\": 15434, \"JobLevel\": 1, \"Count\": 1}, {\"MonthlyRate\": 15471, \"JobLevel\": 3, \"Count\": 1}, {\"MonthlyRate\": 15480, \"JobLevel\": 2, \"Count\": 1}, {\"MonthlyRate\": 15497, \"JobLevel\": 2, \"Count\": 1}, {\"MonthlyRate\": 15530, \"JobLevel\": 2, \"Count\": 1}, {\"MonthlyRate\": 15587, \"JobLevel\": 1, \"Count\": 1}, {\"MonthlyRate\": 15589, \"JobLevel\": 3, \"Count\": 1}, {\"MonthlyRate\": 15596, \"JobLevel\": 4, \"Count\": 1}, {\"MonthlyRate\": 15624, \"JobLevel\": 2, \"Count\": 1}, {\"MonthlyRate\": 15669, \"JobLevel\": 3, \"Count\": 1}, {\"MonthlyRate\": 15678, \"JobLevel\": 2, \"Count\": 1}, {\"MonthlyRate\": 15682, \"JobLevel\": 3, \"Count\": 1}, {\"MonthlyRate\": 15696, \"JobLevel\": 2, \"Count\": 1}, {\"MonthlyRate\": 15701, \"JobLevel\": 2, \"Count\": 1}, {\"MonthlyRate\": 15717, \"JobLevel\": 2, \"Count\": 1}, {\"MonthlyRate\": 15736, \"JobLevel\": 3, \"Count\": 1}, {\"MonthlyRate\": 15747, \"JobLevel\": 1, \"Count\": 1}, {\"MonthlyRate\": 15748, \"JobLevel\": 1, \"Count\": 1}, {\"MonthlyRate\": 15813, \"JobLevel\": 3, \"Count\": 1}, {\"MonthlyRate\": 15815, \"JobLevel\": 5, \"Count\": 1}, {\"MonthlyRate\": 15830, \"JobLevel\": 2, \"Count\": 1}, {\"MonthlyRate\": 15834, \"JobLevel\": 2, \"Count\": 1}, {\"MonthlyRate\": 15850, \"JobLevel\": 2, \"Count\": 1}, {\"MonthlyRate\": 15869, \"JobLevel\": 3, \"Count\": 1}, {\"MonthlyRate\": 15881, \"JobLevel\": 1, \"Count\": 1}, {\"MonthlyRate\": 15891, \"JobLevel\": 1, \"Count\": 1}, {\"MonthlyRate\": 15891, \"JobLevel\": 2, \"Count\": 1}, {\"MonthlyRate\": 15896, \"JobLevel\": 4, \"Count\": 1}, {\"MonthlyRate\": 15901, \"JobLevel\": 4, \"Count\": 1}, {\"MonthlyRate\": 15919, \"JobLevel\": 1, \"Count\": 1}, {\"MonthlyRate\": 15963, \"JobLevel\": 1, \"Count\": 1}, {\"MonthlyRate\": 15970, \"JobLevel\": 5, \"Count\": 1}, {\"MonthlyRate\": 15972, \"JobLevel\": 2, \"Count\": 1}, {\"MonthlyRate\": 15975, \"JobLevel\": 2, \"Count\": 1}, {\"MonthlyRate\": 15986, \"JobLevel\": 2, \"Count\": 1}, {\"MonthlyRate\": 15986, \"JobLevel\": 3, \"Count\": 1}, {\"MonthlyRate\": 15998, \"JobLevel\": 2, \"Count\": 1}, {\"MonthlyRate\": 15999, \"JobLevel\": 1, \"Count\": 1}, {\"MonthlyRate\": 16002, \"JobLevel\": 1, \"Count\": 1}, {\"MonthlyRate\": 16019, \"JobLevel\": 1, \"Count\": 1}, {\"MonthlyRate\": 16031, \"JobLevel\": 1, \"Count\": 1}, {\"MonthlyRate\": 16044, \"JobLevel\": 2, \"Count\": 1}, {\"MonthlyRate\": 16047, \"JobLevel\": 2, \"Count\": 1}, {\"MonthlyRate\": 16090, \"JobLevel\": 1, \"Count\": 1}, {\"MonthlyRate\": 16092, \"JobLevel\": 1, \"Count\": 1}, {\"MonthlyRate\": 16102, \"JobLevel\": 1, \"Count\": 1}, {\"MonthlyRate\": 16117, \"JobLevel\": 1, \"Count\": 1}, {\"MonthlyRate\": 16130, \"JobLevel\": 2, \"Count\": 1}, {\"MonthlyRate\": 16143, \"JobLevel\": 2, \"Count\": 1}, {\"MonthlyRate\": 16154, \"JobLevel\": 1, \"Count\": 1}, {\"MonthlyRate\": 16154, \"JobLevel\": 4, \"Count\": 1}, {\"MonthlyRate\": 16177, \"JobLevel\": 2, \"Count\": 1}, {\"MonthlyRate\": 16192, \"JobLevel\": 1, \"Count\": 1}, {\"MonthlyRate\": 16193, \"JobLevel\": 1, \"Count\": 1}, {\"MonthlyRate\": 16213, \"JobLevel\": 1, \"Count\": 1}, {\"MonthlyRate\": 16225, \"JobLevel\": 5, \"Count\": 1}, {\"MonthlyRate\": 16280, \"JobLevel\": 5, \"Count\": 1}, {\"MonthlyRate\": 16290, \"JobLevel\": 1, \"Count\": 1}, {\"MonthlyRate\": 16292, \"JobLevel\": 3, \"Count\": 1}, {\"MonthlyRate\": 16321, \"JobLevel\": 2, \"Count\": 1}, {\"MonthlyRate\": 16340, \"JobLevel\": 1, \"Count\": 1}, {\"MonthlyRate\": 16346, \"JobLevel\": 1, \"Count\": 1}, {\"MonthlyRate\": 16374, \"JobLevel\": 1, \"Count\": 1}, {\"MonthlyRate\": 16375, \"JobLevel\": 5, \"Count\": 1}, {\"MonthlyRate\": 16376, \"JobLevel\": 1, \"Count\": 1}, {\"MonthlyRate\": 16379, \"JobLevel\": 2, \"Count\": 1}, {\"MonthlyRate\": 16392, \"JobLevel\": 2, \"Count\": 1}, {\"MonthlyRate\": 16439, \"JobLevel\": 2, \"Count\": 1}, {\"MonthlyRate\": 16458, \"JobLevel\": 1, \"Count\": 1}, {\"MonthlyRate\": 16479, \"JobLevel\": 1, \"Count\": 1}, {\"MonthlyRate\": 16490, \"JobLevel\": 2, \"Count\": 1}, {\"MonthlyRate\": 16495, \"JobLevel\": 2, \"Count\": 1}, {\"MonthlyRate\": 16523, \"JobLevel\": 2, \"Count\": 1}, {\"MonthlyRate\": 16530, \"JobLevel\": 1, \"Count\": 1}, {\"MonthlyRate\": 16542, \"JobLevel\": 2, \"Count\": 1}, {\"MonthlyRate\": 16571, \"JobLevel\": 1, \"Count\": 1}, {\"MonthlyRate\": 16577, \"JobLevel\": 2, \"Count\": 1}, {\"MonthlyRate\": 16586, \"JobLevel\": 3, \"Count\": 1}, {\"MonthlyRate\": 16612, \"JobLevel\": 1, \"Count\": 1}, {\"MonthlyRate\": 16616, \"JobLevel\": 4, \"Count\": 1}, {\"MonthlyRate\": 16620, \"JobLevel\": 1, \"Count\": 1}, {\"MonthlyRate\": 16632, \"JobLevel\": 1, \"Count\": 1}, {\"MonthlyRate\": 16642, \"JobLevel\": 3, \"Count\": 1}, {\"MonthlyRate\": 16673, \"JobLevel\": 2, \"Count\": 1}, {\"MonthlyRate\": 16701, \"JobLevel\": 5, \"Count\": 1}, {\"MonthlyRate\": 16734, \"JobLevel\": 1, \"Count\": 1}, {\"MonthlyRate\": 16822, \"JobLevel\": 2, \"Count\": 1}, {\"MonthlyRate\": 16840, \"JobLevel\": 3, \"Count\": 1}, {\"MonthlyRate\": 16873, \"JobLevel\": 3, \"Count\": 1}, {\"MonthlyRate\": 16885, \"JobLevel\": 2, \"Count\": 1}, {\"MonthlyRate\": 16900, \"JobLevel\": 1, \"Count\": 1}, {\"MonthlyRate\": 16901, \"JobLevel\": 1, \"Count\": 1}, {\"MonthlyRate\": 16928, \"JobLevel\": 2, \"Count\": 1}, {\"MonthlyRate\": 16985, \"JobLevel\": 2, \"Count\": 1}, {\"MonthlyRate\": 16998, \"JobLevel\": 1, \"Count\": 1}, {\"MonthlyRate\": 17000, \"JobLevel\": 2, \"Count\": 1}, {\"MonthlyRate\": 17001, \"JobLevel\": 1, \"Count\": 1}, {\"MonthlyRate\": 17001, \"JobLevel\": 2, \"Count\": 1}, {\"MonthlyRate\": 17011, \"JobLevel\": 2, \"Count\": 1}, {\"MonthlyRate\": 17053, \"JobLevel\": 5, \"Count\": 1}, {\"MonthlyRate\": 17056, \"JobLevel\": 2, \"Count\": 1}, {\"MonthlyRate\": 17071, \"JobLevel\": 4, \"Count\": 1}, {\"MonthlyRate\": 17078, \"JobLevel\": 2, \"Count\": 1}, {\"MonthlyRate\": 17089, \"JobLevel\": 2, \"Count\": 1}, {\"MonthlyRate\": 17102, \"JobLevel\": 1, \"Count\": 1}, {\"MonthlyRate\": 17119, \"JobLevel\": 4, \"Count\": 1}, {\"MonthlyRate\": 17171, \"JobLevel\": 2, \"Count\": 1}, {\"MonthlyRate\": 17181, \"JobLevel\": 1, \"Count\": 1}, {\"MonthlyRate\": 17198, \"JobLevel\": 2, \"Count\": 1}, {\"MonthlyRate\": 17205, \"JobLevel\": 1, \"Count\": 1}, {\"MonthlyRate\": 17218, \"JobLevel\": 1, \"Count\": 1}, {\"MonthlyRate\": 17231, \"JobLevel\": 3, \"Count\": 1}, {\"MonthlyRate\": 17235, \"JobLevel\": 3, \"Count\": 1}, {\"MonthlyRate\": 17241, \"JobLevel\": 1, \"Count\": 1}, {\"MonthlyRate\": 17251, \"JobLevel\": 2, \"Count\": 1}, {\"MonthlyRate\": 17258, \"JobLevel\": 1, \"Count\": 1}, {\"MonthlyRate\": 17285, \"JobLevel\": 1, \"Count\": 1}, {\"MonthlyRate\": 17312, \"JobLevel\": 5, \"Count\": 1}, {\"MonthlyRate\": 17323, \"JobLevel\": 4, \"Count\": 1}, {\"MonthlyRate\": 17334, \"JobLevel\": 4, \"Count\": 1}, {\"MonthlyRate\": 17360, \"JobLevel\": 1, \"Count\": 1}, {\"MonthlyRate\": 17363, \"JobLevel\": 1, \"Count\": 1}, {\"MonthlyRate\": 17369, \"JobLevel\": 2, \"Count\": 1}, {\"MonthlyRate\": 17381, \"JobLevel\": 4, \"Count\": 1}, {\"MonthlyRate\": 17433, \"JobLevel\": 2, \"Count\": 1}, {\"MonthlyRate\": 17434, \"JobLevel\": 1, \"Count\": 1}, {\"MonthlyRate\": 17456, \"JobLevel\": 2, \"Count\": 1}, {\"MonthlyRate\": 17477, \"JobLevel\": 5, \"Count\": 1}, {\"MonthlyRate\": 17485, \"JobLevel\": 2, \"Count\": 1}, {\"MonthlyRate\": 17491, \"JobLevel\": 2, \"Count\": 1}, {\"MonthlyRate\": 17519, \"JobLevel\": 2, \"Count\": 1}, {\"MonthlyRate\": 17536, \"JobLevel\": 1, \"Count\": 1}, {\"MonthlyRate\": 17544, \"JobLevel\": 5, \"Count\": 1}, {\"MonthlyRate\": 17588, \"JobLevel\": 4, \"Count\": 1}, {\"MonthlyRate\": 17616, \"JobLevel\": 1, \"Count\": 1}, {\"MonthlyRate\": 17624, \"JobLevel\": 1, \"Count\": 1}, {\"MonthlyRate\": 17654, \"JobLevel\": 3, \"Count\": 1}, {\"MonthlyRate\": 17663, \"JobLevel\": 1, \"Count\": 1}, {\"MonthlyRate\": 17674, \"JobLevel\": 1, \"Count\": 1}, {\"MonthlyRate\": 17689, \"JobLevel\": 2, \"Count\": 1}, {\"MonthlyRate\": 17725, \"JobLevel\": 1, \"Count\": 1}, {\"MonthlyRate\": 17736, \"JobLevel\": 2, \"Count\": 1}, {\"MonthlyRate\": 17747, \"JobLevel\": 2, \"Count\": 1}, {\"MonthlyRate\": 17759, \"JobLevel\": 1, \"Count\": 1}, {\"MonthlyRate\": 17778, \"JobLevel\": 2, \"Count\": 1}, {\"MonthlyRate\": 17783, \"JobLevel\": 2, \"Count\": 1}, {\"MonthlyRate\": 17799, \"JobLevel\": 3, \"Count\": 1}, {\"MonthlyRate\": 17802, \"JobLevel\": 3, \"Count\": 1}, {\"MonthlyRate\": 17808, \"JobLevel\": 1, \"Count\": 1}, {\"MonthlyRate\": 17810, \"JobLevel\": 4, \"Count\": 1}, {\"MonthlyRate\": 17822, \"JobLevel\": 2, \"Count\": 1}, {\"MonthlyRate\": 17852, \"JobLevel\": 1, \"Count\": 1}, {\"MonthlyRate\": 17872, \"JobLevel\": 1, \"Count\": 1}, {\"MonthlyRate\": 17881, \"JobLevel\": 1, \"Count\": 1}, {\"MonthlyRate\": 17940, \"JobLevel\": 1, \"Count\": 1}, {\"MonthlyRate\": 17967, \"JobLevel\": 1, \"Count\": 1}, {\"MonthlyRate\": 17970, \"JobLevel\": 2, \"Count\": 1}, {\"MonthlyRate\": 17997, \"JobLevel\": 4, \"Count\": 1}, {\"MonthlyRate\": 18016, \"JobLevel\": 1, \"Count\": 1}, {\"MonthlyRate\": 18024, \"JobLevel\": 1, \"Count\": 1}, {\"MonthlyRate\": 18079, \"JobLevel\": 2, \"Count\": 1}, {\"MonthlyRate\": 18089, \"JobLevel\": 2, \"Count\": 1}, {\"MonthlyRate\": 18092, \"JobLevel\": 3, \"Count\": 1}, {\"MonthlyRate\": 18103, \"JobLevel\": 1, \"Count\": 1}, {\"MonthlyRate\": 18115, \"JobLevel\": 2, \"Count\": 1}, {\"MonthlyRate\": 18154, \"JobLevel\": 2, \"Count\": 1}, {\"MonthlyRate\": 18168, \"JobLevel\": 1, \"Count\": 1}, {\"MonthlyRate\": 18203, \"JobLevel\": 1, \"Count\": 1}, {\"MonthlyRate\": 18235, \"JobLevel\": 4, \"Count\": 1}, {\"MonthlyRate\": 18256, \"JobLevel\": 4, \"Count\": 1}, {\"MonthlyRate\": 18264, \"JobLevel\": 3, \"Count\": 1}, {\"MonthlyRate\": 18275, \"JobLevel\": 1, \"Count\": 1}, {\"MonthlyRate\": 18300, \"JobLevel\": 1, \"Count\": 1}, {\"MonthlyRate\": 18384, \"JobLevel\": 2, \"Count\": 1}, {\"MonthlyRate\": 18385, \"JobLevel\": 2, \"Count\": 1}, {\"MonthlyRate\": 18398, \"JobLevel\": 1, \"Count\": 1}, {\"MonthlyRate\": 18410, \"JobLevel\": 1, \"Count\": 1}, {\"MonthlyRate\": 18420, \"JobLevel\": 1, \"Count\": 1}, {\"MonthlyRate\": 18437, \"JobLevel\": 1, \"Count\": 1}, {\"MonthlyRate\": 18500, \"JobLevel\": 2, \"Count\": 1}, {\"MonthlyRate\": 18575, \"JobLevel\": 5, \"Count\": 1}, {\"MonthlyRate\": 18597, \"JobLevel\": 2, \"Count\": 1}, {\"MonthlyRate\": 18611, \"JobLevel\": 3, \"Count\": 1}, {\"MonthlyRate\": 18624, \"JobLevel\": 2, \"Count\": 1}, {\"MonthlyRate\": 18625, \"JobLevel\": 5, \"Count\": 1}, {\"MonthlyRate\": 18640, \"JobLevel\": 5, \"Count\": 1}, {\"MonthlyRate\": 18659, \"JobLevel\": 2, \"Count\": 1}, {\"MonthlyRate\": 18685, \"JobLevel\": 4, \"Count\": 1}, {\"MonthlyRate\": 18686, \"JobLevel\": 2, \"Count\": 1}, {\"MonthlyRate\": 18697, \"JobLevel\": 1, \"Count\": 1}, {\"MonthlyRate\": 18698, \"JobLevel\": 2, \"Count\": 1}, {\"MonthlyRate\": 18706, \"JobLevel\": 3, \"Count\": 1}, {\"MonthlyRate\": 18725, \"JobLevel\": 1, \"Count\": 1}, {\"MonthlyRate\": 18767, \"JobLevel\": 2, \"Count\": 1}, {\"MonthlyRate\": 18775, \"JobLevel\": 1, \"Count\": 1}, {\"MonthlyRate\": 18779, \"JobLevel\": 1, \"Count\": 1}, {\"MonthlyRate\": 18783, \"JobLevel\": 1, \"Count\": 1}, {\"MonthlyRate\": 18787, \"JobLevel\": 3, \"Count\": 1}, {\"MonthlyRate\": 18798, \"JobLevel\": 1, \"Count\": 1}, {\"MonthlyRate\": 18830, \"JobLevel\": 1, \"Count\": 1}, {\"MonthlyRate\": 18863, \"JobLevel\": 1, \"Count\": 1}, {\"MonthlyRate\": 18869, \"JobLevel\": 3, \"Count\": 1}, {\"MonthlyRate\": 18899, \"JobLevel\": 2, \"Count\": 1}, {\"MonthlyRate\": 18938, \"JobLevel\": 5, \"Count\": 1}, {\"MonthlyRate\": 18959, \"JobLevel\": 1, \"Count\": 1}, {\"MonthlyRate\": 18991, \"JobLevel\": 4, \"Count\": 1}, {\"MonthlyRate\": 19002, \"JobLevel\": 3, \"Count\": 1}, {\"MonthlyRate\": 19028, \"JobLevel\": 4, \"Count\": 1}, {\"MonthlyRate\": 19100, \"JobLevel\": 3, \"Count\": 1}, {\"MonthlyRate\": 19106, \"JobLevel\": 1, \"Count\": 1}, {\"MonthlyRate\": 19121, \"JobLevel\": 2, \"Count\": 1}, {\"MonthlyRate\": 19124, \"JobLevel\": 2, \"Count\": 1}, {\"MonthlyRate\": 19146, \"JobLevel\": 2, \"Count\": 1}, {\"MonthlyRate\": 19170, \"JobLevel\": 2, \"Count\": 1}, {\"MonthlyRate\": 19188, \"JobLevel\": 2, \"Count\": 1}, {\"MonthlyRate\": 19191, \"JobLevel\": 2, \"Count\": 1}, {\"MonthlyRate\": 19196, \"JobLevel\": 5, \"Count\": 1}, {\"MonthlyRate\": 19225, \"JobLevel\": 1, \"Count\": 1}, {\"MonthlyRate\": 19239, \"JobLevel\": 3, \"Count\": 1}, {\"MonthlyRate\": 19246, \"JobLevel\": 2, \"Count\": 1}, {\"MonthlyRate\": 19255, \"JobLevel\": 2, \"Count\": 1}, {\"MonthlyRate\": 19271, \"JobLevel\": 3, \"Count\": 1}, {\"MonthlyRate\": 19281, \"JobLevel\": 1, \"Count\": 1}, {\"MonthlyRate\": 19293, \"JobLevel\": 2, \"Count\": 1}, {\"MonthlyRate\": 19294, \"JobLevel\": 3, \"Count\": 1}, {\"MonthlyRate\": 19299, \"JobLevel\": 1, \"Count\": 1}, {\"MonthlyRate\": 19305, \"JobLevel\": 1, \"Count\": 1}, {\"MonthlyRate\": 19332, \"JobLevel\": 2, \"Count\": 1}, {\"MonthlyRate\": 19345, \"JobLevel\": 2, \"Count\": 1}, {\"MonthlyRate\": 19368, \"JobLevel\": 2, \"Count\": 1}, {\"MonthlyRate\": 19373, \"JobLevel\": 1, \"Count\": 1}, {\"MonthlyRate\": 19373, \"JobLevel\": 3, \"Count\": 1}, {\"MonthlyRate\": 19383, \"JobLevel\": 2, \"Count\": 1}, {\"MonthlyRate\": 19384, \"JobLevel\": 1, \"Count\": 1}, {\"MonthlyRate\": 19394, \"JobLevel\": 2, \"Count\": 1}, {\"MonthlyRate\": 19461, \"JobLevel\": 2, \"Count\": 1}, {\"MonthlyRate\": 19479, \"JobLevel\": 2, \"Count\": 1}, {\"MonthlyRate\": 19494, \"JobLevel\": 4, \"Count\": 1}, {\"MonthlyRate\": 19519, \"JobLevel\": 5, \"Count\": 1}, {\"MonthlyRate\": 19555, \"JobLevel\": 1, \"Count\": 1}, {\"MonthlyRate\": 19558, \"JobLevel\": 2, \"Count\": 1}, {\"MonthlyRate\": 19562, \"JobLevel\": 5, \"Count\": 1}, {\"MonthlyRate\": 19566, \"JobLevel\": 3, \"Count\": 1}, {\"MonthlyRate\": 19573, \"JobLevel\": 2, \"Count\": 1}, {\"MonthlyRate\": 19588, \"JobLevel\": 3, \"Count\": 1}, {\"MonthlyRate\": 19609, \"JobLevel\": 3, \"Count\": 1}, {\"MonthlyRate\": 19627, \"JobLevel\": 2, \"Count\": 1}, {\"MonthlyRate\": 19630, \"JobLevel\": 1, \"Count\": 1}, {\"MonthlyRate\": 19655, \"JobLevel\": 1, \"Count\": 1}, {\"MonthlyRate\": 19658, \"JobLevel\": 2, \"Count\": 1}, {\"MonthlyRate\": 19665, \"JobLevel\": 2, \"Count\": 1}, {\"MonthlyRate\": 19682, \"JobLevel\": 2, \"Count\": 1}, {\"MonthlyRate\": 19711, \"JobLevel\": 2, \"Count\": 1}, {\"MonthlyRate\": 19715, \"JobLevel\": 1, \"Count\": 1}, {\"MonthlyRate\": 19719, \"JobLevel\": 3, \"Count\": 1}, {\"MonthlyRate\": 19730, \"JobLevel\": 4, \"Count\": 1}, {\"MonthlyRate\": 19737, \"JobLevel\": 2, \"Count\": 1}, {\"MonthlyRate\": 19757, \"JobLevel\": 1, \"Count\": 1}, {\"MonthlyRate\": 19760, \"JobLevel\": 2, \"Count\": 1}, {\"MonthlyRate\": 19764, \"JobLevel\": 4, \"Count\": 1}, {\"MonthlyRate\": 19783, \"JobLevel\": 1, \"Count\": 1}, {\"MonthlyRate\": 19788, \"JobLevel\": 1, \"Count\": 1}, {\"MonthlyRate\": 19805, \"JobLevel\": 5, \"Count\": 1}, {\"MonthlyRate\": 19826, \"JobLevel\": 1, \"Count\": 1}, {\"MonthlyRate\": 19863, \"JobLevel\": 3, \"Count\": 1}, {\"MonthlyRate\": 19877, \"JobLevel\": 2, \"Count\": 1}, {\"MonthlyRate\": 19899, \"JobLevel\": 2, \"Count\": 1}, {\"MonthlyRate\": 19905, \"JobLevel\": 1, \"Count\": 1}, {\"MonthlyRate\": 19911, \"JobLevel\": 1, \"Count\": 1}, {\"MonthlyRate\": 19920, \"JobLevel\": 1, \"Count\": 1}, {\"MonthlyRate\": 19921, \"JobLevel\": 2, \"Count\": 1}, {\"MonthlyRate\": 19944, \"JobLevel\": 3, \"Count\": 1}, {\"MonthlyRate\": 19948, \"JobLevel\": 3, \"Count\": 1}, {\"MonthlyRate\": 19982, \"JobLevel\": 1, \"Count\": 1}, {\"MonthlyRate\": 19989, \"JobLevel\": 3, \"Count\": 1}, {\"MonthlyRate\": 20002, \"JobLevel\": 3, \"Count\": 1}, {\"MonthlyRate\": 20003, \"JobLevel\": 2, \"Count\": 1}, {\"MonthlyRate\": 20006, \"JobLevel\": 1, \"Count\": 1}, {\"MonthlyRate\": 20100, \"JobLevel\": 1, \"Count\": 1}, {\"MonthlyRate\": 20115, \"JobLevel\": 2, \"Count\": 1}, {\"MonthlyRate\": 20156, \"JobLevel\": 2, \"Count\": 1}, {\"MonthlyRate\": 20161, \"JobLevel\": 2, \"Count\": 1}, {\"MonthlyRate\": 20165, \"JobLevel\": 1, \"Count\": 1}, {\"MonthlyRate\": 20206, \"JobLevel\": 4, \"Count\": 1}, {\"MonthlyRate\": 20232, \"JobLevel\": 1, \"Count\": 1}, {\"MonthlyRate\": 20234, \"JobLevel\": 2, \"Count\": 1}, {\"MonthlyRate\": 20251, \"JobLevel\": 1, \"Count\": 1}, {\"MonthlyRate\": 20260, \"JobLevel\": 2, \"Count\": 1}, {\"MonthlyRate\": 20284, \"JobLevel\": 1, \"Count\": 1}, {\"MonthlyRate\": 20284, \"JobLevel\": 5, \"Count\": 1}, {\"MonthlyRate\": 20293, \"JobLevel\": 1, \"Count\": 1}, {\"MonthlyRate\": 20308, \"JobLevel\": 3, \"Count\": 1}, {\"MonthlyRate\": 20317, \"JobLevel\": 1, \"Count\": 1}, {\"MonthlyRate\": 20328, \"JobLevel\": 2, \"Count\": 1}, {\"MonthlyRate\": 20335, \"JobLevel\": 3, \"Count\": 1}, {\"MonthlyRate\": 20338, \"JobLevel\": 1, \"Count\": 1}, {\"MonthlyRate\": 20364, \"JobLevel\": 3, \"Count\": 1}, {\"MonthlyRate\": 20364, \"JobLevel\": 4, \"Count\": 1}, {\"MonthlyRate\": 20366, \"JobLevel\": 1, \"Count\": 1}, {\"MonthlyRate\": 20392, \"JobLevel\": 2, \"Count\": 1}, {\"MonthlyRate\": 20420, \"JobLevel\": 4, \"Count\": 1}, {\"MonthlyRate\": 20431, \"JobLevel\": 2, \"Count\": 1}, {\"MonthlyRate\": 20439, \"JobLevel\": 1, \"Count\": 1}, {\"MonthlyRate\": 20445, \"JobLevel\": 2, \"Count\": 1}, {\"MonthlyRate\": 20460, \"JobLevel\": 2, \"Count\": 1}, {\"MonthlyRate\": 20462, \"JobLevel\": 4, \"Count\": 1}, {\"MonthlyRate\": 20467, \"JobLevel\": 3, \"Count\": 1}, {\"MonthlyRate\": 20471, \"JobLevel\": 1, \"Count\": 1}, {\"MonthlyRate\": 20489, \"JobLevel\": 4, \"Count\": 1}, {\"MonthlyRate\": 20490, \"JobLevel\": 1, \"Count\": 1}, {\"MonthlyRate\": 20497, \"JobLevel\": 2, \"Count\": 1}, {\"MonthlyRate\": 20520, \"JobLevel\": 1, \"Count\": 1}, {\"MonthlyRate\": 20586, \"JobLevel\": 1, \"Count\": 1}, {\"MonthlyRate\": 20619, \"JobLevel\": 3, \"Count\": 1}, {\"MonthlyRate\": 20623, \"JobLevel\": 2, \"Count\": 1}, {\"MonthlyRate\": 20652, \"JobLevel\": 3, \"Count\": 1}, {\"MonthlyRate\": 20682, \"JobLevel\": 2, \"Count\": 1}, {\"MonthlyRate\": 20689, \"JobLevel\": 4, \"Count\": 1}, {\"MonthlyRate\": 20715, \"JobLevel\": 3, \"Count\": 1}, {\"MonthlyRate\": 20739, \"JobLevel\": 2, \"Count\": 1}, {\"MonthlyRate\": 20750, \"JobLevel\": 2, \"Count\": 1}, {\"MonthlyRate\": 20763, \"JobLevel\": 2, \"Count\": 1}, {\"MonthlyRate\": 20794, \"JobLevel\": 2, \"Count\": 1}, {\"MonthlyRate\": 20898, \"JobLevel\": 1, \"Count\": 1}, {\"MonthlyRate\": 20925, \"JobLevel\": 3, \"Count\": 1}, {\"MonthlyRate\": 20933, \"JobLevel\": 3, \"Count\": 1}, {\"MonthlyRate\": 20938, \"JobLevel\": 1, \"Count\": 1}, {\"MonthlyRate\": 20943, \"JobLevel\": 2, \"Count\": 1}, {\"MonthlyRate\": 20948, \"JobLevel\": 3, \"Count\": 1}, {\"MonthlyRate\": 20978, \"JobLevel\": 2, \"Count\": 1}, {\"MonthlyRate\": 20989, \"JobLevel\": 1, \"Count\": 1}, {\"MonthlyRate\": 20990, \"JobLevel\": 1, \"Count\": 1}, {\"MonthlyRate\": 21016, \"JobLevel\": 4, \"Count\": 1}, {\"MonthlyRate\": 21026, \"JobLevel\": 2, \"Count\": 1}, {\"MonthlyRate\": 21029, \"JobLevel\": 2, \"Count\": 1}, {\"MonthlyRate\": 21030, \"JobLevel\": 5, \"Count\": 1}, {\"MonthlyRate\": 21057, \"JobLevel\": 2, \"Count\": 1}, {\"MonthlyRate\": 21072, \"JobLevel\": 3, \"Count\": 1}, {\"MonthlyRate\": 21075, \"JobLevel\": 2, \"Count\": 1}, {\"MonthlyRate\": 21081, \"JobLevel\": 1, \"Count\": 1}, {\"MonthlyRate\": 21082, \"JobLevel\": 1, \"Count\": 1}, {\"MonthlyRate\": 21086, \"JobLevel\": 4, \"Count\": 1}, {\"MonthlyRate\": 21123, \"JobLevel\": 2, \"Count\": 1}, {\"MonthlyRate\": 21141, \"JobLevel\": 5, \"Count\": 1}, {\"MonthlyRate\": 21143, \"JobLevel\": 2, \"Count\": 1}, {\"MonthlyRate\": 21146, \"JobLevel\": 2, \"Count\": 1}, {\"MonthlyRate\": 21158, \"JobLevel\": 1, \"Count\": 1}, {\"MonthlyRate\": 21173, \"JobLevel\": 2, \"Count\": 1}, {\"MonthlyRate\": 21195, \"JobLevel\": 3, \"Count\": 1}, {\"MonthlyRate\": 21196, \"JobLevel\": 3, \"Count\": 1}, {\"MonthlyRate\": 21199, \"JobLevel\": 5, \"Count\": 1}, {\"MonthlyRate\": 21203, \"JobLevel\": 2, \"Count\": 1}, {\"MonthlyRate\": 21214, \"JobLevel\": 3, \"Count\": 1}, {\"MonthlyRate\": 21221, \"JobLevel\": 1, \"Count\": 1}, {\"MonthlyRate\": 21222, \"JobLevel\": 1, \"Count\": 1}, {\"MonthlyRate\": 21293, \"JobLevel\": 3, \"Count\": 1}, {\"MonthlyRate\": 21378, \"JobLevel\": 1, \"Count\": 1}, {\"MonthlyRate\": 21412, \"JobLevel\": 1, \"Count\": 1}, {\"MonthlyRate\": 21436, \"JobLevel\": 2, \"Count\": 1}, {\"MonthlyRate\": 21437, \"JobLevel\": 1, \"Count\": 1}, {\"MonthlyRate\": 21445, \"JobLevel\": 5, \"Count\": 1}, {\"MonthlyRate\": 21447, \"JobLevel\": 2, \"Count\": 1}, {\"MonthlyRate\": 21457, \"JobLevel\": 3, \"Count\": 1}, {\"MonthlyRate\": 21495, \"JobLevel\": 1, \"Count\": 1}, {\"MonthlyRate\": 21509, \"JobLevel\": 1, \"Count\": 1}, {\"MonthlyRate\": 21519, \"JobLevel\": 2, \"Count\": 1}, {\"MonthlyRate\": 21526, \"JobLevel\": 3, \"Count\": 1}, {\"MonthlyRate\": 21530, \"JobLevel\": 3, \"Count\": 1}, {\"MonthlyRate\": 21534, \"JobLevel\": 2, \"Count\": 1}, {\"MonthlyRate\": 21534, \"JobLevel\": 3, \"Count\": 1}, {\"MonthlyRate\": 21602, \"JobLevel\": 2, \"Count\": 1}, {\"MonthlyRate\": 21624, \"JobLevel\": 4, \"Count\": 1}, {\"MonthlyRate\": 21630, \"JobLevel\": 1, \"Count\": 1}, {\"MonthlyRate\": 21632, \"JobLevel\": 1, \"Count\": 1}, {\"MonthlyRate\": 21643, \"JobLevel\": 1, \"Count\": 1}, {\"MonthlyRate\": 21653, \"JobLevel\": 2, \"Count\": 1}, {\"MonthlyRate\": 21698, \"JobLevel\": 3, \"Count\": 1}, {\"MonthlyRate\": 21703, \"JobLevel\": 2, \"Count\": 1}, {\"MonthlyRate\": 21708, \"JobLevel\": 3, \"Count\": 1}, {\"MonthlyRate\": 21728, \"JobLevel\": 1, \"Count\": 1}, {\"MonthlyRate\": 21731, \"JobLevel\": 1, \"Count\": 1}, {\"MonthlyRate\": 21777, \"JobLevel\": 1, \"Count\": 1}, {\"MonthlyRate\": 21782, \"JobLevel\": 2, \"Count\": 1}, {\"MonthlyRate\": 21813, \"JobLevel\": 2, \"Count\": 1}, {\"MonthlyRate\": 21816, \"JobLevel\": 2, \"Count\": 1}, {\"MonthlyRate\": 21821, \"JobLevel\": 2, \"Count\": 1}, {\"MonthlyRate\": 21829, \"JobLevel\": 4, \"Count\": 1}, {\"MonthlyRate\": 21831, \"JobLevel\": 1, \"Count\": 1}, {\"MonthlyRate\": 21833, \"JobLevel\": 2, \"Count\": 1}, {\"MonthlyRate\": 21922, \"JobLevel\": 5, \"Count\": 1}, {\"MonthlyRate\": 21923, \"JobLevel\": 1, \"Count\": 1}, {\"MonthlyRate\": 21972, \"JobLevel\": 1, \"Count\": 1}, {\"MonthlyRate\": 21981, \"JobLevel\": 1, \"Count\": 1}, {\"MonthlyRate\": 21981, \"JobLevel\": 3, \"Count\": 1}, {\"MonthlyRate\": 22002, \"JobLevel\": 1, \"Count\": 1}, {\"MonthlyRate\": 22021, \"JobLevel\": 4, \"Count\": 1}, {\"MonthlyRate\": 22049, \"JobLevel\": 2, \"Count\": 1}, {\"MonthlyRate\": 22052, \"JobLevel\": 1, \"Count\": 1}, {\"MonthlyRate\": 22061, \"JobLevel\": 1, \"Count\": 1}, {\"MonthlyRate\": 22074, \"JobLevel\": 2, \"Count\": 1}, {\"MonthlyRate\": 22074, \"JobLevel\": 4, \"Count\": 1}, {\"MonthlyRate\": 22087, \"JobLevel\": 2, \"Count\": 1}, {\"MonthlyRate\": 22088, \"JobLevel\": 1, \"Count\": 1}, {\"MonthlyRate\": 22098, \"JobLevel\": 2, \"Count\": 1}, {\"MonthlyRate\": 22102, \"JobLevel\": 1, \"Count\": 1}, {\"MonthlyRate\": 22102, \"JobLevel\": 4, \"Count\": 1}, {\"MonthlyRate\": 22107, \"JobLevel\": 2, \"Count\": 1}, {\"MonthlyRate\": 22128, \"JobLevel\": 2, \"Count\": 1}, {\"MonthlyRate\": 22149, \"JobLevel\": 1, \"Count\": 1}, {\"MonthlyRate\": 22154, \"JobLevel\": 1, \"Count\": 1}, {\"MonthlyRate\": 22162, \"JobLevel\": 2, \"Count\": 1}, {\"MonthlyRate\": 22174, \"JobLevel\": 2, \"Count\": 1}, {\"MonthlyRate\": 22217, \"JobLevel\": 2, \"Count\": 1}, {\"MonthlyRate\": 22245, \"JobLevel\": 3, \"Count\": 1}, {\"MonthlyRate\": 22262, \"JobLevel\": 1, \"Count\": 1}, {\"MonthlyRate\": 22266, \"JobLevel\": 2, \"Count\": 1}, {\"MonthlyRate\": 22308, \"JobLevel\": 4, \"Count\": 1}, {\"MonthlyRate\": 22310, \"JobLevel\": 1, \"Count\": 1}, {\"MonthlyRate\": 22376, \"JobLevel\": 1, \"Count\": 1}, {\"MonthlyRate\": 22384, \"JobLevel\": 4, \"Count\": 1}, {\"MonthlyRate\": 22422, \"JobLevel\": 4, \"Count\": 1}, {\"MonthlyRate\": 22455, \"JobLevel\": 2, \"Count\": 1}, {\"MonthlyRate\": 22456, \"JobLevel\": 5, \"Count\": 1}, {\"MonthlyRate\": 22474, \"JobLevel\": 2, \"Count\": 1}, {\"MonthlyRate\": 22477, \"JobLevel\": 3, \"Count\": 1}, {\"MonthlyRate\": 22478, \"JobLevel\": 1, \"Count\": 1}, {\"MonthlyRate\": 22482, \"JobLevel\": 1, \"Count\": 1}, {\"MonthlyRate\": 22490, \"JobLevel\": 1, \"Count\": 1}, {\"MonthlyRate\": 22495, \"JobLevel\": 1, \"Count\": 1}, {\"MonthlyRate\": 22534, \"JobLevel\": 2, \"Count\": 1}, {\"MonthlyRate\": 22539, \"JobLevel\": 5, \"Count\": 1}, {\"MonthlyRate\": 22553, \"JobLevel\": 2, \"Count\": 1}, {\"MonthlyRate\": 22573, \"JobLevel\": 3, \"Count\": 1}, {\"MonthlyRate\": 22577, \"JobLevel\": 4, \"Count\": 1}, {\"MonthlyRate\": 22578, \"JobLevel\": 4, \"Count\": 1}, {\"MonthlyRate\": 22589, \"JobLevel\": 2, \"Count\": 1}, {\"MonthlyRate\": 22604, \"JobLevel\": 2, \"Count\": 1}, {\"MonthlyRate\": 22645, \"JobLevel\": 2, \"Count\": 1}, {\"MonthlyRate\": 22650, \"JobLevel\": 1, \"Count\": 1}, {\"MonthlyRate\": 22653, \"JobLevel\": 1, \"Count\": 1}, {\"MonthlyRate\": 22656, \"JobLevel\": 2, \"Count\": 1}, {\"MonthlyRate\": 22670, \"JobLevel\": 2, \"Count\": 1}, {\"MonthlyRate\": 22673, \"JobLevel\": 1, \"Count\": 1}, {\"MonthlyRate\": 22710, \"JobLevel\": 2, \"Count\": 1}, {\"MonthlyRate\": 22722, \"JobLevel\": 2, \"Count\": 1}, {\"MonthlyRate\": 22789, \"JobLevel\": 4, \"Count\": 1}, {\"MonthlyRate\": 22792, \"JobLevel\": 3, \"Count\": 1}, {\"MonthlyRate\": 22794, \"JobLevel\": 1, \"Count\": 1}, {\"MonthlyRate\": 22807, \"JobLevel\": 2, \"Count\": 1}, {\"MonthlyRate\": 22808, \"JobLevel\": 1, \"Count\": 1}, {\"MonthlyRate\": 22812, \"JobLevel\": 2, \"Count\": 1}, {\"MonthlyRate\": 22822, \"JobLevel\": 5, \"Count\": 1}, {\"MonthlyRate\": 22825, \"JobLevel\": 2, \"Count\": 1}, {\"MonthlyRate\": 22845, \"JobLevel\": 2, \"Count\": 1}, {\"MonthlyRate\": 22887, \"JobLevel\": 2, \"Count\": 1}, {\"MonthlyRate\": 22908, \"JobLevel\": 3, \"Count\": 1}, {\"MonthlyRate\": 22914, \"JobLevel\": 3, \"Count\": 1}, {\"MonthlyRate\": 22929, \"JobLevel\": 1, \"Count\": 1}, {\"MonthlyRate\": 22930, \"JobLevel\": 3, \"Count\": 1}, {\"MonthlyRate\": 22949, \"JobLevel\": 2, \"Count\": 1}, {\"MonthlyRate\": 22952, \"JobLevel\": 3, \"Count\": 1}, {\"MonthlyRate\": 22955, \"JobLevel\": 1, \"Count\": 1}, {\"MonthlyRate\": 22957, \"JobLevel\": 1, \"Count\": 1}, {\"MonthlyRate\": 22967, \"JobLevel\": 2, \"Count\": 1}, {\"MonthlyRate\": 22977, \"JobLevel\": 1, \"Count\": 1}, {\"MonthlyRate\": 22984, \"JobLevel\": 3, \"Count\": 1}, {\"MonthlyRate\": 23016, \"JobLevel\": 2, \"Count\": 2}, {\"MonthlyRate\": 23037, \"JobLevel\": 5, \"Count\": 1}, {\"MonthlyRate\": 23060, \"JobLevel\": 2, \"Count\": 1}, {\"MonthlyRate\": 23070, \"JobLevel\": 2, \"Count\": 1}, {\"MonthlyRate\": 23099, \"JobLevel\": 2, \"Count\": 1}, {\"MonthlyRate\": 23159, \"JobLevel\": 1, \"Count\": 1}, {\"MonthlyRate\": 23163, \"JobLevel\": 2, \"Count\": 1}, {\"MonthlyRate\": 23177, \"JobLevel\": 2, \"Count\": 1}, {\"MonthlyRate\": 23213, \"JobLevel\": 1, \"Count\": 1}, {\"MonthlyRate\": 23231, \"JobLevel\": 1, \"Count\": 1}, {\"MonthlyRate\": 23238, \"JobLevel\": 2, \"Count\": 1}, {\"MonthlyRate\": 23258, \"JobLevel\": 4, \"Count\": 1}, {\"MonthlyRate\": 23281, \"JobLevel\": 3, \"Count\": 1}, {\"MonthlyRate\": 23288, \"JobLevel\": 2, \"Count\": 1}, {\"MonthlyRate\": 23293, \"JobLevel\": 1, \"Count\": 1}, {\"MonthlyRate\": 23300, \"JobLevel\": 1, \"Count\": 1}, {\"MonthlyRate\": 23333, \"JobLevel\": 2, \"Count\": 1}, {\"MonthlyRate\": 23343, \"JobLevel\": 2, \"Count\": 1}, {\"MonthlyRate\": 23352, \"JobLevel\": 2, \"Count\": 1}, {\"MonthlyRate\": 23361, \"JobLevel\": 2, \"Count\": 1}, {\"MonthlyRate\": 23364, \"JobLevel\": 3, \"Count\": 1}, {\"MonthlyRate\": 23371, \"JobLevel\": 2, \"Count\": 1}, {\"MonthlyRate\": 23384, \"JobLevel\": 1, \"Count\": 1}, {\"MonthlyRate\": 23398, \"JobLevel\": 2, \"Count\": 1}, {\"MonthlyRate\": 23402, \"JobLevel\": 3, \"Count\": 1}, {\"MonthlyRate\": 23413, \"JobLevel\": 2, \"Count\": 1}, {\"MonthlyRate\": 23428, \"JobLevel\": 2, \"Count\": 1}, {\"MonthlyRate\": 23447, \"JobLevel\": 2, \"Count\": 1}, {\"MonthlyRate\": 23452, \"JobLevel\": 2, \"Count\": 1}, {\"MonthlyRate\": 23457, \"JobLevel\": 3, \"Count\": 1}, {\"MonthlyRate\": 23474, \"JobLevel\": 4, \"Count\": 1}, {\"MonthlyRate\": 23490, \"JobLevel\": 2, \"Count\": 1}, {\"MonthlyRate\": 23522, \"JobLevel\": 1, \"Count\": 1}, {\"MonthlyRate\": 23537, \"JobLevel\": 3, \"Count\": 1}, {\"MonthlyRate\": 23553, \"JobLevel\": 2, \"Count\": 1}, {\"MonthlyRate\": 23577, \"JobLevel\": 1, \"Count\": 1}, {\"MonthlyRate\": 23631, \"JobLevel\": 2, \"Count\": 1}, {\"MonthlyRate\": 23648, \"JobLevel\": 1, \"Count\": 1}, {\"MonthlyRate\": 23679, \"JobLevel\": 2, \"Count\": 1}, {\"MonthlyRate\": 23683, \"JobLevel\": 2, \"Count\": 1}, {\"MonthlyRate\": 23687, \"JobLevel\": 2, \"Count\": 1}, {\"MonthlyRate\": 23726, \"JobLevel\": 2, \"Count\": 1}, {\"MonthlyRate\": 23737, \"JobLevel\": 1, \"Count\": 1}, {\"MonthlyRate\": 23757, \"JobLevel\": 2, \"Count\": 1}, {\"MonthlyRate\": 23772, \"JobLevel\": 3, \"Count\": 1}, {\"MonthlyRate\": 23779, \"JobLevel\": 1, \"Count\": 1}, {\"MonthlyRate\": 23785, \"JobLevel\": 1, \"Count\": 1}, {\"MonthlyRate\": 23793, \"JobLevel\": 2, \"Count\": 1}, {\"MonthlyRate\": 23814, \"JobLevel\": 2, \"Count\": 1}, {\"MonthlyRate\": 23826, \"JobLevel\": 1, \"Count\": 1}, {\"MonthlyRate\": 23844, \"JobLevel\": 1, \"Count\": 1}, {\"MonthlyRate\": 23848, \"JobLevel\": 3, \"Count\": 1}, {\"MonthlyRate\": 23866, \"JobLevel\": 2, \"Count\": 1}, {\"MonthlyRate\": 23888, \"JobLevel\": 2, \"Count\": 1}, {\"MonthlyRate\": 23910, \"JobLevel\": 1, \"Count\": 1}, {\"MonthlyRate\": 23914, \"JobLevel\": 2, \"Count\": 1}, {\"MonthlyRate\": 23965, \"JobLevel\": 1, \"Count\": 1}, {\"MonthlyRate\": 23978, \"JobLevel\": 3, \"Count\": 1}, {\"MonthlyRate\": 24001, \"JobLevel\": 3, \"Count\": 1}, {\"MonthlyRate\": 24008, \"JobLevel\": 2, \"Count\": 1}, {\"MonthlyRate\": 24017, \"JobLevel\": 1, \"Count\": 1}, {\"MonthlyRate\": 24032, \"JobLevel\": 3, \"Count\": 1}, {\"MonthlyRate\": 24052, \"JobLevel\": 1, \"Count\": 1}, {\"MonthlyRate\": 24097, \"JobLevel\": 4, \"Count\": 1}, {\"MonthlyRate\": 24117, \"JobLevel\": 2, \"Count\": 1}, {\"MonthlyRate\": 24118, \"JobLevel\": 5, \"Count\": 1}, {\"MonthlyRate\": 24152, \"JobLevel\": 2, \"Count\": 1}, {\"MonthlyRate\": 24162, \"JobLevel\": 2, \"Count\": 1}, {\"MonthlyRate\": 24164, \"JobLevel\": 4, \"Count\": 1}, {\"MonthlyRate\": 24200, \"JobLevel\": 2, \"Count\": 1}, {\"MonthlyRate\": 24208, \"JobLevel\": 3, \"Count\": 1}, {\"MonthlyRate\": 24223, \"JobLevel\": 2, \"Count\": 1}, {\"MonthlyRate\": 24232, \"JobLevel\": 2, \"Count\": 1}, {\"MonthlyRate\": 24252, \"JobLevel\": 2, \"Count\": 1}, {\"MonthlyRate\": 24301, \"JobLevel\": 2, \"Count\": 1}, {\"MonthlyRate\": 24375, \"JobLevel\": 1, \"Count\": 1}, {\"MonthlyRate\": 24406, \"JobLevel\": 2, \"Count\": 1}, {\"MonthlyRate\": 24409, \"JobLevel\": 4, \"Count\": 1}, {\"MonthlyRate\": 24439, \"JobLevel\": 4, \"Count\": 1}, {\"MonthlyRate\": 24440, \"JobLevel\": 1, \"Count\": 1}, {\"MonthlyRate\": 24442, \"JobLevel\": 2, \"Count\": 1}, {\"MonthlyRate\": 24444, \"JobLevel\": 1, \"Count\": 1}, {\"MonthlyRate\": 24444, \"JobLevel\": 3, \"Count\": 1}, {\"MonthlyRate\": 24447, \"JobLevel\": 2, \"Count\": 1}, {\"MonthlyRate\": 24450, \"JobLevel\": 4, \"Count\": 1}, {\"MonthlyRate\": 24456, \"JobLevel\": 4, \"Count\": 1}, {\"MonthlyRate\": 24483, \"JobLevel\": 2, \"Count\": 1}, {\"MonthlyRate\": 24525, \"JobLevel\": 3, \"Count\": 1}, {\"MonthlyRate\": 24532, \"JobLevel\": 2, \"Count\": 1}, {\"MonthlyRate\": 24539, \"JobLevel\": 2, \"Count\": 1}, {\"MonthlyRate\": 24558, \"JobLevel\": 2, \"Count\": 1}, {\"MonthlyRate\": 24594, \"JobLevel\": 2, \"Count\": 1}, {\"MonthlyRate\": 24608, \"JobLevel\": 3, \"Count\": 1}, {\"MonthlyRate\": 24609, \"JobLevel\": 1, \"Count\": 1}, {\"MonthlyRate\": 24619, \"JobLevel\": 3, \"Count\": 1}, {\"MonthlyRate\": 24624, \"JobLevel\": 2, \"Count\": 1}, {\"MonthlyRate\": 24666, \"JobLevel\": 3, \"Count\": 1}, {\"MonthlyRate\": 24668, \"JobLevel\": 2, \"Count\": 1}, {\"MonthlyRate\": 24737, \"JobLevel\": 1, \"Count\": 1}, {\"MonthlyRate\": 24785, \"JobLevel\": 2, \"Count\": 1}, {\"MonthlyRate\": 24788, \"JobLevel\": 2, \"Count\": 1}, {\"MonthlyRate\": 24793, \"JobLevel\": 2, \"Count\": 1}, {\"MonthlyRate\": 24795, \"JobLevel\": 2, \"Count\": 1}, {\"MonthlyRate\": 24812, \"JobLevel\": 2, \"Count\": 1}, {\"MonthlyRate\": 24835, \"JobLevel\": 2, \"Count\": 1}, {\"MonthlyRate\": 24852, \"JobLevel\": 1, \"Count\": 1}, {\"MonthlyRate\": 24907, \"JobLevel\": 2, \"Count\": 1}, {\"MonthlyRate\": 24920, \"JobLevel\": 2, \"Count\": 1}, {\"MonthlyRate\": 24941, \"JobLevel\": 1, \"Count\": 1}, {\"MonthlyRate\": 24978, \"JobLevel\": 1, \"Count\": 1}, {\"MonthlyRate\": 25043, \"JobLevel\": 2, \"Count\": 1}, {\"MonthlyRate\": 25063, \"JobLevel\": 1, \"Count\": 1}, {\"MonthlyRate\": 25098, \"JobLevel\": 4, \"Count\": 1}, {\"MonthlyRate\": 25103, \"JobLevel\": 1, \"Count\": 1}, {\"MonthlyRate\": 25150, \"JobLevel\": 3, \"Count\": 1}, {\"MonthlyRate\": 25166, \"JobLevel\": 2, \"Count\": 1}, {\"MonthlyRate\": 25174, \"JobLevel\": 2, \"Count\": 1}, {\"MonthlyRate\": 25178, \"JobLevel\": 3, \"Count\": 1}, {\"MonthlyRate\": 25198, \"JobLevel\": 2, \"Count\": 1}, {\"MonthlyRate\": 25233, \"JobLevel\": 1, \"Count\": 1}, {\"MonthlyRate\": 25258, \"JobLevel\": 3, \"Count\": 1}, {\"MonthlyRate\": 25265, \"JobLevel\": 1, \"Count\": 1}, {\"MonthlyRate\": 25275, \"JobLevel\": 2, \"Count\": 1}, {\"MonthlyRate\": 25291, \"JobLevel\": 3, \"Count\": 1}, {\"MonthlyRate\": 25308, \"JobLevel\": 1, \"Count\": 1}, {\"MonthlyRate\": 25326, \"JobLevel\": 1, \"Count\": 2}, {\"MonthlyRate\": 25348, \"JobLevel\": 2, \"Count\": 1}, {\"MonthlyRate\": 25353, \"JobLevel\": 2, \"Count\": 1}, {\"MonthlyRate\": 25388, \"JobLevel\": 2, \"Count\": 1}, {\"MonthlyRate\": 25412, \"JobLevel\": 1, \"Count\": 1}, {\"MonthlyRate\": 25422, \"JobLevel\": 1, \"Count\": 1}, {\"MonthlyRate\": 25440, \"JobLevel\": 2, \"Count\": 1}, {\"MonthlyRate\": 25470, \"JobLevel\": 1, \"Count\": 1}, {\"MonthlyRate\": 25479, \"JobLevel\": 1, \"Count\": 1}, {\"MonthlyRate\": 25518, \"JobLevel\": 2, \"Count\": 1}, {\"MonthlyRate\": 25527, \"JobLevel\": 1, \"Count\": 1}, {\"MonthlyRate\": 25549, \"JobLevel\": 2, \"Count\": 1}, {\"MonthlyRate\": 25592, \"JobLevel\": 4, \"Count\": 1}, {\"MonthlyRate\": 25594, \"JobLevel\": 5, \"Count\": 1}, {\"MonthlyRate\": 25605, \"JobLevel\": 1, \"Count\": 1}, {\"MonthlyRate\": 25657, \"JobLevel\": 1, \"Count\": 1}, {\"MonthlyRate\": 25681, \"JobLevel\": 1, \"Count\": 1}, {\"MonthlyRate\": 25713, \"JobLevel\": 3, \"Count\": 1}, {\"MonthlyRate\": 25725, \"JobLevel\": 1, \"Count\": 1}, {\"MonthlyRate\": 25751, \"JobLevel\": 2, \"Count\": 1}, {\"MonthlyRate\": 25755, \"JobLevel\": 2, \"Count\": 1}, {\"MonthlyRate\": 25761, \"JobLevel\": 5, \"Count\": 1}, {\"MonthlyRate\": 25796, \"JobLevel\": 3, \"Count\": 1}, {\"MonthlyRate\": 25800, \"JobLevel\": 3, \"Count\": 1}, {\"MonthlyRate\": 25811, \"JobLevel\": 5, \"Count\": 1}, {\"MonthlyRate\": 25812, \"JobLevel\": 3, \"Count\": 1}, {\"MonthlyRate\": 25846, \"JobLevel\": 5, \"Count\": 1}, {\"MonthlyRate\": 25927, \"JobLevel\": 3, \"Count\": 1}, {\"MonthlyRate\": 25949, \"JobLevel\": 3, \"Count\": 1}, {\"MonthlyRate\": 25952, \"JobLevel\": 2, \"Count\": 1}, {\"MonthlyRate\": 25995, \"JobLevel\": 3, \"Count\": 1}, {\"MonthlyRate\": 26009, \"JobLevel\": 1, \"Count\": 1}, {\"MonthlyRate\": 26062, \"JobLevel\": 1, \"Count\": 1}, {\"MonthlyRate\": 26075, \"JobLevel\": 2, \"Count\": 1}, {\"MonthlyRate\": 26076, \"JobLevel\": 1, \"Count\": 1}, {\"MonthlyRate\": 26085, \"JobLevel\": 2, \"Count\": 1}, {\"MonthlyRate\": 26092, \"JobLevel\": 1, \"Count\": 1}, {\"MonthlyRate\": 26124, \"JobLevel\": 1, \"Count\": 1}, {\"MonthlyRate\": 26176, \"JobLevel\": 1, \"Count\": 1}, {\"MonthlyRate\": 26186, \"JobLevel\": 2, \"Count\": 1}, {\"MonthlyRate\": 26204, \"JobLevel\": 1, \"Count\": 1}, {\"MonthlyRate\": 26227, \"JobLevel\": 1, \"Count\": 1}, {\"MonthlyRate\": 26236, \"JobLevel\": 2, \"Count\": 1}, {\"MonthlyRate\": 26250, \"JobLevel\": 2, \"Count\": 1}, {\"MonthlyRate\": 26278, \"JobLevel\": 1, \"Count\": 1}, {\"MonthlyRate\": 26283, \"JobLevel\": 2, \"Count\": 1}, {\"MonthlyRate\": 26285, \"JobLevel\": 2, \"Count\": 1}, {\"MonthlyRate\": 26308, \"JobLevel\": 2, \"Count\": 1}, {\"MonthlyRate\": 26312, \"JobLevel\": 2, \"Count\": 1}, {\"MonthlyRate\": 26314, \"JobLevel\": 2, \"Count\": 1}, {\"MonthlyRate\": 26342, \"JobLevel\": 1, \"Count\": 1}, {\"MonthlyRate\": 26362, \"JobLevel\": 5, \"Count\": 1}, {\"MonthlyRate\": 26376, \"JobLevel\": 1, \"Count\": 1}, {\"MonthlyRate\": 26427, \"JobLevel\": 1, \"Count\": 1}, {\"MonthlyRate\": 26458, \"JobLevel\": 3, \"Count\": 1}, {\"MonthlyRate\": 26493, \"JobLevel\": 2, \"Count\": 1}, {\"MonthlyRate\": 26496, \"JobLevel\": 2, \"Count\": 1}, {\"MonthlyRate\": 26507, \"JobLevel\": 2, \"Count\": 1}, {\"MonthlyRate\": 26537, \"JobLevel\": 1, \"Count\": 1}, {\"MonthlyRate\": 26542, \"JobLevel\": 3, \"Count\": 1}, {\"MonthlyRate\": 26551, \"JobLevel\": 1, \"Count\": 1}, {\"MonthlyRate\": 26582, \"JobLevel\": 4, \"Count\": 1}, {\"MonthlyRate\": 26589, \"JobLevel\": 1, \"Count\": 1}, {\"MonthlyRate\": 26619, \"JobLevel\": 1, \"Count\": 1}, {\"MonthlyRate\": 26703, \"JobLevel\": 4, \"Count\": 1}, {\"MonthlyRate\": 26707, \"JobLevel\": 3, \"Count\": 1}, {\"MonthlyRate\": 26767, \"JobLevel\": 2, \"Count\": 1}, {\"MonthlyRate\": 26820, \"JobLevel\": 1, \"Count\": 1}, {\"MonthlyRate\": 26841, \"JobLevel\": 2, \"Count\": 1}, {\"MonthlyRate\": 26849, \"JobLevel\": 2, \"Count\": 1}, {\"MonthlyRate\": 26862, \"JobLevel\": 3, \"Count\": 1}, {\"MonthlyRate\": 26894, \"JobLevel\": 2, \"Count\": 1}, {\"MonthlyRate\": 26897, \"JobLevel\": 1, \"Count\": 1}, {\"MonthlyRate\": 26914, \"JobLevel\": 1, \"Count\": 1}, {\"MonthlyRate\": 26933, \"JobLevel\": 1, \"Count\": 1}, {\"MonthlyRate\": 26956, \"JobLevel\": 1, \"Count\": 1}, {\"MonthlyRate\": 26959, \"JobLevel\": 2, \"Count\": 1}, {\"MonthlyRate\": 26968, \"JobLevel\": 1, \"Count\": 1}, {\"MonthlyRate\": 26997, \"JobLevel\": 2, \"Count\": 1}, {\"MonthlyRate\": 26999, \"JobLevel\": 1, \"Count\": 1}]}}, {\"mode\": \"vega-lite\"});\n",
              "</script>"
            ],
            "text/plain": [
              "alt.Chart(...)"
            ]
          },
          "metadata": {},
          "execution_count": 27
        }
      ],
      "source": [
        "# Create a box plot of MonthlyRate by JobLevel\n",
        "\n",
        "# Calculate employee counts\n",
        "JobLevel_MonthlyRate_grouping = df.groupby(['MonthlyRate', 'JobLevel']).size().reset_index(name='Count')\n",
        "\n",
        "# Create a boxplot\n",
        "Boxplot_JobLevel_MonthlyRate = alt.Chart(JobLevel_MonthlyRate_grouping).mark_boxplot().encode(\n",
        "    x='JobLevel:O',  # Ordinal data for JobLevel\n",
        "    y='MonthlyRate:Q'  # Quantitative data for MonthlyRate\n",
        ").properties(\n",
        "    width=500,\n",
        "    height=300,\n",
        "    title='MonthlyRate Distribution by JobLevel'\n",
        ")\n",
        "\n",
        "# Customize the appearance of the chart (optional)\n",
        "Boxplot_JobLevel_MonthlyRate = Boxplot_JobLevel_MonthlyRate.configure_title(\n",
        "    fontSize=20,\n",
        "    font='Arial',\n",
        "    anchor='start',\n",
        "    color='gray'\n",
        ")\n",
        "\n",
        "# Display the chart\n",
        "Boxplot_JobLevel_MonthlyRate"
      ]
    },
    {
      "cell_type": "markdown",
      "metadata": {
        "id": "PE9DblnNNdjI"
      },
      "source": [
        "**What can we interpret from this visual? Please discuss\n",
        "\n",
        "In this boxplot we are visualizing the monthly rate distribution across diffrent job levels, to analyse and figure out which diffrences ther could be\n",
        "\n",
        "The boxplot lets us see pretty easily that there isn't any larger diffrences besides the mean of the monthly rates**"
      ]
    },
    {
      "cell_type": "markdown",
      "metadata": {
        "id": "Vu63lWPbrQag"
      },
      "source": [
        "Is it the same case for the distribution of DailyRate?\n",
        "- **Create another boxplot that shows the distribution of DailyRate across JobLevel**"
      ]
    },
    {
      "cell_type": "code",
      "execution_count": 28,
      "metadata": {
        "id": "cCyYgom9pXh8",
        "colab": {
          "base_uri": "https://localhost:8080/",
          "height": 389
        },
        "outputId": "f593469b-c84c-450b-decb-8e42d0e619a2"
      },
      "outputs": [
        {
          "output_type": "execute_result",
          "data": {
            "text/html": [
              "\n",
              "<div id=\"altair-viz-1fd5394dd9ee4a0d9a6d98b5d53df070\"></div>\n",
              "<script type=\"text/javascript\">\n",
              "  var VEGA_DEBUG = (typeof VEGA_DEBUG == \"undefined\") ? {} : VEGA_DEBUG;\n",
              "  (function(spec, embedOpt){\n",
              "    let outputDiv = document.currentScript.previousElementSibling;\n",
              "    if (outputDiv.id !== \"altair-viz-1fd5394dd9ee4a0d9a6d98b5d53df070\") {\n",
              "      outputDiv = document.getElementById(\"altair-viz-1fd5394dd9ee4a0d9a6d98b5d53df070\");\n",
              "    }\n",
              "    const paths = {\n",
              "      \"vega\": \"https://cdn.jsdelivr.net/npm//vega@5?noext\",\n",
              "      \"vega-lib\": \"https://cdn.jsdelivr.net/npm//vega-lib?noext\",\n",
              "      \"vega-lite\": \"https://cdn.jsdelivr.net/npm//vega-lite@4.17.0?noext\",\n",
              "      \"vega-embed\": \"https://cdn.jsdelivr.net/npm//vega-embed@6?noext\",\n",
              "    };\n",
              "\n",
              "    function maybeLoadScript(lib, version) {\n",
              "      var key = `${lib.replace(\"-\", \"\")}_version`;\n",
              "      return (VEGA_DEBUG[key] == version) ?\n",
              "        Promise.resolve(paths[lib]) :\n",
              "        new Promise(function(resolve, reject) {\n",
              "          var s = document.createElement('script');\n",
              "          document.getElementsByTagName(\"head\")[0].appendChild(s);\n",
              "          s.async = true;\n",
              "          s.onload = () => {\n",
              "            VEGA_DEBUG[key] = version;\n",
              "            return resolve(paths[lib]);\n",
              "          };\n",
              "          s.onerror = () => reject(`Error loading script: ${paths[lib]}`);\n",
              "          s.src = paths[lib];\n",
              "        });\n",
              "    }\n",
              "\n",
              "    function showError(err) {\n",
              "      outputDiv.innerHTML = `<div class=\"error\" style=\"color:red;\">${err}</div>`;\n",
              "      throw err;\n",
              "    }\n",
              "\n",
              "    function displayChart(vegaEmbed) {\n",
              "      vegaEmbed(outputDiv, spec, embedOpt)\n",
              "        .catch(err => showError(`Javascript Error: ${err.message}<br>This usually means there's a typo in your chart specification. See the javascript console for the full traceback.`));\n",
              "    }\n",
              "\n",
              "    if(typeof define === \"function\" && define.amd) {\n",
              "      requirejs.config({paths});\n",
              "      require([\"vega-embed\"], displayChart, err => showError(`Error loading script: ${err.message}`));\n",
              "    } else {\n",
              "      maybeLoadScript(\"vega\", \"5\")\n",
              "        .then(() => maybeLoadScript(\"vega-lite\", \"4.17.0\"))\n",
              "        .then(() => maybeLoadScript(\"vega-embed\", \"6\"))\n",
              "        .catch(showError)\n",
              "        .then(() => displayChart(vegaEmbed));\n",
              "    }\n",
              "  })({\"config\": {\"view\": {\"continuousWidth\": 400, \"continuousHeight\": 300}, \"title\": {\"anchor\": \"start\", \"color\": \"gray\", \"font\": \"Arial\", \"fontSize\": 20}}, \"data\": {\"name\": \"data-3068bf050df95b2ccbab1017eeb759e9\"}, \"mark\": \"boxplot\", \"encoding\": {\"x\": {\"field\": \"JobLevel\", \"type\": \"ordinal\"}, \"y\": {\"field\": \"DailyRate\", \"type\": \"quantitative\"}}, \"height\": 300, \"title\": \"MonthlyRate Distribution by JobLevel\", \"width\": 500, \"$schema\": \"https://vega.github.io/schema/vega-lite/v4.17.0.json\", \"datasets\": {\"data-3068bf050df95b2ccbab1017eeb759e9\": [{\"DailyRate\": 102, \"JobLevel\": 4, \"Count\": 1}, {\"DailyRate\": 103, \"JobLevel\": 1, \"Count\": 1}, {\"DailyRate\": 104, \"JobLevel\": 1, \"Count\": 1}, {\"DailyRate\": 105, \"JobLevel\": 5, \"Count\": 1}, {\"DailyRate\": 106, \"JobLevel\": 2, \"Count\": 1}, {\"DailyRate\": 107, \"JobLevel\": 2, \"Count\": 1}, {\"DailyRate\": 109, \"JobLevel\": 1, \"Count\": 1}, {\"DailyRate\": 111, \"JobLevel\": 1, \"Count\": 1}, {\"DailyRate\": 111, \"JobLevel\": 2, \"Count\": 1}, {\"DailyRate\": 111, \"JobLevel\": 3, \"Count\": 1}, {\"DailyRate\": 115, \"JobLevel\": 2, \"Count\": 1}, {\"DailyRate\": 116, \"JobLevel\": 1, \"Count\": 1}, {\"DailyRate\": 116, \"JobLevel\": 2, \"Count\": 1}, {\"DailyRate\": 117, \"JobLevel\": 1, \"Count\": 1}, {\"DailyRate\": 117, \"JobLevel\": 2, \"Count\": 1}, {\"DailyRate\": 117, \"JobLevel\": 4, \"Count\": 2}, {\"DailyRate\": 118, \"JobLevel\": 2, \"Count\": 2}, {\"DailyRate\": 119, \"JobLevel\": 3, \"Count\": 1}, {\"DailyRate\": 119, \"JobLevel\": 4, \"Count\": 1}, {\"DailyRate\": 120, \"JobLevel\": 1, \"Count\": 1}, {\"DailyRate\": 120, \"JobLevel\": 2, \"Count\": 1}, {\"DailyRate\": 121, \"JobLevel\": 1, \"Count\": 1}, {\"DailyRate\": 121, \"JobLevel\": 3, \"Count\": 1}, {\"DailyRate\": 124, \"JobLevel\": 2, \"Count\": 1}, {\"DailyRate\": 124, \"JobLevel\": 3, \"Count\": 1}, {\"DailyRate\": 125, \"JobLevel\": 1, \"Count\": 1}, {\"DailyRate\": 128, \"JobLevel\": 2, \"Count\": 1}, {\"DailyRate\": 129, \"JobLevel\": 1, \"Count\": 1}, {\"DailyRate\": 130, \"JobLevel\": 1, \"Count\": 1}, {\"DailyRate\": 130, \"JobLevel\": 3, \"Count\": 1}, {\"DailyRate\": 131, \"JobLevel\": 2, \"Count\": 1}, {\"DailyRate\": 132, \"JobLevel\": 1, \"Count\": 1}, {\"DailyRate\": 134, \"JobLevel\": 1, \"Count\": 1}, {\"DailyRate\": 135, \"JobLevel\": 1, \"Count\": 1}, {\"DailyRate\": 135, \"JobLevel\": 2, \"Count\": 2}, {\"DailyRate\": 136, \"JobLevel\": 2, \"Count\": 1}, {\"DailyRate\": 136, \"JobLevel\": 4, \"Count\": 1}, {\"DailyRate\": 138, \"JobLevel\": 1, \"Count\": 1}, {\"DailyRate\": 138, \"JobLevel\": 2, \"Count\": 1}, {\"DailyRate\": 140, \"JobLevel\": 1, \"Count\": 1}, {\"DailyRate\": 141, \"JobLevel\": 2, \"Count\": 2}, {\"DailyRate\": 142, \"JobLevel\": 1, \"Count\": 1}, {\"DailyRate\": 142, \"JobLevel\": 3, \"Count\": 1}, {\"DailyRate\": 142, \"JobLevel\": 4, \"Count\": 1}, {\"DailyRate\": 143, \"JobLevel\": 2, \"Count\": 1}, {\"DailyRate\": 144, \"JobLevel\": 1, \"Count\": 1}, {\"DailyRate\": 144, \"JobLevel\": 2, \"Count\": 1}, {\"DailyRate\": 145, \"JobLevel\": 2, \"Count\": 1}, {\"DailyRate\": 146, \"JobLevel\": 1, \"Count\": 1}, {\"DailyRate\": 147, \"JobLevel\": 1, \"Count\": 2}, {\"DailyRate\": 147, \"JobLevel\": 2, \"Count\": 1}, {\"DailyRate\": 147, \"JobLevel\": 3, \"Count\": 1}, {\"DailyRate\": 148, \"JobLevel\": 1, \"Count\": 1}, {\"DailyRate\": 150, \"JobLevel\": 2, \"Count\": 1}, {\"DailyRate\": 152, \"JobLevel\": 2, \"Count\": 1}, {\"DailyRate\": 153, \"JobLevel\": 2, \"Count\": 1}, {\"DailyRate\": 153, \"JobLevel\": 3, \"Count\": 1}, {\"DailyRate\": 154, \"JobLevel\": 1, \"Count\": 1}, {\"DailyRate\": 155, \"JobLevel\": 2, \"Count\": 2}, {\"DailyRate\": 156, \"JobLevel\": 1, \"Count\": 1}, {\"DailyRate\": 157, \"JobLevel\": 1, \"Count\": 1}, {\"DailyRate\": 157, \"JobLevel\": 2, \"Count\": 1}, {\"DailyRate\": 160, \"JobLevel\": 1, \"Count\": 2}, {\"DailyRate\": 161, \"JobLevel\": 3, \"Count\": 1}, {\"DailyRate\": 163, \"JobLevel\": 2, \"Count\": 2}, {\"DailyRate\": 164, \"JobLevel\": 3, \"Count\": 1}, {\"DailyRate\": 167, \"JobLevel\": 1, \"Count\": 1}, {\"DailyRate\": 167, \"JobLevel\": 2, \"Count\": 1}, {\"DailyRate\": 168, \"JobLevel\": 3, \"Count\": 1}, {\"DailyRate\": 168, \"JobLevel\": 5, \"Count\": 1}, {\"DailyRate\": 170, \"JobLevel\": 2, \"Count\": 2}, {\"DailyRate\": 172, \"JobLevel\": 2, \"Count\": 1}, {\"DailyRate\": 174, \"JobLevel\": 4, \"Count\": 1}, {\"DailyRate\": 176, \"JobLevel\": 3, \"Count\": 1}, {\"DailyRate\": 177, \"JobLevel\": 2, \"Count\": 1}, {\"DailyRate\": 177, \"JobLevel\": 4, \"Count\": 1}, {\"DailyRate\": 179, \"JobLevel\": 2, \"Count\": 1}, {\"DailyRate\": 180, \"JobLevel\": 1, \"Count\": 1}, {\"DailyRate\": 181, \"JobLevel\": 1, \"Count\": 1}, {\"DailyRate\": 182, \"JobLevel\": 1, \"Count\": 1}, {\"DailyRate\": 182, \"JobLevel\": 4, \"Count\": 1}, {\"DailyRate\": 185, \"JobLevel\": 1, \"Count\": 2}, {\"DailyRate\": 188, \"JobLevel\": 1, \"Count\": 1}, {\"DailyRate\": 188, \"JobLevel\": 2, \"Count\": 1}, {\"DailyRate\": 189, \"JobLevel\": 5, \"Count\": 1}, {\"DailyRate\": 192, \"JobLevel\": 1, \"Count\": 3}, {\"DailyRate\": 193, \"JobLevel\": 1, \"Count\": 1}, {\"DailyRate\": 193, \"JobLevel\": 3, \"Count\": 1}, {\"DailyRate\": 194, \"JobLevel\": 2, \"Count\": 1}, {\"DailyRate\": 195, \"JobLevel\": 2, \"Count\": 1}, {\"DailyRate\": 196, \"JobLevel\": 2, \"Count\": 1}, {\"DailyRate\": 199, \"JobLevel\": 1, \"Count\": 1}, {\"DailyRate\": 200, \"JobLevel\": 2, \"Count\": 1}, {\"DailyRate\": 200, \"JobLevel\": 3, \"Count\": 1}, {\"DailyRate\": 201, \"JobLevel\": 1, \"Count\": 2}, {\"DailyRate\": 201, \"JobLevel\": 3, \"Count\": 1}, {\"DailyRate\": 202, \"JobLevel\": 1, \"Count\": 2}, {\"DailyRate\": 202, \"JobLevel\": 4, \"Count\": 1}, {\"DailyRate\": 203, \"JobLevel\": 4, \"Count\": 1}, {\"DailyRate\": 204, \"JobLevel\": 1, \"Count\": 1}, {\"DailyRate\": 205, \"JobLevel\": 2, \"Count\": 1}, {\"DailyRate\": 206, \"JobLevel\": 5, \"Count\": 1}, {\"DailyRate\": 207, \"JobLevel\": 1, \"Count\": 1}, {\"DailyRate\": 208, \"JobLevel\": 2, \"Count\": 1}, {\"DailyRate\": 210, \"JobLevel\": 2, \"Count\": 1}, {\"DailyRate\": 210, \"JobLevel\": 4, \"Count\": 1}, {\"DailyRate\": 211, \"JobLevel\": 3, \"Count\": 1}, {\"DailyRate\": 213, \"JobLevel\": 3, \"Count\": 1}, {\"DailyRate\": 216, \"JobLevel\": 2, \"Count\": 2}, {\"DailyRate\": 216, \"JobLevel\": 3, \"Count\": 1}, {\"DailyRate\": 217, \"JobLevel\": 1, \"Count\": 1}, {\"DailyRate\": 217, \"JobLevel\": 2, \"Count\": 2}, {\"DailyRate\": 217, \"JobLevel\": 4, \"Count\": 1}, {\"DailyRate\": 218, \"JobLevel\": 2, \"Count\": 1}, {\"DailyRate\": 218, \"JobLevel\": 3, \"Count\": 1}, {\"DailyRate\": 219, \"JobLevel\": 2, \"Count\": 1}, {\"DailyRate\": 224, \"JobLevel\": 1, \"Count\": 1}, {\"DailyRate\": 228, \"JobLevel\": 2, \"Count\": 1}, {\"DailyRate\": 228, \"JobLevel\": 4, \"Count\": 1}, {\"DailyRate\": 230, \"JobLevel\": 1, \"Count\": 1}, {\"DailyRate\": 231, \"JobLevel\": 3, \"Count\": 1}, {\"DailyRate\": 232, \"JobLevel\": 2, \"Count\": 1}, {\"DailyRate\": 234, \"JobLevel\": 1, \"Count\": 1}, {\"DailyRate\": 234, \"JobLevel\": 2, \"Count\": 1}, {\"DailyRate\": 237, \"JobLevel\": 5, \"Count\": 1}, {\"DailyRate\": 238, \"JobLevel\": 1, \"Count\": 1}, {\"DailyRate\": 238, \"JobLevel\": 2, \"Count\": 1}, {\"DailyRate\": 240, \"JobLevel\": 1, \"Count\": 1}, {\"DailyRate\": 240, \"JobLevel\": 2, \"Count\": 2}, {\"DailyRate\": 241, \"JobLevel\": 1, \"Count\": 1}, {\"DailyRate\": 243, \"JobLevel\": 2, \"Count\": 1}, {\"DailyRate\": 244, \"JobLevel\": 1, \"Count\": 1}, {\"DailyRate\": 247, \"JobLevel\": 1, \"Count\": 1}, {\"DailyRate\": 247, \"JobLevel\": 5, \"Count\": 1}, {\"DailyRate\": 248, \"JobLevel\": 2, \"Count\": 1}, {\"DailyRate\": 249, \"JobLevel\": 2, \"Count\": 2}, {\"DailyRate\": 251, \"JobLevel\": 1, \"Count\": 1}, {\"DailyRate\": 252, \"JobLevel\": 1, \"Count\": 1}, {\"DailyRate\": 252, \"JobLevel\": 5, \"Count\": 1}, {\"DailyRate\": 253, \"JobLevel\": 1, \"Count\": 1}, {\"DailyRate\": 254, \"JobLevel\": 1, \"Count\": 1}, {\"DailyRate\": 256, \"JobLevel\": 2, \"Count\": 1}, {\"DailyRate\": 258, \"JobLevel\": 1, \"Count\": 1}, {\"DailyRate\": 258, \"JobLevel\": 2, \"Count\": 1}, {\"DailyRate\": 261, \"JobLevel\": 2, \"Count\": 1}, {\"DailyRate\": 263, \"JobLevel\": 1, \"Count\": 1}, {\"DailyRate\": 264, \"JobLevel\": 5, \"Count\": 1}, {\"DailyRate\": 265, \"JobLevel\": 1, \"Count\": 1}, {\"DailyRate\": 265, \"JobLevel\": 2, \"Count\": 1}, {\"DailyRate\": 265, \"JobLevel\": 5, \"Count\": 1}, {\"DailyRate\": 266, \"JobLevel\": 1, \"Count\": 1}, {\"DailyRate\": 266, \"JobLevel\": 5, \"Count\": 1}, {\"DailyRate\": 267, \"JobLevel\": 1, \"Count\": 2}, {\"DailyRate\": 267, \"JobLevel\": 2, \"Count\": 1}, {\"DailyRate\": 267, \"JobLevel\": 4, \"Count\": 1}, {\"DailyRate\": 268, \"JobLevel\": 1, \"Count\": 1}, {\"DailyRate\": 269, \"JobLevel\": 1, \"Count\": 1}, {\"DailyRate\": 269, \"JobLevel\": 3, \"Count\": 1}, {\"DailyRate\": 271, \"JobLevel\": 2, \"Count\": 1}, {\"DailyRate\": 277, \"JobLevel\": 2, \"Count\": 1}, {\"DailyRate\": 279, \"JobLevel\": 2, \"Count\": 1}, {\"DailyRate\": 280, \"JobLevel\": 1, \"Count\": 1}, {\"DailyRate\": 282, \"JobLevel\": 5, \"Count\": 1}, {\"DailyRate\": 285, \"JobLevel\": 2, \"Count\": 1}, {\"DailyRate\": 286, \"JobLevel\": 5, \"Count\": 1}, {\"DailyRate\": 287, \"JobLevel\": 1, \"Count\": 2}, {\"DailyRate\": 288, \"JobLevel\": 2, \"Count\": 1}, {\"DailyRate\": 288, \"JobLevel\": 3, \"Count\": 1}, {\"DailyRate\": 289, \"JobLevel\": 1, \"Count\": 2}, {\"DailyRate\": 290, \"JobLevel\": 1, \"Count\": 1}, {\"DailyRate\": 294, \"JobLevel\": 3, \"Count\": 1}, {\"DailyRate\": 296, \"JobLevel\": 1, \"Count\": 1}, {\"DailyRate\": 299, \"JobLevel\": 3, \"Count\": 1}, {\"DailyRate\": 300, \"JobLevel\": 1, \"Count\": 1}, {\"DailyRate\": 300, \"JobLevel\": 2, \"Count\": 1}, {\"DailyRate\": 300, \"JobLevel\": 5, \"Count\": 1}, {\"DailyRate\": 301, \"JobLevel\": 2, \"Count\": 1}, {\"DailyRate\": 301, \"JobLevel\": 4, \"Count\": 1}, {\"DailyRate\": 302, \"JobLevel\": 4, \"Count\": 1}, {\"DailyRate\": 303, \"JobLevel\": 1, \"Count\": 2}, {\"DailyRate\": 303, \"JobLevel\": 2, \"Count\": 1}, {\"DailyRate\": 304, \"JobLevel\": 2, \"Count\": 2}, {\"DailyRate\": 305, \"JobLevel\": 2, \"Count\": 1}, {\"DailyRate\": 306, \"JobLevel\": 2, \"Count\": 1}, {\"DailyRate\": 307, \"JobLevel\": 1, \"Count\": 1}, {\"DailyRate\": 309, \"JobLevel\": 1, \"Count\": 1}, {\"DailyRate\": 309, \"JobLevel\": 2, \"Count\": 1}, {\"DailyRate\": 310, \"JobLevel\": 1, \"Count\": 2}, {\"DailyRate\": 311, \"JobLevel\": 1, \"Count\": 1}, {\"DailyRate\": 311, \"JobLevel\": 2, \"Count\": 1}, {\"DailyRate\": 313, \"JobLevel\": 1, \"Count\": 1}, {\"DailyRate\": 313, \"JobLevel\": 4, \"Count\": 1}, {\"DailyRate\": 314, \"JobLevel\": 5, \"Count\": 1}, {\"DailyRate\": 316, \"JobLevel\": 1, \"Count\": 1}, {\"DailyRate\": 317, \"JobLevel\": 2, \"Count\": 1}, {\"DailyRate\": 318, \"JobLevel\": 1, \"Count\": 2}, {\"DailyRate\": 319, \"JobLevel\": 1, \"Count\": 1}, {\"DailyRate\": 319, \"JobLevel\": 3, \"Count\": 2}, {\"DailyRate\": 322, \"JobLevel\": 2, \"Count\": 1}, {\"DailyRate\": 322, \"JobLevel\": 4, \"Count\": 1}, {\"DailyRate\": 325, \"JobLevel\": 2, \"Count\": 1}, {\"DailyRate\": 325, \"JobLevel\": 3, \"Count\": 1}, {\"DailyRate\": 326, \"JobLevel\": 2, \"Count\": 1}, {\"DailyRate\": 326, \"JobLevel\": 3, \"Count\": 1}, {\"DailyRate\": 328, \"JobLevel\": 1, \"Count\": 1}, {\"DailyRate\": 329, \"JobLevel\": 1, \"Count\": 4}, {\"DailyRate\": 329, \"JobLevel\": 2, \"Count\": 1}, {\"DailyRate\": 330, \"JobLevel\": 1, \"Count\": 1}, {\"DailyRate\": 330, \"JobLevel\": 2, \"Count\": 1}, {\"DailyRate\": 330, \"JobLevel\": 3, \"Count\": 1}, {\"DailyRate\": 332, \"JobLevel\": 3, \"Count\": 1}, {\"DailyRate\": 333, \"JobLevel\": 4, \"Count\": 1}, {\"DailyRate\": 334, \"JobLevel\": 1, \"Count\": 1}, {\"DailyRate\": 334, \"JobLevel\": 2, \"Count\": 1}, {\"DailyRate\": 334, \"JobLevel\": 3, \"Count\": 1}, {\"DailyRate\": 334, \"JobLevel\": 4, \"Count\": 1}, {\"DailyRate\": 335, \"JobLevel\": 1, \"Count\": 1}, {\"DailyRate\": 335, \"JobLevel\": 2, \"Count\": 2}, {\"DailyRate\": 336, \"JobLevel\": 2, \"Count\": 1}, {\"DailyRate\": 337, \"JobLevel\": 1, \"Count\": 1}, {\"DailyRate\": 337, \"JobLevel\": 2, \"Count\": 1}, {\"DailyRate\": 337, \"JobLevel\": 3, \"Count\": 1}, {\"DailyRate\": 341, \"JobLevel\": 1, \"Count\": 1}, {\"DailyRate\": 342, \"JobLevel\": 1, \"Count\": 1}, {\"DailyRate\": 342, \"JobLevel\": 2, \"Count\": 1}, {\"DailyRate\": 343, \"JobLevel\": 1, \"Count\": 1}, {\"DailyRate\": 343, \"JobLevel\": 3, \"Count\": 1}, {\"DailyRate\": 345, \"JobLevel\": 2, \"Count\": 1}, {\"DailyRate\": 346, \"JobLevel\": 2, \"Count\": 1}, {\"DailyRate\": 350, \"JobLevel\": 1, \"Count\": 3}, {\"DailyRate\": 350, \"JobLevel\": 4, \"Count\": 1}, {\"DailyRate\": 352, \"JobLevel\": 1, \"Count\": 1}, {\"DailyRate\": 355, \"JobLevel\": 1, \"Count\": 1}, {\"DailyRate\": 359, \"JobLevel\": 1, \"Count\": 1}, {\"DailyRate\": 359, \"JobLevel\": 4, \"Count\": 1}, {\"DailyRate\": 360, \"JobLevel\": 1, \"Count\": 1}, {\"DailyRate\": 362, \"JobLevel\": 1, \"Count\": 1}, {\"DailyRate\": 363, \"JobLevel\": 3, \"Count\": 1}, {\"DailyRate\": 364, \"JobLevel\": 2, \"Count\": 1}, {\"DailyRate\": 364, \"JobLevel\": 5, \"Count\": 1}, {\"DailyRate\": 365, \"JobLevel\": 4, \"Count\": 1}, {\"DailyRate\": 367, \"JobLevel\": 2, \"Count\": 1}, {\"DailyRate\": 369, \"JobLevel\": 2, \"Count\": 1}, {\"DailyRate\": 370, \"JobLevel\": 2, \"Count\": 1}, {\"DailyRate\": 370, \"JobLevel\": 3, \"Count\": 1}, {\"DailyRate\": 371, \"JobLevel\": 1, \"Count\": 1}, {\"DailyRate\": 371, \"JobLevel\": 3, \"Count\": 1}, {\"DailyRate\": 373, \"JobLevel\": 1, \"Count\": 1}, {\"DailyRate\": 374, \"JobLevel\": 1, \"Count\": 1}, {\"DailyRate\": 374, \"JobLevel\": 2, \"Count\": 1}, {\"DailyRate\": 376, \"JobLevel\": 2, \"Count\": 1}, {\"DailyRate\": 377, \"JobLevel\": 3, \"Count\": 1}, {\"DailyRate\": 379, \"JobLevel\": 2, \"Count\": 1}, {\"DailyRate\": 381, \"JobLevel\": 1, \"Count\": 2}, {\"DailyRate\": 383, \"JobLevel\": 1, \"Count\": 1}, {\"DailyRate\": 383, \"JobLevel\": 2, \"Count\": 1}, {\"DailyRate\": 384, \"JobLevel\": 1, \"Count\": 1}, {\"DailyRate\": 390, \"JobLevel\": 1, \"Count\": 1}, {\"DailyRate\": 390, \"JobLevel\": 2, \"Count\": 1}, {\"DailyRate\": 391, \"JobLevel\": 1, \"Count\": 2}, {\"DailyRate\": 392, \"JobLevel\": 2, \"Count\": 1}, {\"DailyRate\": 394, \"JobLevel\": 4, \"Count\": 1}, {\"DailyRate\": 395, \"JobLevel\": 1, \"Count\": 1}, {\"DailyRate\": 397, \"JobLevel\": 3, \"Count\": 3}, {\"DailyRate\": 401, \"JobLevel\": 1, \"Count\": 1}, {\"DailyRate\": 404, \"JobLevel\": 2, \"Count\": 1}, {\"DailyRate\": 405, \"JobLevel\": 2, \"Count\": 1}, {\"DailyRate\": 406, \"JobLevel\": 4, \"Count\": 1}, {\"DailyRate\": 408, \"JobLevel\": 1, \"Count\": 3}, {\"DailyRate\": 408, \"JobLevel\": 2, \"Count\": 1}, {\"DailyRate\": 408, \"JobLevel\": 3, \"Count\": 1}, {\"DailyRate\": 410, \"JobLevel\": 1, \"Count\": 1}, {\"DailyRate\": 410, \"JobLevel\": 3, \"Count\": 1}, {\"DailyRate\": 412, \"JobLevel\": 4, \"Count\": 1}, {\"DailyRate\": 413, \"JobLevel\": 1, \"Count\": 1}, {\"DailyRate\": 414, \"JobLevel\": 2, \"Count\": 1}, {\"DailyRate\": 415, \"JobLevel\": 3, \"Count\": 1}, {\"DailyRate\": 419, \"JobLevel\": 1, \"Count\": 1}, {\"DailyRate\": 419, \"JobLevel\": 2, \"Count\": 1}, {\"DailyRate\": 419, \"JobLevel\": 3, \"Count\": 1}, {\"DailyRate\": 422, \"JobLevel\": 2, \"Count\": 1}, {\"DailyRate\": 422, \"JobLevel\": 5, \"Count\": 1}, {\"DailyRate\": 426, \"JobLevel\": 1, \"Count\": 1}, {\"DailyRate\": 426, \"JobLevel\": 2, \"Count\": 1}, {\"DailyRate\": 427, \"JobLevel\": 1, \"Count\": 1}, {\"DailyRate\": 427, \"JobLevel\": 2, \"Count\": 1}, {\"DailyRate\": 427, \"JobLevel\": 3, \"Count\": 1}, {\"DailyRate\": 427, \"JobLevel\": 5, \"Count\": 1}, {\"DailyRate\": 428, \"JobLevel\": 1, \"Count\": 1}, {\"DailyRate\": 429, \"JobLevel\": 1, \"Count\": 1}, {\"DailyRate\": 429, \"JobLevel\": 2, \"Count\": 1}, {\"DailyRate\": 430, \"JobLevel\": 2, \"Count\": 3}, {\"DailyRate\": 430, \"JobLevel\": 5, \"Count\": 1}, {\"DailyRate\": 431, \"JobLevel\": 2, \"Count\": 1}, {\"DailyRate\": 432, \"JobLevel\": 1, \"Count\": 1}, {\"DailyRate\": 433, \"JobLevel\": 1, \"Count\": 1}, {\"DailyRate\": 436, \"JobLevel\": 2, \"Count\": 1}, {\"DailyRate\": 437, \"JobLevel\": 2, \"Count\": 1}, {\"DailyRate\": 438, \"JobLevel\": 1, \"Count\": 1}, {\"DailyRate\": 439, \"JobLevel\": 2, \"Count\": 1}, {\"DailyRate\": 440, \"JobLevel\": 1, \"Count\": 1}, {\"DailyRate\": 441, \"JobLevel\": 1, \"Count\": 1}, {\"DailyRate\": 441, \"JobLevel\": 2, \"Count\": 1}, {\"DailyRate\": 442, \"JobLevel\": 2, \"Count\": 1}, {\"DailyRate\": 443, \"JobLevel\": 1, \"Count\": 2}, {\"DailyRate\": 444, \"JobLevel\": 1, \"Count\": 1}, {\"DailyRate\": 444, \"JobLevel\": 2, \"Count\": 1}, {\"DailyRate\": 444, \"JobLevel\": 4, \"Count\": 1}, {\"DailyRate\": 446, \"JobLevel\": 2, \"Count\": 1}, {\"DailyRate\": 447, \"JobLevel\": 2, \"Count\": 1}, {\"DailyRate\": 447, \"JobLevel\": 4, \"Count\": 1}, {\"DailyRate\": 448, \"JobLevel\": 1, \"Count\": 1}, {\"DailyRate\": 448, \"JobLevel\": 3, \"Count\": 1}, {\"DailyRate\": 452, \"JobLevel\": 5, \"Count\": 1}, {\"DailyRate\": 457, \"JobLevel\": 1, \"Count\": 1}, {\"DailyRate\": 458, \"JobLevel\": 1, \"Count\": 1}, {\"DailyRate\": 458, \"JobLevel\": 3, \"Count\": 1}, {\"DailyRate\": 459, \"JobLevel\": 1, \"Count\": 1}, {\"DailyRate\": 461, \"JobLevel\": 1, \"Count\": 1}, {\"DailyRate\": 461, \"JobLevel\": 2, \"Count\": 1}, {\"DailyRate\": 462, \"JobLevel\": 2, \"Count\": 1}, {\"DailyRate\": 464, \"JobLevel\": 1, \"Count\": 3}, {\"DailyRate\": 465, \"JobLevel\": 1, \"Count\": 3}, {\"DailyRate\": 465, \"JobLevel\": 4, \"Count\": 1}, {\"DailyRate\": 466, \"JobLevel\": 4, \"Count\": 1}, {\"DailyRate\": 467, \"JobLevel\": 2, \"Count\": 1}, {\"DailyRate\": 468, \"JobLevel\": 1, \"Count\": 1}, {\"DailyRate\": 469, \"JobLevel\": 1, \"Count\": 1}, {\"DailyRate\": 469, \"JobLevel\": 2, \"Count\": 1}, {\"DailyRate\": 469, \"JobLevel\": 4, \"Count\": 1}, {\"DailyRate\": 470, \"JobLevel\": 2, \"Count\": 2}, {\"DailyRate\": 471, \"JobLevel\": 1, \"Count\": 2}, {\"DailyRate\": 471, \"JobLevel\": 2, \"Count\": 1}, {\"DailyRate\": 472, \"JobLevel\": 2, \"Count\": 1}, {\"DailyRate\": 474, \"JobLevel\": 1, \"Count\": 1}, {\"DailyRate\": 477, \"JobLevel\": 1, \"Count\": 1}, {\"DailyRate\": 477, \"JobLevel\": 3, \"Count\": 1}, {\"DailyRate\": 478, \"JobLevel\": 5, \"Count\": 1}, {\"DailyRate\": 479, \"JobLevel\": 1, \"Count\": 1}, {\"DailyRate\": 480, \"JobLevel\": 2, \"Count\": 1}, {\"DailyRate\": 481, \"JobLevel\": 4, \"Count\": 1}, {\"DailyRate\": 482, \"JobLevel\": 1, \"Count\": 1}, {\"DailyRate\": 482, \"JobLevel\": 2, \"Count\": 1}, {\"DailyRate\": 482, \"JobLevel\": 3, \"Count\": 1}, {\"DailyRate\": 483, \"JobLevel\": 2, \"Count\": 1}, {\"DailyRate\": 486, \"JobLevel\": 1, \"Count\": 1}, {\"DailyRate\": 488, \"JobLevel\": 4, \"Count\": 1}, {\"DailyRate\": 489, \"JobLevel\": 1, \"Count\": 1}, {\"DailyRate\": 489, \"JobLevel\": 2, \"Count\": 1}, {\"DailyRate\": 490, \"JobLevel\": 1, \"Count\": 1}, {\"DailyRate\": 492, \"JobLevel\": 2, \"Count\": 2}, {\"DailyRate\": 495, \"JobLevel\": 3, \"Count\": 1}, {\"DailyRate\": 495, \"JobLevel\": 4, \"Count\": 1}, {\"DailyRate\": 496, \"JobLevel\": 2, \"Count\": 1}, {\"DailyRate\": 498, \"JobLevel\": 2, \"Count\": 1}, {\"DailyRate\": 499, \"JobLevel\": 2, \"Count\": 1}, {\"DailyRate\": 500, \"JobLevel\": 1, \"Count\": 1}, {\"DailyRate\": 501, \"JobLevel\": 1, \"Count\": 1}, {\"DailyRate\": 501, \"JobLevel\": 2, \"Count\": 2}, {\"DailyRate\": 504, \"JobLevel\": 1, \"Count\": 1}, {\"DailyRate\": 504, \"JobLevel\": 3, \"Count\": 1}, {\"DailyRate\": 505, \"JobLevel\": 3, \"Count\": 1}, {\"DailyRate\": 506, \"JobLevel\": 1, \"Count\": 1}, {\"DailyRate\": 506, \"JobLevel\": 2, \"Count\": 1}, {\"DailyRate\": 507, \"JobLevel\": 2, \"Count\": 2}, {\"DailyRate\": 508, \"JobLevel\": 2, \"Count\": 2}, {\"DailyRate\": 509, \"JobLevel\": 1, \"Count\": 1}, {\"DailyRate\": 509, \"JobLevel\": 2, \"Count\": 1}, {\"DailyRate\": 511, \"JobLevel\": 2, \"Count\": 2}, {\"DailyRate\": 515, \"JobLevel\": 1, \"Count\": 1}, {\"DailyRate\": 515, \"JobLevel\": 3, \"Count\": 1}, {\"DailyRate\": 516, \"JobLevel\": 2, \"Count\": 1}, {\"DailyRate\": 523, \"JobLevel\": 1, \"Count\": 1}, {\"DailyRate\": 523, \"JobLevel\": 2, \"Count\": 1}, {\"DailyRate\": 524, \"JobLevel\": 2, \"Count\": 1}, {\"DailyRate\": 525, \"JobLevel\": 2, \"Count\": 1}, {\"DailyRate\": 526, \"JobLevel\": 3, \"Count\": 1}, {\"DailyRate\": 527, \"JobLevel\": 1, \"Count\": 1}, {\"DailyRate\": 527, \"JobLevel\": 3, \"Count\": 1}, {\"DailyRate\": 528, \"JobLevel\": 1, \"Count\": 3}, {\"DailyRate\": 529, \"JobLevel\": 1, \"Count\": 2}, {\"DailyRate\": 530, \"JobLevel\": 2, \"Count\": 2}, {\"DailyRate\": 530, \"JobLevel\": 3, \"Count\": 2}, {\"DailyRate\": 530, \"JobLevel\": 4, \"Count\": 1}, {\"DailyRate\": 531, \"JobLevel\": 3, \"Count\": 1}, {\"DailyRate\": 532, \"JobLevel\": 2, \"Count\": 1}, {\"DailyRate\": 532, \"JobLevel\": 5, \"Count\": 1}, {\"DailyRate\": 534, \"JobLevel\": 1, \"Count\": 1}, {\"DailyRate\": 534, \"JobLevel\": 3, \"Count\": 1}, {\"DailyRate\": 535, \"JobLevel\": 1, \"Count\": 1}, {\"DailyRate\": 536, \"JobLevel\": 3, \"Count\": 1}, {\"DailyRate\": 538, \"JobLevel\": 2, \"Count\": 1}, {\"DailyRate\": 538, \"JobLevel\": 3, \"Count\": 1}, {\"DailyRate\": 541, \"JobLevel\": 1, \"Count\": 1}, {\"DailyRate\": 541, \"JobLevel\": 3, \"Count\": 2}, {\"DailyRate\": 542, \"JobLevel\": 2, \"Count\": 1}, {\"DailyRate\": 543, \"JobLevel\": 1, \"Count\": 1}, {\"DailyRate\": 543, \"JobLevel\": 2, \"Count\": 1}, {\"DailyRate\": 544, \"JobLevel\": 1, \"Count\": 2}, {\"DailyRate\": 546, \"JobLevel\": 1, \"Count\": 2}, {\"DailyRate\": 548, \"JobLevel\": 1, \"Count\": 1}, {\"DailyRate\": 548, \"JobLevel\": 2, \"Count\": 2}, {\"DailyRate\": 549, \"JobLevel\": 2, \"Count\": 2}, {\"DailyRate\": 552, \"JobLevel\": 2, \"Count\": 1}, {\"DailyRate\": 553, \"JobLevel\": 3, \"Count\": 1}, {\"DailyRate\": 555, \"JobLevel\": 2, \"Count\": 1}, {\"DailyRate\": 555, \"JobLevel\": 4, \"Count\": 1}, {\"DailyRate\": 556, \"JobLevel\": 2, \"Count\": 2}, {\"DailyRate\": 557, \"JobLevel\": 2, \"Count\": 1}, {\"DailyRate\": 557, \"JobLevel\": 3, \"Count\": 1}, {\"DailyRate\": 558, \"JobLevel\": 2, \"Count\": 1}, {\"DailyRate\": 559, \"JobLevel\": 2, \"Count\": 2}, {\"DailyRate\": 560, \"JobLevel\": 1, \"Count\": 1}, {\"DailyRate\": 561, \"JobLevel\": 1, \"Count\": 1}, {\"DailyRate\": 561, \"JobLevel\": 2, \"Count\": 1}, {\"DailyRate\": 562, \"JobLevel\": 2, \"Count\": 1}, {\"DailyRate\": 563, \"JobLevel\": 4, \"Count\": 1}, {\"DailyRate\": 566, \"JobLevel\": 1, \"Count\": 1}, {\"DailyRate\": 566, \"JobLevel\": 3, \"Count\": 1}, {\"DailyRate\": 567, \"JobLevel\": 1, \"Count\": 1}, {\"DailyRate\": 570, \"JobLevel\": 2, \"Count\": 1}, {\"DailyRate\": 570, \"JobLevel\": 5, \"Count\": 1}, {\"DailyRate\": 571, \"JobLevel\": 1, \"Count\": 2}, {\"DailyRate\": 571, \"JobLevel\": 2, \"Count\": 1}, {\"DailyRate\": 572, \"JobLevel\": 2, \"Count\": 1}, {\"DailyRate\": 573, \"JobLevel\": 2, \"Count\": 1}, {\"DailyRate\": 574, \"JobLevel\": 1, \"Count\": 1}, {\"DailyRate\": 574, \"JobLevel\": 3, \"Count\": 1}, {\"DailyRate\": 575, \"JobLevel\": 1, \"Count\": 2}, {\"DailyRate\": 575, \"JobLevel\": 2, \"Count\": 2}, {\"DailyRate\": 580, \"JobLevel\": 2, \"Count\": 1}, {\"DailyRate\": 580, \"JobLevel\": 3, \"Count\": 1}, {\"DailyRate\": 581, \"JobLevel\": 1, \"Count\": 2}, {\"DailyRate\": 582, \"JobLevel\": 4, \"Count\": 1}, {\"DailyRate\": 583, \"JobLevel\": 1, \"Count\": 1}, {\"DailyRate\": 583, \"JobLevel\": 2, \"Count\": 1}, {\"DailyRate\": 583, \"JobLevel\": 3, \"Count\": 1}, {\"DailyRate\": 584, \"JobLevel\": 4, \"Count\": 1}, {\"DailyRate\": 585, \"JobLevel\": 1, \"Count\": 2}, {\"DailyRate\": 586, \"JobLevel\": 2, \"Count\": 1}, {\"DailyRate\": 587, \"JobLevel\": 1, \"Count\": 1}, {\"DailyRate\": 587, \"JobLevel\": 3, \"Count\": 1}, {\"DailyRate\": 588, \"JobLevel\": 2, \"Count\": 1}, {\"DailyRate\": 589, \"JobLevel\": 2, \"Count\": 3}, {\"DailyRate\": 589, \"JobLevel\": 4, \"Count\": 1}, {\"DailyRate\": 590, \"JobLevel\": 1, \"Count\": 1}, {\"DailyRate\": 591, \"JobLevel\": 1, \"Count\": 2}, {\"DailyRate\": 592, \"JobLevel\": 1, \"Count\": 2}, {\"DailyRate\": 593, \"JobLevel\": 2, \"Count\": 1}, {\"DailyRate\": 593, \"JobLevel\": 3, \"Count\": 1}, {\"DailyRate\": 594, \"JobLevel\": 1, \"Count\": 2}, {\"DailyRate\": 598, \"JobLevel\": 1, \"Count\": 1}, {\"DailyRate\": 599, \"JobLevel\": 1, \"Count\": 1}, {\"DailyRate\": 600, \"JobLevel\": 1, \"Count\": 1}, {\"DailyRate\": 601, \"JobLevel\": 2, \"Count\": 1}, {\"DailyRate\": 601, \"JobLevel\": 3, \"Count\": 1}, {\"DailyRate\": 602, \"JobLevel\": 1, \"Count\": 1}, {\"DailyRate\": 602, \"JobLevel\": 2, \"Count\": 1}, {\"DailyRate\": 603, \"JobLevel\": 2, \"Count\": 2}, {\"DailyRate\": 604, \"JobLevel\": 1, \"Count\": 1}, {\"DailyRate\": 604, \"JobLevel\": 2, \"Count\": 1}, {\"DailyRate\": 605, \"JobLevel\": 4, \"Count\": 1}, {\"DailyRate\": 607, \"JobLevel\": 2, \"Count\": 1}, {\"DailyRate\": 607, \"JobLevel\": 3, \"Count\": 2}, {\"DailyRate\": 608, \"JobLevel\": 3, \"Count\": 1}, {\"DailyRate\": 611, \"JobLevel\": 5, \"Count\": 1}, {\"DailyRate\": 613, \"JobLevel\": 3, \"Count\": 1}, {\"DailyRate\": 616, \"JobLevel\": 1, \"Count\": 1}, {\"DailyRate\": 616, \"JobLevel\": 2, \"Count\": 1}, {\"DailyRate\": 617, \"JobLevel\": 2, \"Count\": 1}, {\"DailyRate\": 618, \"JobLevel\": 1, \"Count\": 1}, {\"DailyRate\": 618, \"JobLevel\": 2, \"Count\": 1}, {\"DailyRate\": 619, \"JobLevel\": 2, \"Count\": 1}, {\"DailyRate\": 621, \"JobLevel\": 3, \"Count\": 1}, {\"DailyRate\": 621, \"JobLevel\": 4, \"Count\": 1}, {\"DailyRate\": 622, \"JobLevel\": 1, \"Count\": 2}, {\"DailyRate\": 622, \"JobLevel\": 2, \"Count\": 1}, {\"DailyRate\": 625, \"JobLevel\": 2, \"Count\": 1}, {\"DailyRate\": 625, \"JobLevel\": 3, \"Count\": 1}, {\"DailyRate\": 626, \"JobLevel\": 3, \"Count\": 1}, {\"DailyRate\": 628, \"JobLevel\": 2, \"Count\": 1}, {\"DailyRate\": 629, \"JobLevel\": 1, \"Count\": 1}, {\"DailyRate\": 630, \"JobLevel\": 3, \"Count\": 1}, {\"DailyRate\": 632, \"JobLevel\": 2, \"Count\": 1}, {\"DailyRate\": 634, \"JobLevel\": 1, \"Count\": 1}, {\"DailyRate\": 634, \"JobLevel\": 3, \"Count\": 1}, {\"DailyRate\": 635, \"JobLevel\": 1, \"Count\": 1}, {\"DailyRate\": 635, \"JobLevel\": 2, \"Count\": 1}, {\"DailyRate\": 635, \"JobLevel\": 3, \"Count\": 1}, {\"DailyRate\": 636, \"JobLevel\": 1, \"Count\": 1}, {\"DailyRate\": 636, \"JobLevel\": 5, \"Count\": 1}, {\"DailyRate\": 638, \"JobLevel\": 1, \"Count\": 1}, {\"DailyRate\": 638, \"JobLevel\": 2, \"Count\": 1}, {\"DailyRate\": 638, \"JobLevel\": 3, \"Count\": 1}, {\"DailyRate\": 640, \"JobLevel\": 1, \"Count\": 1}, {\"DailyRate\": 641, \"JobLevel\": 2, \"Count\": 1}, {\"DailyRate\": 642, \"JobLevel\": 1, \"Count\": 1}, {\"DailyRate\": 644, \"JobLevel\": 3, \"Count\": 1}, {\"DailyRate\": 645, \"JobLevel\": 1, \"Count\": 1}, {\"DailyRate\": 645, \"JobLevel\": 3, \"Count\": 1}, {\"DailyRate\": 646, \"JobLevel\": 2, \"Count\": 1}, {\"DailyRate\": 647, \"JobLevel\": 2, \"Count\": 1}, {\"DailyRate\": 648, \"JobLevel\": 2, \"Count\": 1}, {\"DailyRate\": 650, \"JobLevel\": 1, \"Count\": 1}, {\"DailyRate\": 652, \"JobLevel\": 1, \"Count\": 1}, {\"DailyRate\": 653, \"JobLevel\": 2, \"Count\": 2}, {\"DailyRate\": 654, \"JobLevel\": 1, \"Count\": 2}, {\"DailyRate\": 654, \"JobLevel\": 3, \"Count\": 1}, {\"DailyRate\": 655, \"JobLevel\": 2, \"Count\": 1}, {\"DailyRate\": 657, \"JobLevel\": 2, \"Count\": 1}, {\"DailyRate\": 658, \"JobLevel\": 2, \"Count\": 1}, {\"DailyRate\": 658, \"JobLevel\": 3, \"Count\": 1}, {\"DailyRate\": 660, \"JobLevel\": 1, \"Count\": 1}, {\"DailyRate\": 660, \"JobLevel\": 2, \"Count\": 1}, {\"DailyRate\": 661, \"JobLevel\": 1, \"Count\": 1}, {\"DailyRate\": 661, \"JobLevel\": 3, \"Count\": 1}, {\"DailyRate\": 661, \"JobLevel\": 4, \"Count\": 1}, {\"DailyRate\": 662, \"JobLevel\": 2, \"Count\": 1}, {\"DailyRate\": 662, \"JobLevel\": 3, \"Count\": 1}, {\"DailyRate\": 663, \"JobLevel\": 2, \"Count\": 1}, {\"DailyRate\": 663, \"JobLevel\": 3, \"Count\": 1}, {\"DailyRate\": 664, \"JobLevel\": 1, \"Count\": 1}, {\"DailyRate\": 665, \"JobLevel\": 1, \"Count\": 1}, {\"DailyRate\": 665, \"JobLevel\": 2, \"Count\": 1}, {\"DailyRate\": 666, \"JobLevel\": 3, \"Count\": 1}, {\"DailyRate\": 667, \"JobLevel\": 1, \"Count\": 1}, {\"DailyRate\": 667, \"JobLevel\": 2, \"Count\": 1}, {\"DailyRate\": 669, \"JobLevel\": 2, \"Count\": 1}, {\"DailyRate\": 669, \"JobLevel\": 3, \"Count\": 1}, {\"DailyRate\": 670, \"JobLevel\": 1, \"Count\": 1}, {\"DailyRate\": 670, \"JobLevel\": 2, \"Count\": 1}, {\"DailyRate\": 671, \"JobLevel\": 2, \"Count\": 1}, {\"DailyRate\": 672, \"JobLevel\": 3, \"Count\": 1}, {\"DailyRate\": 672, \"JobLevel\": 5, \"Count\": 1}, {\"DailyRate\": 673, \"JobLevel\": 2, \"Count\": 1}, {\"DailyRate\": 674, \"JobLevel\": 2, \"Count\": 1}, {\"DailyRate\": 675, \"JobLevel\": 2, \"Count\": 1}, {\"DailyRate\": 676, \"JobLevel\": 1, \"Count\": 1}, {\"DailyRate\": 676, \"JobLevel\": 2, \"Count\": 1}, {\"DailyRate\": 678, \"JobLevel\": 1, \"Count\": 1}, {\"DailyRate\": 682, \"JobLevel\": 2, \"Count\": 1}, {\"DailyRate\": 682, \"JobLevel\": 4, \"Count\": 1}, {\"DailyRate\": 683, \"JobLevel\": 1, \"Count\": 1}, {\"DailyRate\": 684, \"JobLevel\": 5, \"Count\": 1}, {\"DailyRate\": 685, \"JobLevel\": 2, \"Count\": 1}, {\"DailyRate\": 685, \"JobLevel\": 4, \"Count\": 1}, {\"DailyRate\": 685, \"JobLevel\": 5, \"Count\": 1}, {\"DailyRate\": 688, \"JobLevel\": 1, \"Count\": 1}, {\"DailyRate\": 688, \"JobLevel\": 2, \"Count\": 2}, {\"DailyRate\": 688, \"JobLevel\": 3, \"Count\": 1}, {\"DailyRate\": 689, \"JobLevel\": 2, \"Count\": 1}, {\"DailyRate\": 691, \"JobLevel\": 1, \"Count\": 3}, {\"DailyRate\": 691, \"JobLevel\": 2, \"Count\": 2}, {\"DailyRate\": 691, \"JobLevel\": 4, \"Count\": 1}, {\"DailyRate\": 692, \"JobLevel\": 2, \"Count\": 1}, {\"DailyRate\": 692, \"JobLevel\": 5, \"Count\": 1}, {\"DailyRate\": 693, \"JobLevel\": 1, \"Count\": 1}, {\"DailyRate\": 693, \"JobLevel\": 2, \"Count\": 1}, {\"DailyRate\": 694, \"JobLevel\": 4, \"Count\": 1}, {\"DailyRate\": 696, \"JobLevel\": 2, \"Count\": 1}, {\"DailyRate\": 697, \"JobLevel\": 1, \"Count\": 1}, {\"DailyRate\": 697, \"JobLevel\": 3, \"Count\": 1}, {\"DailyRate\": 699, \"JobLevel\": 1, \"Count\": 1}, {\"DailyRate\": 699, \"JobLevel\": 5, \"Count\": 1}, {\"DailyRate\": 702, \"JobLevel\": 1, \"Count\": 1}, {\"DailyRate\": 702, \"JobLevel\": 2, \"Count\": 1}, {\"DailyRate\": 703, \"JobLevel\": 1, \"Count\": 1}, {\"DailyRate\": 703, \"JobLevel\": 2, \"Count\": 2}, {\"DailyRate\": 704, \"JobLevel\": 2, \"Count\": 1}, {\"DailyRate\": 705, \"JobLevel\": 5, \"Count\": 1}, {\"DailyRate\": 706, \"JobLevel\": 3, \"Count\": 1}, {\"DailyRate\": 708, \"JobLevel\": 1, \"Count\": 1}, {\"DailyRate\": 711, \"JobLevel\": 2, \"Count\": 1}, {\"DailyRate\": 711, \"JobLevel\": 3, \"Count\": 1}, {\"DailyRate\": 713, \"JobLevel\": 1, \"Count\": 1}, {\"DailyRate\": 715, \"JobLevel\": 1, \"Count\": 1}, {\"DailyRate\": 715, \"JobLevel\": 2, \"Count\": 1}, {\"DailyRate\": 715, \"JobLevel\": 4, \"Count\": 1}, {\"DailyRate\": 715, \"JobLevel\": 5, \"Count\": 1}, {\"DailyRate\": 717, \"JobLevel\": 2, \"Count\": 1}, {\"DailyRate\": 718, \"JobLevel\": 2, \"Count\": 1}, {\"DailyRate\": 718, \"JobLevel\": 5, \"Count\": 1}, {\"DailyRate\": 719, \"JobLevel\": 2, \"Count\": 1}, {\"DailyRate\": 720, \"JobLevel\": 2, \"Count\": 1}, {\"DailyRate\": 721, \"JobLevel\": 2, \"Count\": 1}, {\"DailyRate\": 722, \"JobLevel\": 1, \"Count\": 1}, {\"DailyRate\": 722, \"JobLevel\": 4, \"Count\": 2}, {\"DailyRate\": 723, \"JobLevel\": 2, \"Count\": 2}, {\"DailyRate\": 725, \"JobLevel\": 5, \"Count\": 1}, {\"DailyRate\": 726, \"JobLevel\": 2, \"Count\": 1}, {\"DailyRate\": 727, \"JobLevel\": 1, \"Count\": 2}, {\"DailyRate\": 728, \"JobLevel\": 2, \"Count\": 1}, {\"DailyRate\": 728, \"JobLevel\": 3, \"Count\": 1}, {\"DailyRate\": 734, \"JobLevel\": 5, \"Count\": 1}, {\"DailyRate\": 735, \"JobLevel\": 1, \"Count\": 1}, {\"DailyRate\": 735, \"JobLevel\": 2, \"Count\": 2}, {\"DailyRate\": 736, \"JobLevel\": 2, \"Count\": 1}, {\"DailyRate\": 737, \"JobLevel\": 3, \"Count\": 1}, {\"DailyRate\": 738, \"JobLevel\": 1, \"Count\": 1}, {\"DailyRate\": 740, \"JobLevel\": 2, \"Count\": 1}, {\"DailyRate\": 741, \"JobLevel\": 1, \"Count\": 1}, {\"DailyRate\": 746, \"JobLevel\": 1, \"Count\": 1}, {\"DailyRate\": 746, \"JobLevel\": 2, \"Count\": 2}, {\"DailyRate\": 748, \"JobLevel\": 1, \"Count\": 1}, {\"DailyRate\": 750, \"JobLevel\": 2, \"Count\": 3}, {\"DailyRate\": 754, \"JobLevel\": 2, \"Count\": 1}, {\"DailyRate\": 755, \"JobLevel\": 2, \"Count\": 1}, {\"DailyRate\": 756, \"JobLevel\": 1, \"Count\": 1}, {\"DailyRate\": 759, \"JobLevel\": 2, \"Count\": 1}, {\"DailyRate\": 760, \"JobLevel\": 2, \"Count\": 1}, {\"DailyRate\": 763, \"JobLevel\": 2, \"Count\": 1}, {\"DailyRate\": 766, \"JobLevel\": 2, \"Count\": 1}, {\"DailyRate\": 769, \"JobLevel\": 1, \"Count\": 1}, {\"DailyRate\": 770, \"JobLevel\": 3, \"Count\": 1}, {\"DailyRate\": 770, \"JobLevel\": 4, \"Count\": 1}, {\"DailyRate\": 771, \"JobLevel\": 2, \"Count\": 1}, {\"DailyRate\": 771, \"JobLevel\": 5, \"Count\": 1}, {\"DailyRate\": 772, \"JobLevel\": 2, \"Count\": 1}, {\"DailyRate\": 773, \"JobLevel\": 1, \"Count\": 1}, {\"DailyRate\": 775, \"JobLevel\": 2, \"Count\": 3}, {\"DailyRate\": 776, \"JobLevel\": 2, \"Count\": 1}, {\"DailyRate\": 781, \"JobLevel\": 1, \"Count\": 1}, {\"DailyRate\": 782, \"JobLevel\": 4, \"Count\": 1}, {\"DailyRate\": 783, \"JobLevel\": 2, \"Count\": 2}, {\"DailyRate\": 786, \"JobLevel\": 1, \"Count\": 1}, {\"DailyRate\": 788, \"JobLevel\": 1, \"Count\": 1}, {\"DailyRate\": 790, \"JobLevel\": 2, \"Count\": 1}, {\"DailyRate\": 791, \"JobLevel\": 1, \"Count\": 1}, {\"DailyRate\": 791, \"JobLevel\": 2, \"Count\": 1}, {\"DailyRate\": 792, \"JobLevel\": 2, \"Count\": 1}, {\"DailyRate\": 793, \"JobLevel\": 1, \"Count\": 2}, {\"DailyRate\": 793, \"JobLevel\": 2, \"Count\": 1}, {\"DailyRate\": 796, \"JobLevel\": 3, \"Count\": 2}, {\"DailyRate\": 797, \"JobLevel\": 5, \"Count\": 1}, {\"DailyRate\": 798, \"JobLevel\": 1, \"Count\": 1}, {\"DailyRate\": 798, \"JobLevel\": 3, \"Count\": 1}, {\"DailyRate\": 799, \"JobLevel\": 3, \"Count\": 1}, {\"DailyRate\": 801, \"JobLevel\": 3, \"Count\": 1}, {\"DailyRate\": 802, \"JobLevel\": 1, \"Count\": 1}, {\"DailyRate\": 802, \"JobLevel\": 3, \"Count\": 1}, {\"DailyRate\": 804, \"JobLevel\": 1, \"Count\": 2}, {\"DailyRate\": 805, \"JobLevel\": 1, \"Count\": 2}, {\"DailyRate\": 805, \"JobLevel\": 2, \"Count\": 1}, {\"DailyRate\": 806, \"JobLevel\": 1, \"Count\": 2}, {\"DailyRate\": 807, \"JobLevel\": 1, \"Count\": 2}, {\"DailyRate\": 809, \"JobLevel\": 1, \"Count\": 1}, {\"DailyRate\": 809, \"JobLevel\": 3, \"Count\": 1}, {\"DailyRate\": 809, \"JobLevel\": 4, \"Count\": 1}, {\"DailyRate\": 810, \"JobLevel\": 2, \"Count\": 2}, {\"DailyRate\": 810, \"JobLevel\": 4, \"Count\": 1}, {\"DailyRate\": 812, \"JobLevel\": 1, \"Count\": 1}, {\"DailyRate\": 813, \"JobLevel\": 1, \"Count\": 2}, {\"DailyRate\": 813, \"JobLevel\": 3, \"Count\": 1}, {\"DailyRate\": 817, \"JobLevel\": 2, \"Count\": 2}, {\"DailyRate\": 818, \"JobLevel\": 1, \"Count\": 1}, {\"DailyRate\": 819, \"JobLevel\": 2, \"Count\": 1}, {\"DailyRate\": 819, \"JobLevel\": 3, \"Count\": 1}, {\"DailyRate\": 821, \"JobLevel\": 2, \"Count\": 1}, {\"DailyRate\": 821, \"JobLevel\": 5, \"Count\": 1}, {\"DailyRate\": 823, \"JobLevel\": 1, \"Count\": 1}, {\"DailyRate\": 823, \"JobLevel\": 5, \"Count\": 1}, {\"DailyRate\": 824, \"JobLevel\": 2, \"Count\": 1}, {\"DailyRate\": 827, \"JobLevel\": 1, \"Count\": 1}, {\"DailyRate\": 827, \"JobLevel\": 2, \"Count\": 3}, {\"DailyRate\": 828, \"JobLevel\": 2, \"Count\": 1}, {\"DailyRate\": 829, \"JobLevel\": 1, \"Count\": 1}, {\"DailyRate\": 829, \"JobLevel\": 2, \"Count\": 1}, {\"DailyRate\": 829, \"JobLevel\": 3, \"Count\": 1}, {\"DailyRate\": 829, \"JobLevel\": 4, \"Count\": 1}, {\"DailyRate\": 830, \"JobLevel\": 1, \"Count\": 1}, {\"DailyRate\": 832, \"JobLevel\": 1, \"Count\": 1}, {\"DailyRate\": 832, \"JobLevel\": 4, \"Count\": 1}, {\"DailyRate\": 833, \"JobLevel\": 1, \"Count\": 1}, {\"DailyRate\": 833, \"JobLevel\": 2, \"Count\": 1}, {\"DailyRate\": 835, \"JobLevel\": 2, \"Count\": 1}, {\"DailyRate\": 836, \"JobLevel\": 1, \"Count\": 1}, {\"DailyRate\": 836, \"JobLevel\": 4, \"Count\": 1}, {\"DailyRate\": 840, \"JobLevel\": 5, \"Count\": 1}, {\"DailyRate\": 841, \"JobLevel\": 1, \"Count\": 1}, {\"DailyRate\": 845, \"JobLevel\": 2, \"Count\": 1}, {\"DailyRate\": 848, \"JobLevel\": 1, \"Count\": 1}, {\"DailyRate\": 849, \"JobLevel\": 2, \"Count\": 1}, {\"DailyRate\": 849, \"JobLevel\": 3, \"Count\": 1}, {\"DailyRate\": 852, \"JobLevel\": 1, \"Count\": 1}, {\"DailyRate\": 852, \"JobLevel\": 2, \"Count\": 2}, {\"DailyRate\": 853, \"JobLevel\": 2, \"Count\": 2}, {\"DailyRate\": 853, \"JobLevel\": 3, \"Count\": 1}, {\"DailyRate\": 854, \"JobLevel\": 5, \"Count\": 1}, {\"DailyRate\": 855, \"JobLevel\": 1, \"Count\": 1}, {\"DailyRate\": 855, \"JobLevel\": 2, \"Count\": 1}, {\"DailyRate\": 855, \"JobLevel\": 3, \"Count\": 1}, {\"DailyRate\": 857, \"JobLevel\": 2, \"Count\": 1}, {\"DailyRate\": 857, \"JobLevel\": 4, \"Count\": 1}, {\"DailyRate\": 859, \"JobLevel\": 2, \"Count\": 1}, {\"DailyRate\": 862, \"JobLevel\": 1, \"Count\": 1}, {\"DailyRate\": 866, \"JobLevel\": 2, \"Count\": 1}, {\"DailyRate\": 867, \"JobLevel\": 1, \"Count\": 2}, {\"DailyRate\": 867, \"JobLevel\": 2, \"Count\": 1}, {\"DailyRate\": 868, \"JobLevel\": 4, \"Count\": 1}, {\"DailyRate\": 869, \"JobLevel\": 1, \"Count\": 1}, {\"DailyRate\": 871, \"JobLevel\": 1, \"Count\": 1}, {\"DailyRate\": 874, \"JobLevel\": 1, \"Count\": 1}, {\"DailyRate\": 878, \"JobLevel\": 1, \"Count\": 1}, {\"DailyRate\": 878, \"JobLevel\": 2, \"Count\": 1}, {\"DailyRate\": 879, \"JobLevel\": 2, \"Count\": 1}, {\"DailyRate\": 880, \"JobLevel\": 2, \"Count\": 1}, {\"DailyRate\": 881, \"JobLevel\": 4, \"Count\": 1}, {\"DailyRate\": 882, \"JobLevel\": 1, \"Count\": 1}, {\"DailyRate\": 882, \"JobLevel\": 3, \"Count\": 1}, {\"DailyRate\": 883, \"JobLevel\": 2, \"Count\": 1}, {\"DailyRate\": 884, \"JobLevel\": 2, \"Count\": 2}, {\"DailyRate\": 884, \"JobLevel\": 3, \"Count\": 1}, {\"DailyRate\": 885, \"JobLevel\": 1, \"Count\": 2}, {\"DailyRate\": 887, \"JobLevel\": 1, \"Count\": 1}, {\"DailyRate\": 888, \"JobLevel\": 2, \"Count\": 1}, {\"DailyRate\": 889, \"JobLevel\": 1, \"Count\": 1}, {\"DailyRate\": 890, \"JobLevel\": 1, \"Count\": 2}, {\"DailyRate\": 890, \"JobLevel\": 4, \"Count\": 1}, {\"DailyRate\": 891, \"JobLevel\": 2, \"Count\": 1}, {\"DailyRate\": 894, \"JobLevel\": 1, \"Count\": 1}, {\"DailyRate\": 894, \"JobLevel\": 2, \"Count\": 1}, {\"DailyRate\": 895, \"JobLevel\": 1, \"Count\": 2}, {\"DailyRate\": 895, \"JobLevel\": 2, \"Count\": 1}, {\"DailyRate\": 896, \"JobLevel\": 1, \"Count\": 2}, {\"DailyRate\": 896, \"JobLevel\": 3, \"Count\": 1}, {\"DailyRate\": 897, \"JobLevel\": 1, \"Count\": 1}, {\"DailyRate\": 898, \"JobLevel\": 4, \"Count\": 1}, {\"DailyRate\": 902, \"JobLevel\": 2, \"Count\": 1}, {\"DailyRate\": 903, \"JobLevel\": 2, \"Count\": 1}, {\"DailyRate\": 903, \"JobLevel\": 3, \"Count\": 1}, {\"DailyRate\": 905, \"JobLevel\": 2, \"Count\": 1}, {\"DailyRate\": 906, \"JobLevel\": 1, \"Count\": 2}, {\"DailyRate\": 906, \"JobLevel\": 2, \"Count\": 1}, {\"DailyRate\": 906, \"JobLevel\": 4, \"Count\": 1}, {\"DailyRate\": 911, \"JobLevel\": 1, \"Count\": 1}, {\"DailyRate\": 913, \"JobLevel\": 2, \"Count\": 1}, {\"DailyRate\": 916, \"JobLevel\": 2, \"Count\": 1}, {\"DailyRate\": 917, \"JobLevel\": 1, \"Count\": 1}, {\"DailyRate\": 918, \"JobLevel\": 3, \"Count\": 1}, {\"DailyRate\": 920, \"JobLevel\": 1, \"Count\": 2}, {\"DailyRate\": 920, \"JobLevel\": 5, \"Count\": 1}, {\"DailyRate\": 921, \"JobLevel\": 1, \"Count\": 3}, {\"DailyRate\": 921, \"JobLevel\": 3, \"Count\": 1}, {\"DailyRate\": 922, \"JobLevel\": 1, \"Count\": 1}, {\"DailyRate\": 922, \"JobLevel\": 4, \"Count\": 1}, {\"DailyRate\": 924, \"JobLevel\": 1, \"Count\": 1}, {\"DailyRate\": 926, \"JobLevel\": 2, \"Count\": 1}, {\"DailyRate\": 928, \"JobLevel\": 2, \"Count\": 2}, {\"DailyRate\": 929, \"JobLevel\": 2, \"Count\": 1}, {\"DailyRate\": 930, \"JobLevel\": 2, \"Count\": 2}, {\"DailyRate\": 930, \"JobLevel\": 3, \"Count\": 1}, {\"DailyRate\": 931, \"JobLevel\": 1, \"Count\": 1}, {\"DailyRate\": 932, \"JobLevel\": 2, \"Count\": 1}, {\"DailyRate\": 933, \"JobLevel\": 1, \"Count\": 2}, {\"DailyRate\": 933, \"JobLevel\": 2, \"Count\": 2}, {\"DailyRate\": 935, \"JobLevel\": 1, \"Count\": 1}, {\"DailyRate\": 937, \"JobLevel\": 3, \"Count\": 1}, {\"DailyRate\": 938, \"JobLevel\": 1, \"Count\": 1}, {\"DailyRate\": 939, \"JobLevel\": 4, \"Count\": 1}, {\"DailyRate\": 942, \"JobLevel\": 1, \"Count\": 1}, {\"DailyRate\": 942, \"JobLevel\": 3, \"Count\": 1}, {\"DailyRate\": 943, \"JobLevel\": 3, \"Count\": 1}, {\"DailyRate\": 944, \"JobLevel\": 3, \"Count\": 1}, {\"DailyRate\": 945, \"JobLevel\": 1, \"Count\": 1}, {\"DailyRate\": 945, \"JobLevel\": 2, \"Count\": 1}, {\"DailyRate\": 945, \"JobLevel\": 3, \"Count\": 1}, {\"DailyRate\": 946, \"JobLevel\": 2, \"Count\": 1}, {\"DailyRate\": 949, \"JobLevel\": 1, \"Count\": 1}, {\"DailyRate\": 950, \"JobLevel\": 1, \"Count\": 1}, {\"DailyRate\": 950, \"JobLevel\": 2, \"Count\": 1}, {\"DailyRate\": 950, \"JobLevel\": 3, \"Count\": 2}, {\"DailyRate\": 953, \"JobLevel\": 1, \"Count\": 1}, {\"DailyRate\": 954, \"JobLevel\": 2, \"Count\": 2}, {\"DailyRate\": 955, \"JobLevel\": 2, \"Count\": 1}, {\"DailyRate\": 956, \"JobLevel\": 2, \"Count\": 1}, {\"DailyRate\": 957, \"JobLevel\": 1, \"Count\": 1}, {\"DailyRate\": 959, \"JobLevel\": 1, \"Count\": 1}, {\"DailyRate\": 959, \"JobLevel\": 2, \"Count\": 2}, {\"DailyRate\": 964, \"JobLevel\": 2, \"Count\": 1}, {\"DailyRate\": 966, \"JobLevel\": 3, \"Count\": 1}, {\"DailyRate\": 967, \"JobLevel\": 1, \"Count\": 1}, {\"DailyRate\": 967, \"JobLevel\": 3, \"Count\": 1}, {\"DailyRate\": 968, \"JobLevel\": 1, \"Count\": 1}, {\"DailyRate\": 969, \"JobLevel\": 1, \"Count\": 1}, {\"DailyRate\": 970, \"JobLevel\": 2, \"Count\": 2}, {\"DailyRate\": 970, \"JobLevel\": 4, \"Count\": 1}, {\"DailyRate\": 971, \"JobLevel\": 3, \"Count\": 1}, {\"DailyRate\": 971, \"JobLevel\": 4, \"Count\": 1}, {\"DailyRate\": 974, \"JobLevel\": 1, \"Count\": 1}, {\"DailyRate\": 975, \"JobLevel\": 2, \"Count\": 1}, {\"DailyRate\": 976, \"JobLevel\": 1, \"Count\": 1}, {\"DailyRate\": 976, \"JobLevel\": 2, \"Count\": 1}, {\"DailyRate\": 977, \"JobLevel\": 1, \"Count\": 2}, {\"DailyRate\": 977, \"JobLevel\": 2, \"Count\": 2}, {\"DailyRate\": 979, \"JobLevel\": 2, \"Count\": 1}, {\"DailyRate\": 979, \"JobLevel\": 3, \"Count\": 1}, {\"DailyRate\": 981, \"JobLevel\": 1, \"Count\": 1}, {\"DailyRate\": 982, \"JobLevel\": 1, \"Count\": 1}, {\"DailyRate\": 982, \"JobLevel\": 4, \"Count\": 1}, {\"DailyRate\": 983, \"JobLevel\": 2, \"Count\": 1}, {\"DailyRate\": 984, \"JobLevel\": 1, \"Count\": 2}, {\"DailyRate\": 986, \"JobLevel\": 1, \"Count\": 1}, {\"DailyRate\": 986, \"JobLevel\": 3, \"Count\": 1}, {\"DailyRate\": 988, \"JobLevel\": 3, \"Count\": 1}, {\"DailyRate\": 989, \"JobLevel\": 5, \"Count\": 2}, {\"DailyRate\": 990, \"JobLevel\": 1, \"Count\": 2}, {\"DailyRate\": 991, \"JobLevel\": 1, \"Count\": 2}, {\"DailyRate\": 991, \"JobLevel\": 2, \"Count\": 1}, {\"DailyRate\": 992, \"JobLevel\": 1, \"Count\": 2}, {\"DailyRate\": 994, \"JobLevel\": 3, \"Count\": 2}, {\"DailyRate\": 995, \"JobLevel\": 1, \"Count\": 1}, {\"DailyRate\": 995, \"JobLevel\": 2, \"Count\": 1}, {\"DailyRate\": 996, \"JobLevel\": 1, \"Count\": 1}, {\"DailyRate\": 999, \"JobLevel\": 1, \"Count\": 1}, {\"DailyRate\": 1001, \"JobLevel\": 2, \"Count\": 1}, {\"DailyRate\": 1001, \"JobLevel\": 3, \"Count\": 2}, {\"DailyRate\": 1002, \"JobLevel\": 2, \"Count\": 1}, {\"DailyRate\": 1003, \"JobLevel\": 2, \"Count\": 3}, {\"DailyRate\": 1005, \"JobLevel\": 1, \"Count\": 2}, {\"DailyRate\": 1005, \"JobLevel\": 4, \"Count\": 1}, {\"DailyRate\": 1009, \"JobLevel\": 1, \"Count\": 1}, {\"DailyRate\": 1009, \"JobLevel\": 2, \"Count\": 1}, {\"DailyRate\": 1009, \"JobLevel\": 4, \"Count\": 1}, {\"DailyRate\": 1010, \"JobLevel\": 1, \"Count\": 1}, {\"DailyRate\": 1012, \"JobLevel\": 1, \"Count\": 1}, {\"DailyRate\": 1015, \"JobLevel\": 2, \"Count\": 1}, {\"DailyRate\": 1017, \"JobLevel\": 1, \"Count\": 2}, {\"DailyRate\": 1017, \"JobLevel\": 2, \"Count\": 1}, {\"DailyRate\": 1018, \"JobLevel\": 2, \"Count\": 2}, {\"DailyRate\": 1018, \"JobLevel\": 3, \"Count\": 1}, {\"DailyRate\": 1023, \"JobLevel\": 2, \"Count\": 1}, {\"DailyRate\": 1029, \"JobLevel\": 3, \"Count\": 1}, {\"DailyRate\": 1030, \"JobLevel\": 3, \"Count\": 1}, {\"DailyRate\": 1031, \"JobLevel\": 2, \"Count\": 1}, {\"DailyRate\": 1033, \"JobLevel\": 1, \"Count\": 1}, {\"DailyRate\": 1034, \"JobLevel\": 3, \"Count\": 1}, {\"DailyRate\": 1034, \"JobLevel\": 4, \"Count\": 1}, {\"DailyRate\": 1035, \"JobLevel\": 2, \"Count\": 1}, {\"DailyRate\": 1037, \"JobLevel\": 1, \"Count\": 1}, {\"DailyRate\": 1038, \"JobLevel\": 1, \"Count\": 1}, {\"DailyRate\": 1038, \"JobLevel\": 3, \"Count\": 1}, {\"DailyRate\": 1040, \"JobLevel\": 2, \"Count\": 2}, {\"DailyRate\": 1041, \"JobLevel\": 1, \"Count\": 1}, {\"DailyRate\": 1045, \"JobLevel\": 3, \"Count\": 1}, {\"DailyRate\": 1046, \"JobLevel\": 3, \"Count\": 1}, {\"DailyRate\": 1050, \"JobLevel\": 2, \"Count\": 1}, {\"DailyRate\": 1050, \"JobLevel\": 4, \"Count\": 1}, {\"DailyRate\": 1052, \"JobLevel\": 3, \"Count\": 1}, {\"DailyRate\": 1053, \"JobLevel\": 4, \"Count\": 1}, {\"DailyRate\": 1054, \"JobLevel\": 1, \"Count\": 1}, {\"DailyRate\": 1055, \"JobLevel\": 2, \"Count\": 1}, {\"DailyRate\": 1055, \"JobLevel\": 5, \"Count\": 1}, {\"DailyRate\": 1059, \"JobLevel\": 5, \"Count\": 1}, {\"DailyRate\": 1060, \"JobLevel\": 1, \"Count\": 1}, {\"DailyRate\": 1062, \"JobLevel\": 1, \"Count\": 1}, {\"DailyRate\": 1062, \"JobLevel\": 2, \"Count\": 1}, {\"DailyRate\": 1063, \"JobLevel\": 2, \"Count\": 1}, {\"DailyRate\": 1064, \"JobLevel\": 5, \"Count\": 1}, {\"DailyRate\": 1065, \"JobLevel\": 2, \"Count\": 1}, {\"DailyRate\": 1066, \"JobLevel\": 2, \"Count\": 1}, {\"DailyRate\": 1069, \"JobLevel\": 2, \"Count\": 2}, {\"DailyRate\": 1070, \"JobLevel\": 4, \"Count\": 1}, {\"DailyRate\": 1075, \"JobLevel\": 1, \"Count\": 1}, {\"DailyRate\": 1076, \"JobLevel\": 1, \"Count\": 1}, {\"DailyRate\": 1079, \"JobLevel\": 2, \"Count\": 1}, {\"DailyRate\": 1079, \"JobLevel\": 3, \"Count\": 1}, {\"DailyRate\": 1082, \"JobLevel\": 1, \"Count\": 2}, {\"DailyRate\": 1082, \"JobLevel\": 2, \"Count\": 1}, {\"DailyRate\": 1082, \"JobLevel\": 3, \"Count\": 2}, {\"DailyRate\": 1083, \"JobLevel\": 2, \"Count\": 1}, {\"DailyRate\": 1084, \"JobLevel\": 2, \"Count\": 2}, {\"DailyRate\": 1085, \"JobLevel\": 1, \"Count\": 1}, {\"DailyRate\": 1086, \"JobLevel\": 1, \"Count\": 1}, {\"DailyRate\": 1089, \"JobLevel\": 2, \"Count\": 1}, {\"DailyRate\": 1089, \"JobLevel\": 3, \"Count\": 2}, {\"DailyRate\": 1090, \"JobLevel\": 1, \"Count\": 1}, {\"DailyRate\": 1091, \"JobLevel\": 3, \"Count\": 1}, {\"DailyRate\": 1091, \"JobLevel\": 4, \"Count\": 1}, {\"DailyRate\": 1092, \"JobLevel\": 1, \"Count\": 2}, {\"DailyRate\": 1092, \"JobLevel\": 3, \"Count\": 1}, {\"DailyRate\": 1093, \"JobLevel\": 2, \"Count\": 1}, {\"DailyRate\": 1093, \"JobLevel\": 4, \"Count\": 1}, {\"DailyRate\": 1094, \"JobLevel\": 3, \"Count\": 1}, {\"DailyRate\": 1096, \"JobLevel\": 1, \"Count\": 1}, {\"DailyRate\": 1097, \"JobLevel\": 1, \"Count\": 2}, {\"DailyRate\": 1097, \"JobLevel\": 3, \"Count\": 1}, {\"DailyRate\": 1098, \"JobLevel\": 5, \"Count\": 1}, {\"DailyRate\": 1099, \"JobLevel\": 1, \"Count\": 1}, {\"DailyRate\": 1099, \"JobLevel\": 4, \"Count\": 1}, {\"DailyRate\": 1099, \"JobLevel\": 5, \"Count\": 1}, {\"DailyRate\": 1102, \"JobLevel\": 2, \"Count\": 1}, {\"DailyRate\": 1103, \"JobLevel\": 1, \"Count\": 2}, {\"DailyRate\": 1105, \"JobLevel\": 2, \"Count\": 1}, {\"DailyRate\": 1107, \"JobLevel\": 1, \"Count\": 3}, {\"DailyRate\": 1108, \"JobLevel\": 1, \"Count\": 1}, {\"DailyRate\": 1109, \"JobLevel\": 1, \"Count\": 1}, {\"DailyRate\": 1111, \"JobLevel\": 2, \"Count\": 2}, {\"DailyRate\": 1112, \"JobLevel\": 2, \"Count\": 2}, {\"DailyRate\": 1115, \"JobLevel\": 1, \"Count\": 1}, {\"DailyRate\": 1115, \"JobLevel\": 2, \"Count\": 1}, {\"DailyRate\": 1115, \"JobLevel\": 5, \"Count\": 1}, {\"DailyRate\": 1116, \"JobLevel\": 1, \"Count\": 1}, {\"DailyRate\": 1117, \"JobLevel\": 1, \"Count\": 2}, {\"DailyRate\": 1117, \"JobLevel\": 4, \"Count\": 1}, {\"DailyRate\": 1120, \"JobLevel\": 2, \"Count\": 1}, {\"DailyRate\": 1122, \"JobLevel\": 1, \"Count\": 1}, {\"DailyRate\": 1123, \"JobLevel\": 1, \"Count\": 1}, {\"DailyRate\": 1124, \"JobLevel\": 1, \"Count\": 1}, {\"DailyRate\": 1124, \"JobLevel\": 2, \"Count\": 1}, {\"DailyRate\": 1125, \"JobLevel\": 1, \"Count\": 1}, {\"DailyRate\": 1125, \"JobLevel\": 2, \"Count\": 1}, {\"DailyRate\": 1125, \"JobLevel\": 3, \"Count\": 2}, {\"DailyRate\": 1126, \"JobLevel\": 4, \"Count\": 1}, {\"DailyRate\": 1127, \"JobLevel\": 1, \"Count\": 1}, {\"DailyRate\": 1128, \"JobLevel\": 2, \"Count\": 1}, {\"DailyRate\": 1130, \"JobLevel\": 2, \"Count\": 2}, {\"DailyRate\": 1131, \"JobLevel\": 1, \"Count\": 1}, {\"DailyRate\": 1132, \"JobLevel\": 3, \"Count\": 1}, {\"DailyRate\": 1134, \"JobLevel\": 1, \"Count\": 1}, {\"DailyRate\": 1136, \"JobLevel\": 1, \"Count\": 1}, {\"DailyRate\": 1136, \"JobLevel\": 4, \"Count\": 1}, {\"DailyRate\": 1137, \"JobLevel\": 2, \"Count\": 1}, {\"DailyRate\": 1137, \"JobLevel\": 4, \"Count\": 1}, {\"DailyRate\": 1138, \"JobLevel\": 2, \"Count\": 1}, {\"DailyRate\": 1141, \"JobLevel\": 1, \"Count\": 1}, {\"DailyRate\": 1141, \"JobLevel\": 2, \"Count\": 2}, {\"DailyRate\": 1142, \"JobLevel\": 1, \"Count\": 2}, {\"DailyRate\": 1142, \"JobLevel\": 2, \"Count\": 1}, {\"DailyRate\": 1144, \"JobLevel\": 1, \"Count\": 1}, {\"DailyRate\": 1144, \"JobLevel\": 2, \"Count\": 1}, {\"DailyRate\": 1145, \"JobLevel\": 1, \"Count\": 1}, {\"DailyRate\": 1146, \"JobLevel\": 2, \"Count\": 3}, {\"DailyRate\": 1146, \"JobLevel\": 3, \"Count\": 1}, {\"DailyRate\": 1147, \"JobLevel\": 2, \"Count\": 1}, {\"DailyRate\": 1147, \"JobLevel\": 4, \"Count\": 1}, {\"DailyRate\": 1150, \"JobLevel\": 3, \"Count\": 1}, {\"DailyRate\": 1151, \"JobLevel\": 2, \"Count\": 1}, {\"DailyRate\": 1153, \"JobLevel\": 1, \"Count\": 1}, {\"DailyRate\": 1153, \"JobLevel\": 2, \"Count\": 1}, {\"DailyRate\": 1154, \"JobLevel\": 1, \"Count\": 1}, {\"DailyRate\": 1157, \"JobLevel\": 1, \"Count\": 3}, {\"DailyRate\": 1157, \"JobLevel\": 2, \"Count\": 1}, {\"DailyRate\": 1158, \"JobLevel\": 1, \"Count\": 1}, {\"DailyRate\": 1162, \"JobLevel\": 1, \"Count\": 1}, {\"DailyRate\": 1162, \"JobLevel\": 2, \"Count\": 1}, {\"DailyRate\": 1162, \"JobLevel\": 3, \"Count\": 1}, {\"DailyRate\": 1167, \"JobLevel\": 1, \"Count\": 2}, {\"DailyRate\": 1168, \"JobLevel\": 3, \"Count\": 1}, {\"DailyRate\": 1169, \"JobLevel\": 1, \"Count\": 1}, {\"DailyRate\": 1169, \"JobLevel\": 2, \"Count\": 2}, {\"DailyRate\": 1171, \"JobLevel\": 1, \"Count\": 1}, {\"DailyRate\": 1172, \"JobLevel\": 1, \"Count\": 1}, {\"DailyRate\": 1174, \"JobLevel\": 2, \"Count\": 1}, {\"DailyRate\": 1176, \"JobLevel\": 2, \"Count\": 2}, {\"DailyRate\": 1176, \"JobLevel\": 5, \"Count\": 1}, {\"DailyRate\": 1178, \"JobLevel\": 2, \"Count\": 1}, {\"DailyRate\": 1179, \"JobLevel\": 1, \"Count\": 1}, {\"DailyRate\": 1179, \"JobLevel\": 2, \"Count\": 2}, {\"DailyRate\": 1180, \"JobLevel\": 2, \"Count\": 2}, {\"DailyRate\": 1180, \"JobLevel\": 3, \"Count\": 1}, {\"DailyRate\": 1181, \"JobLevel\": 1, \"Count\": 2}, {\"DailyRate\": 1182, \"JobLevel\": 2, \"Count\": 1}, {\"DailyRate\": 1184, \"JobLevel\": 1, \"Count\": 1}, {\"DailyRate\": 1184, \"JobLevel\": 2, \"Count\": 1}, {\"DailyRate\": 1184, \"JobLevel\": 3, \"Count\": 1}, {\"DailyRate\": 1186, \"JobLevel\": 1, \"Count\": 1}, {\"DailyRate\": 1188, \"JobLevel\": 2, \"Count\": 1}, {\"DailyRate\": 1189, \"JobLevel\": 2, \"Count\": 1}, {\"DailyRate\": 1189, \"JobLevel\": 3, \"Count\": 1}, {\"DailyRate\": 1192, \"JobLevel\": 2, \"Count\": 1}, {\"DailyRate\": 1193, \"JobLevel\": 3, \"Count\": 1}, {\"DailyRate\": 1194, \"JobLevel\": 1, \"Count\": 1}, {\"DailyRate\": 1194, \"JobLevel\": 2, \"Count\": 1}, {\"DailyRate\": 1195, \"JobLevel\": 2, \"Count\": 1}, {\"DailyRate\": 1195, \"JobLevel\": 4, \"Count\": 1}, {\"DailyRate\": 1198, \"JobLevel\": 1, \"Count\": 1}, {\"DailyRate\": 1199, \"JobLevel\": 2, \"Count\": 2}, {\"DailyRate\": 1199, \"JobLevel\": 5, \"Count\": 1}, {\"DailyRate\": 1200, \"JobLevel\": 2, \"Count\": 2}, {\"DailyRate\": 1202, \"JobLevel\": 2, \"Count\": 1}, {\"DailyRate\": 1204, \"JobLevel\": 3, \"Count\": 1}, {\"DailyRate\": 1206, \"JobLevel\": 1, \"Count\": 1}, {\"DailyRate\": 1206, \"JobLevel\": 2, \"Count\": 1}, {\"DailyRate\": 1206, \"JobLevel\": 3, \"Count\": 1}, {\"DailyRate\": 1207, \"JobLevel\": 1, \"Count\": 1}, {\"DailyRate\": 1210, \"JobLevel\": 1, \"Count\": 1}, {\"DailyRate\": 1210, \"JobLevel\": 2, \"Count\": 1}, {\"DailyRate\": 1211, \"JobLevel\": 2, \"Count\": 1}, {\"DailyRate\": 1212, \"JobLevel\": 3, \"Count\": 1}, {\"DailyRate\": 1213, \"JobLevel\": 2, \"Count\": 1}, {\"DailyRate\": 1214, \"JobLevel\": 1, \"Count\": 1}, {\"DailyRate\": 1216, \"JobLevel\": 2, \"Count\": 1}, {\"DailyRate\": 1216, \"JobLevel\": 4, \"Count\": 1}, {\"DailyRate\": 1217, \"JobLevel\": 1, \"Count\": 1}, {\"DailyRate\": 1217, \"JobLevel\": 3, \"Count\": 1}, {\"DailyRate\": 1218, \"JobLevel\": 1, \"Count\": 1}, {\"DailyRate\": 1218, \"JobLevel\": 5, \"Count\": 1}, {\"DailyRate\": 1219, \"JobLevel\": 1, \"Count\": 1}, {\"DailyRate\": 1219, \"JobLevel\": 2, \"Count\": 1}, {\"DailyRate\": 1219, \"JobLevel\": 4, \"Count\": 1}, {\"DailyRate\": 1220, \"JobLevel\": 1, \"Count\": 1}, {\"DailyRate\": 1221, \"JobLevel\": 2, \"Count\": 1}, {\"DailyRate\": 1222, \"JobLevel\": 1, \"Count\": 1}, {\"DailyRate\": 1223, \"JobLevel\": 3, \"Count\": 1}, {\"DailyRate\": 1223, \"JobLevel\": 5, \"Count\": 1}, {\"DailyRate\": 1224, \"JobLevel\": 2, \"Count\": 1}, {\"DailyRate\": 1224, \"JobLevel\": 5, \"Count\": 1}, {\"DailyRate\": 1225, \"JobLevel\": 1, \"Count\": 1}, {\"DailyRate\": 1225, \"JobLevel\": 2, \"Count\": 2}, {\"DailyRate\": 1225, \"JobLevel\": 4, \"Count\": 1}, {\"DailyRate\": 1229, \"JobLevel\": 1, \"Count\": 1}, {\"DailyRate\": 1229, \"JobLevel\": 2, \"Count\": 2}, {\"DailyRate\": 1230, \"JobLevel\": 2, \"Count\": 1}, {\"DailyRate\": 1231, \"JobLevel\": 1, \"Count\": 1}, {\"DailyRate\": 1232, \"JobLevel\": 3, \"Count\": 2}, {\"DailyRate\": 1234, \"JobLevel\": 4, \"Count\": 2}, {\"DailyRate\": 1236, \"JobLevel\": 4, \"Count\": 1}, {\"DailyRate\": 1238, \"JobLevel\": 3, \"Count\": 1}, {\"DailyRate\": 1239, \"JobLevel\": 2, \"Count\": 1}, {\"DailyRate\": 1239, \"JobLevel\": 3, \"Count\": 1}, {\"DailyRate\": 1240, \"JobLevel\": 1, \"Count\": 2}, {\"DailyRate\": 1240, \"JobLevel\": 2, \"Count\": 1}, {\"DailyRate\": 1242, \"JobLevel\": 2, \"Count\": 2}, {\"DailyRate\": 1243, \"JobLevel\": 1, \"Count\": 1}, {\"DailyRate\": 1245, \"JobLevel\": 2, \"Count\": 1}, {\"DailyRate\": 1245, \"JobLevel\": 5, \"Count\": 1}, {\"DailyRate\": 1246, \"JobLevel\": 2, \"Count\": 1}, {\"DailyRate\": 1246, \"JobLevel\": 5, \"Count\": 1}, {\"DailyRate\": 1247, \"JobLevel\": 2, \"Count\": 1}, {\"DailyRate\": 1249, \"JobLevel\": 3, \"Count\": 1}, {\"DailyRate\": 1251, \"JobLevel\": 2, \"Count\": 1}, {\"DailyRate\": 1252, \"JobLevel\": 1, \"Count\": 1}, {\"DailyRate\": 1252, \"JobLevel\": 3, \"Count\": 1}, {\"DailyRate\": 1253, \"JobLevel\": 3, \"Count\": 1}, {\"DailyRate\": 1254, \"JobLevel\": 3, \"Count\": 1}, {\"DailyRate\": 1255, \"JobLevel\": 1, \"Count\": 1}, {\"DailyRate\": 1256, \"JobLevel\": 1, \"Count\": 2}, {\"DailyRate\": 1258, \"JobLevel\": 1, \"Count\": 1}, {\"DailyRate\": 1259, \"JobLevel\": 1, \"Count\": 1}, {\"DailyRate\": 1261, \"JobLevel\": 2, \"Count\": 1}, {\"DailyRate\": 1261, \"JobLevel\": 3, \"Count\": 1}, {\"DailyRate\": 1262, \"JobLevel\": 4, \"Count\": 1}, {\"DailyRate\": 1265, \"JobLevel\": 2, \"Count\": 1}, {\"DailyRate\": 1266, \"JobLevel\": 2, \"Count\": 1}, {\"DailyRate\": 1268, \"JobLevel\": 2, \"Count\": 1}, {\"DailyRate\": 1269, \"JobLevel\": 1, \"Count\": 1}, {\"DailyRate\": 1271, \"JobLevel\": 1, \"Count\": 1}, {\"DailyRate\": 1272, \"JobLevel\": 3, \"Count\": 1}, {\"DailyRate\": 1273, \"JobLevel\": 1, \"Count\": 1}, {\"DailyRate\": 1274, \"JobLevel\": 3, \"Count\": 1}, {\"DailyRate\": 1275, \"JobLevel\": 2, \"Count\": 1}, {\"DailyRate\": 1276, \"JobLevel\": 1, \"Count\": 1}, {\"DailyRate\": 1276, \"JobLevel\": 3, \"Count\": 1}, {\"DailyRate\": 1276, \"JobLevel\": 4, \"Count\": 1}, {\"DailyRate\": 1277, \"JobLevel\": 1, \"Count\": 1}, {\"DailyRate\": 1277, \"JobLevel\": 3, \"Count\": 2}, {\"DailyRate\": 1278, \"JobLevel\": 1, \"Count\": 1}, {\"DailyRate\": 1278, \"JobLevel\": 2, \"Count\": 1}, {\"DailyRate\": 1280, \"JobLevel\": 1, \"Count\": 1}, {\"DailyRate\": 1282, \"JobLevel\": 5, \"Count\": 1}, {\"DailyRate\": 1283, \"JobLevel\": 1, \"Count\": 2}, {\"DailyRate\": 1283, \"JobLevel\": 2, \"Count\": 2}, {\"DailyRate\": 1287, \"JobLevel\": 1, \"Count\": 1}, {\"DailyRate\": 1288, \"JobLevel\": 3, \"Count\": 1}, {\"DailyRate\": 1291, \"JobLevel\": 1, \"Count\": 1}, {\"DailyRate\": 1291, \"JobLevel\": 4, \"Count\": 1}, {\"DailyRate\": 1294, \"JobLevel\": 1, \"Count\": 1}, {\"DailyRate\": 1296, \"JobLevel\": 2, \"Count\": 1}, {\"DailyRate\": 1296, \"JobLevel\": 3, \"Count\": 1}, {\"DailyRate\": 1297, \"JobLevel\": 1, \"Count\": 1}, {\"DailyRate\": 1297, \"JobLevel\": 2, \"Count\": 1}, {\"DailyRate\": 1299, \"JobLevel\": 2, \"Count\": 1}, {\"DailyRate\": 1300, \"JobLevel\": 2, \"Count\": 2}, {\"DailyRate\": 1302, \"JobLevel\": 1, \"Count\": 1}, {\"DailyRate\": 1302, \"JobLevel\": 2, \"Count\": 2}, {\"DailyRate\": 1303, \"JobLevel\": 1, \"Count\": 1}, {\"DailyRate\": 1303, \"JobLevel\": 2, \"Count\": 1}, {\"DailyRate\": 1305, \"JobLevel\": 2, \"Count\": 1}, {\"DailyRate\": 1306, \"JobLevel\": 1, \"Count\": 1}, {\"DailyRate\": 1308, \"JobLevel\": 5, \"Count\": 1}, {\"DailyRate\": 1309, \"JobLevel\": 1, \"Count\": 1}, {\"DailyRate\": 1309, \"JobLevel\": 2, \"Count\": 1}, {\"DailyRate\": 1311, \"JobLevel\": 1, \"Count\": 1}, {\"DailyRate\": 1311, \"JobLevel\": 4, \"Count\": 1}, {\"DailyRate\": 1312, \"JobLevel\": 1, \"Count\": 2}, {\"DailyRate\": 1313, \"JobLevel\": 1, \"Count\": 1}, {\"DailyRate\": 1313, \"JobLevel\": 2, \"Count\": 1}, {\"DailyRate\": 1313, \"JobLevel\": 5, \"Count\": 1}, {\"DailyRate\": 1315, \"JobLevel\": 3, \"Count\": 1}, {\"DailyRate\": 1315, \"JobLevel\": 5, \"Count\": 1}, {\"DailyRate\": 1316, \"JobLevel\": 1, \"Count\": 1}, {\"DailyRate\": 1316, \"JobLevel\": 2, \"Count\": 1}, {\"DailyRate\": 1318, \"JobLevel\": 2, \"Count\": 1}, {\"DailyRate\": 1318, \"JobLevel\": 4, \"Count\": 1}, {\"DailyRate\": 1319, \"JobLevel\": 2, \"Count\": 1}, {\"DailyRate\": 1319, \"JobLevel\": 4, \"Count\": 1}, {\"DailyRate\": 1320, \"JobLevel\": 1, \"Count\": 2}, {\"DailyRate\": 1321, \"JobLevel\": 2, \"Count\": 1}, {\"DailyRate\": 1322, \"JobLevel\": 1, \"Count\": 1}, {\"DailyRate\": 1322, \"JobLevel\": 4, \"Count\": 1}, {\"DailyRate\": 1323, \"JobLevel\": 1, \"Count\": 2}, {\"DailyRate\": 1324, \"JobLevel\": 1, \"Count\": 1}, {\"DailyRate\": 1325, \"JobLevel\": 2, \"Count\": 1}, {\"DailyRate\": 1326, \"JobLevel\": 2, \"Count\": 1}, {\"DailyRate\": 1327, \"JobLevel\": 2, \"Count\": 1}, {\"DailyRate\": 1327, \"JobLevel\": 3, \"Count\": 1}, {\"DailyRate\": 1328, \"JobLevel\": 1, \"Count\": 1}, {\"DailyRate\": 1329, \"JobLevel\": 1, \"Count\": 1}, {\"DailyRate\": 1329, \"JobLevel\": 2, \"Count\": 4}, {\"DailyRate\": 1330, \"JobLevel\": 1, \"Count\": 1}, {\"DailyRate\": 1332, \"JobLevel\": 2, \"Count\": 2}, {\"DailyRate\": 1333, \"JobLevel\": 1, \"Count\": 1}, {\"DailyRate\": 1333, \"JobLevel\": 3, \"Count\": 1}, {\"DailyRate\": 1334, \"JobLevel\": 1, \"Count\": 1}, {\"DailyRate\": 1334, \"JobLevel\": 2, \"Count\": 1}, {\"DailyRate\": 1336, \"JobLevel\": 1, \"Count\": 1}, {\"DailyRate\": 1337, \"JobLevel\": 1, \"Count\": 1}, {\"DailyRate\": 1339, \"JobLevel\": 3, \"Count\": 2}, {\"DailyRate\": 1342, \"JobLevel\": 2, \"Count\": 1}, {\"DailyRate\": 1343, \"JobLevel\": 1, \"Count\": 2}, {\"DailyRate\": 1344, \"JobLevel\": 1, \"Count\": 1}, {\"DailyRate\": 1346, \"JobLevel\": 1, \"Count\": 1}, {\"DailyRate\": 1349, \"JobLevel\": 1, \"Count\": 2}, {\"DailyRate\": 1351, \"JobLevel\": 1, \"Count\": 1}, {\"DailyRate\": 1351, \"JobLevel\": 2, \"Count\": 2}, {\"DailyRate\": 1353, \"JobLevel\": 2, \"Count\": 1}, {\"DailyRate\": 1354, \"JobLevel\": 1, \"Count\": 1}, {\"DailyRate\": 1354, \"JobLevel\": 3, \"Count\": 1}, {\"DailyRate\": 1355, \"JobLevel\": 1, \"Count\": 1}, {\"DailyRate\": 1355, \"JobLevel\": 3, \"Count\": 1}, {\"DailyRate\": 1356, \"JobLevel\": 1, \"Count\": 1}, {\"DailyRate\": 1356, \"JobLevel\": 2, \"Count\": 1}, {\"DailyRate\": 1357, \"JobLevel\": 1, \"Count\": 1}, {\"DailyRate\": 1358, \"JobLevel\": 1, \"Count\": 1}, {\"DailyRate\": 1358, \"JobLevel\": 2, \"Count\": 1}, {\"DailyRate\": 1360, \"JobLevel\": 5, \"Count\": 1}, {\"DailyRate\": 1361, \"JobLevel\": 2, \"Count\": 1}, {\"DailyRate\": 1362, \"JobLevel\": 1, \"Count\": 1}, {\"DailyRate\": 1362, \"JobLevel\": 2, \"Count\": 1}, {\"DailyRate\": 1365, \"JobLevel\": 2, \"Count\": 1}, {\"DailyRate\": 1366, \"JobLevel\": 3, \"Count\": 1}, {\"DailyRate\": 1368, \"JobLevel\": 1, \"Count\": 1}, {\"DailyRate\": 1368, \"JobLevel\": 2, \"Count\": 1}, {\"DailyRate\": 1369, \"JobLevel\": 4, \"Count\": 1}, {\"DailyRate\": 1370, \"JobLevel\": 1, \"Count\": 1}, {\"DailyRate\": 1370, \"JobLevel\": 2, \"Count\": 1}, {\"DailyRate\": 1371, \"JobLevel\": 2, \"Count\": 1}, {\"DailyRate\": 1372, \"JobLevel\": 1, \"Count\": 1}, {\"DailyRate\": 1372, \"JobLevel\": 2, \"Count\": 2}, {\"DailyRate\": 1373, \"JobLevel\": 1, \"Count\": 1}, {\"DailyRate\": 1373, \"JobLevel\": 2, \"Count\": 1}, {\"DailyRate\": 1375, \"JobLevel\": 2, \"Count\": 1}, {\"DailyRate\": 1376, \"JobLevel\": 3, \"Count\": 1}, {\"DailyRate\": 1376, \"JobLevel\": 4, \"Count\": 1}, {\"DailyRate\": 1377, \"JobLevel\": 1, \"Count\": 1}, {\"DailyRate\": 1377, \"JobLevel\": 2, \"Count\": 1}, {\"DailyRate\": 1378, \"JobLevel\": 2, \"Count\": 1}, {\"DailyRate\": 1379, \"JobLevel\": 2, \"Count\": 1}, {\"DailyRate\": 1380, \"JobLevel\": 1, \"Count\": 1}, {\"DailyRate\": 1381, \"JobLevel\": 2, \"Count\": 1}, {\"DailyRate\": 1382, \"JobLevel\": 2, \"Count\": 1}, {\"DailyRate\": 1383, \"JobLevel\": 2, \"Count\": 1}, {\"DailyRate\": 1383, \"JobLevel\": 3, \"Count\": 1}, {\"DailyRate\": 1384, \"JobLevel\": 1, \"Count\": 1}, {\"DailyRate\": 1385, \"JobLevel\": 4, \"Count\": 1}, {\"DailyRate\": 1387, \"JobLevel\": 2, \"Count\": 1}, {\"DailyRate\": 1389, \"JobLevel\": 3, \"Count\": 1}, {\"DailyRate\": 1391, \"JobLevel\": 1, \"Count\": 1}, {\"DailyRate\": 1392, \"JobLevel\": 1, \"Count\": 1}, {\"DailyRate\": 1394, \"JobLevel\": 2, \"Count\": 1}, {\"DailyRate\": 1395, \"JobLevel\": 2, \"Count\": 2}, {\"DailyRate\": 1395, \"JobLevel\": 3, \"Count\": 1}, {\"DailyRate\": 1396, \"JobLevel\": 1, \"Count\": 1}, {\"DailyRate\": 1396, \"JobLevel\": 2, \"Count\": 1}, {\"DailyRate\": 1396, \"JobLevel\": 3, \"Count\": 1}, {\"DailyRate\": 1397, \"JobLevel\": 1, \"Count\": 1}, {\"DailyRate\": 1398, \"JobLevel\": 1, \"Count\": 1}, {\"DailyRate\": 1398, \"JobLevel\": 3, \"Count\": 1}, {\"DailyRate\": 1398, \"JobLevel\": 5, \"Count\": 1}, {\"DailyRate\": 1400, \"JobLevel\": 1, \"Count\": 1}, {\"DailyRate\": 1400, \"JobLevel\": 2, \"Count\": 1}, {\"DailyRate\": 1400, \"JobLevel\": 3, \"Count\": 1}, {\"DailyRate\": 1401, \"JobLevel\": 1, \"Count\": 2}, {\"DailyRate\": 1402, \"JobLevel\": 1, \"Count\": 1}, {\"DailyRate\": 1402, \"JobLevel\": 4, \"Count\": 1}, {\"DailyRate\": 1403, \"JobLevel\": 1, \"Count\": 1}, {\"DailyRate\": 1404, \"JobLevel\": 1, \"Count\": 3}, {\"DailyRate\": 1405, \"JobLevel\": 4, \"Count\": 1}, {\"DailyRate\": 1410, \"JobLevel\": 2, \"Count\": 1}, {\"DailyRate\": 1411, \"JobLevel\": 2, \"Count\": 1}, {\"DailyRate\": 1413, \"JobLevel\": 1, \"Count\": 1}, {\"DailyRate\": 1413, \"JobLevel\": 3, \"Count\": 1}, {\"DailyRate\": 1416, \"JobLevel\": 5, \"Count\": 1}, {\"DailyRate\": 1418, \"JobLevel\": 1, \"Count\": 1}, {\"DailyRate\": 1420, \"JobLevel\": 1, \"Count\": 1}, {\"DailyRate\": 1420, \"JobLevel\": 5, \"Count\": 1}, {\"DailyRate\": 1421, \"JobLevel\": 4, \"Count\": 1}, {\"DailyRate\": 1422, \"JobLevel\": 2, \"Count\": 1}, {\"DailyRate\": 1423, \"JobLevel\": 1, \"Count\": 1}, {\"DailyRate\": 1425, \"JobLevel\": 2, \"Count\": 1}, {\"DailyRate\": 1427, \"JobLevel\": 1, \"Count\": 2}, {\"DailyRate\": 1429, \"JobLevel\": 3, \"Count\": 1}, {\"DailyRate\": 1431, \"JobLevel\": 1, \"Count\": 2}, {\"DailyRate\": 1434, \"JobLevel\": 1, \"Count\": 1}, {\"DailyRate\": 1434, \"JobLevel\": 3, \"Count\": 1}, {\"DailyRate\": 1435, \"JobLevel\": 3, \"Count\": 1}, {\"DailyRate\": 1436, \"JobLevel\": 2, \"Count\": 1}, {\"DailyRate\": 1439, \"JobLevel\": 1, \"Count\": 1}, {\"DailyRate\": 1440, \"JobLevel\": 1, \"Count\": 1}, {\"DailyRate\": 1441, \"JobLevel\": 1, \"Count\": 1}, {\"DailyRate\": 1441, \"JobLevel\": 3, \"Count\": 1}, {\"DailyRate\": 1442, \"JobLevel\": 3, \"Count\": 1}, {\"DailyRate\": 1443, \"JobLevel\": 2, \"Count\": 2}, {\"DailyRate\": 1444, \"JobLevel\": 1, \"Count\": 1}, {\"DailyRate\": 1445, \"JobLevel\": 3, \"Count\": 1}, {\"DailyRate\": 1448, \"JobLevel\": 1, \"Count\": 1}, {\"DailyRate\": 1448, \"JobLevel\": 3, \"Count\": 1}, {\"DailyRate\": 1448, \"JobLevel\": 4, \"Count\": 1}, {\"DailyRate\": 1449, \"JobLevel\": 1, \"Count\": 1}, {\"DailyRate\": 1449, \"JobLevel\": 5, \"Count\": 1}, {\"DailyRate\": 1450, \"JobLevel\": 1, \"Count\": 1}, {\"DailyRate\": 1450, \"JobLevel\": 5, \"Count\": 1}, {\"DailyRate\": 1451, \"JobLevel\": 1, \"Count\": 1}, {\"DailyRate\": 1452, \"JobLevel\": 5, \"Count\": 1}, {\"DailyRate\": 1454, \"JobLevel\": 1, \"Count\": 1}, {\"DailyRate\": 1456, \"JobLevel\": 2, \"Count\": 1}, {\"DailyRate\": 1456, \"JobLevel\": 3, \"Count\": 1}, {\"DailyRate\": 1457, \"JobLevel\": 1, \"Count\": 1}, {\"DailyRate\": 1459, \"JobLevel\": 2, \"Count\": 1}, {\"DailyRate\": 1462, \"JobLevel\": 1, \"Count\": 1}, {\"DailyRate\": 1462, \"JobLevel\": 3, \"Count\": 1}, {\"DailyRate\": 1463, \"JobLevel\": 2, \"Count\": 1}, {\"DailyRate\": 1464, \"JobLevel\": 5, \"Count\": 1}, {\"DailyRate\": 1465, \"JobLevel\": 1, \"Count\": 1}, {\"DailyRate\": 1467, \"JobLevel\": 1, \"Count\": 1}, {\"DailyRate\": 1467, \"JobLevel\": 3, \"Count\": 1}, {\"DailyRate\": 1469, \"JobLevel\": 1, \"Count\": 3}, {\"DailyRate\": 1469, \"JobLevel\": 3, \"Count\": 1}, {\"DailyRate\": 1470, \"JobLevel\": 1, \"Count\": 1}, {\"DailyRate\": 1473, \"JobLevel\": 2, \"Count\": 1}, {\"DailyRate\": 1474, \"JobLevel\": 1, \"Count\": 1}, {\"DailyRate\": 1474, \"JobLevel\": 2, \"Count\": 1}, {\"DailyRate\": 1475, \"JobLevel\": 2, \"Count\": 2}, {\"DailyRate\": 1476, \"JobLevel\": 2, \"Count\": 3}, {\"DailyRate\": 1479, \"JobLevel\": 2, \"Count\": 1}, {\"DailyRate\": 1479, \"JobLevel\": 4, \"Count\": 1}, {\"DailyRate\": 1480, \"JobLevel\": 1, \"Count\": 1}, {\"DailyRate\": 1480, \"JobLevel\": 3, \"Count\": 1}, {\"DailyRate\": 1482, \"JobLevel\": 5, \"Count\": 1}, {\"DailyRate\": 1485, \"JobLevel\": 1, \"Count\": 1}, {\"DailyRate\": 1485, \"JobLevel\": 2, \"Count\": 1}, {\"DailyRate\": 1485, \"JobLevel\": 3, \"Count\": 1}, {\"DailyRate\": 1488, \"JobLevel\": 2, \"Count\": 1}, {\"DailyRate\": 1490, \"JobLevel\": 1, \"Count\": 2}, {\"DailyRate\": 1490, \"JobLevel\": 3, \"Count\": 1}, {\"DailyRate\": 1490, \"JobLevel\": 4, \"Count\": 1}, {\"DailyRate\": 1492, \"JobLevel\": 3, \"Count\": 1}, {\"DailyRate\": 1495, \"JobLevel\": 1, \"Count\": 1}, {\"DailyRate\": 1495, \"JobLevel\": 2, \"Count\": 2}, {\"DailyRate\": 1496, \"JobLevel\": 1, \"Count\": 1}, {\"DailyRate\": 1496, \"JobLevel\": 2, \"Count\": 1}, {\"DailyRate\": 1498, \"JobLevel\": 2, \"Count\": 1}, {\"DailyRate\": 1499, \"JobLevel\": 3, \"Count\": 1}]}}, {\"mode\": \"vega-lite\"});\n",
              "</script>"
            ],
            "text/plain": [
              "alt.Chart(...)"
            ]
          },
          "metadata": {},
          "execution_count": 28
        }
      ],
      "source": [
        "# Create a box plot of DailyRate by JobLevel\n",
        "\n",
        "# Calculate employee counts\n",
        "JobLevel_DailyRate_grouping = df.groupby(['DailyRate', 'JobLevel']).size().reset_index(name='Count')\n",
        "\n",
        "# Create a boxplot\n",
        "Boxplot_JobLevel_DailyRate = alt.Chart(JobLevel_DailyRate_grouping).mark_boxplot().encode(\n",
        "    x='JobLevel:O',  # Ordinal data for JobLevel\n",
        "    y='DailyRate:Q'  # Quantitative data for DailyRate\n",
        ").properties(\n",
        "    width=500,\n",
        "    height=300,\n",
        "    title='MonthlyRate Distribution by JobLevel'\n",
        ")\n",
        "\n",
        "# Customize the appearance of the chart (optional)\n",
        "Boxplot_JobLevel_DailyRate = Boxplot_JobLevel_DailyRate.configure_title(\n",
        "    fontSize=20,\n",
        "    font='Arial',\n",
        "    anchor='start',\n",
        "    color='gray'\n",
        ")\n",
        "\n",
        "# Display the chart\n",
        "Boxplot_JobLevel_DailyRate"
      ]
    },
    {
      "cell_type": "markdown",
      "metadata": {
        "id": "95y3Q-XZtmom"
      },
      "source": [
        "**What can we interpret from this visual? (It may make sense to take the previous one into consideration, in terms of performing further analysis as to some underlying causes)\n",
        "\n",
        "the following graph tells us what diffrences there is in the daily rate compared to diffrent job levels\n",
        "\n",
        "We can therefore conclude that the daily rates mean is pretty similar, alongside with minor diffrences in min and max compared across the 5 diffrent job levels**"
      ]
    },
    {
      "cell_type": "markdown",
      "metadata": {
        "id": "lwb5eG2YGHeH"
      },
      "source": [
        "# **The End**"
      ]
    },
    {
      "cell_type": "markdown",
      "metadata": {
        "id": "L1wV4AcwCLHX"
      },
      "source": [
        "**You made it to the end! Good job!**\n",
        "\n",
        "![](https://aaubs.github.io/ds-master/media/M1-ass1-img7.png)"
      ]
    },
    {
      "cell_type": "markdown",
      "metadata": {
        "id": "KaRPlzCqPlKj"
      },
      "source": [
        "**I highly encourage you to keep playing around with this dataset, or other similar datasets that have a good amount of features to perform EDA and visualizations with. It's a good way to sharpen those coding skillz, and will help you perform in-depth analysis in your future careers. As you can see, Altair, pyplot and Seaborn are strong visualization libraries, and having knowledge of how best to deploy these visualizations, you can add some *KAPOW* to your analysis. Kaggle.com provides plenty of cool datasets for a vast variety of analysis and applications**"
      ]
    }
  ],
  "metadata": {
    "colab": {
      "provenance": []
    },
    "kernelspec": {
      "display_name": "Python 3",
      "name": "python3"
    },
    "language_info": {
      "name": "python"
    }
  },
  "nbformat": 4,
  "nbformat_minor": 0
}